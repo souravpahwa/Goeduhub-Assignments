{
  "nbformat": 4,
  "nbformat_minor": 0,
  "metadata": {
    "colab": {
      "name": "Task_4.ipynb",
      "provenance": [],
      "include_colab_link": true
    },
    "kernelspec": {
      "name": "python3",
      "display_name": "Python 3"
    },
    "language_info": {
      "name": "python"
    }
  },
  "cells": [
    {
      "cell_type": "markdown",
      "metadata": {
        "id": "view-in-github",
        "colab_type": "text"
      },
      "source": [
        "<a href=\"https://colab.research.google.com/github/Sourav61/Goeduhub-Assignments/blob/main/Task_4.ipynb\" target=\"_parent\"><img src=\"https://colab.research.google.com/assets/colab-badge.svg\" alt=\"Open In Colab\"/></a>"
      ]
    },
    {
      "cell_type": "markdown",
      "metadata": {
        "id": "9i4vdHiW2zew"
      },
      "source": [
        "Author <a href = \"https://github.com/Sourav61\">Sourav Pahwa</a>\n",
        "<br>ID: GO_STP_13420\n",
        "\n",
        "<b> Assignment/Task 4\n",
        " <br> Question on Numpy</b>\n"
      ]
    },
    {
      "cell_type": "code",
      "metadata": {
        "colab": {
          "base_uri": "https://localhost:8080/"
        },
        "id": "OgJjGRQYxhY3",
        "outputId": "3d69b527-e818-4fb1-8d85-4dd8d3b3d59a"
      },
      "source": [
        "from google.colab import drive\n",
        "drive.mount('/content/drive')"
      ],
      "execution_count": 1,
      "outputs": [
        {
          "output_type": "stream",
          "text": [
            "Mounted at /content/drive\n"
          ],
          "name": "stdout"
        }
      ]
    },
    {
      "cell_type": "markdown",
      "metadata": {
        "id": "V8raTUdb2-6r"
      },
      "source": [
        "<b>Q1)</b> Import the numpy package under the name np and Print the numpy version and the configuration? "
      ]
    },
    {
      "cell_type": "code",
      "metadata": {
        "colab": {
          "base_uri": "https://localhost:8080/"
        },
        "id": "XPDOX7mV16HI",
        "outputId": "cb99e509-e1ff-4644-bf1a-5fb832b08c53"
      },
      "source": [
        "import numpy as np\n",
        "print(np.__version__)\n",
        "np.show_config()"
      ],
      "execution_count": null,
      "outputs": [
        {
          "output_type": "stream",
          "text": [
            "1.19.5\n",
            "blas_mkl_info:\n",
            "  NOT AVAILABLE\n",
            "blis_info:\n",
            "  NOT AVAILABLE\n",
            "openblas_info:\n",
            "    libraries = ['openblas', 'openblas']\n",
            "    library_dirs = ['/usr/local/lib']\n",
            "    language = c\n",
            "    define_macros = [('HAVE_CBLAS', None)]\n",
            "blas_opt_info:\n",
            "    libraries = ['openblas', 'openblas']\n",
            "    library_dirs = ['/usr/local/lib']\n",
            "    language = c\n",
            "    define_macros = [('HAVE_CBLAS', None)]\n",
            "lapack_mkl_info:\n",
            "  NOT AVAILABLE\n",
            "openblas_lapack_info:\n",
            "    libraries = ['openblas', 'openblas']\n",
            "    library_dirs = ['/usr/local/lib']\n",
            "    language = c\n",
            "    define_macros = [('HAVE_CBLAS', None)]\n",
            "lapack_opt_info:\n",
            "    libraries = ['openblas', 'openblas']\n",
            "    library_dirs = ['/usr/local/lib']\n",
            "    language = c\n",
            "    define_macros = [('HAVE_CBLAS', None)]\n"
          ],
          "name": "stdout"
        }
      ]
    },
    {
      "cell_type": "markdown",
      "metadata": {
        "id": "KeF3Lur03FuA"
      },
      "source": [
        "<b>Q2)</b> Create a null vector of size 10"
      ]
    },
    {
      "cell_type": "code",
      "metadata": {
        "colab": {
          "base_uri": "https://localhost:8080/"
        },
        "id": "BD2QjY1M2Pxe",
        "outputId": "7ab90dd8-5f60-4d7a-fd8b-5114fa029843"
      },
      "source": [
        "print(np.zeros(10))"
      ],
      "execution_count": null,
      "outputs": [
        {
          "output_type": "stream",
          "text": [
            "[0. 0. 0. 0. 0. 0. 0. 0. 0. 0.]\n"
          ],
          "name": "stdout"
        }
      ]
    },
    {
      "cell_type": "markdown",
      "metadata": {
        "id": "HAs29RzT3LPH"
      },
      "source": [
        "<b>Q3)</b> Create Simple 1-D array and check type and check data types in array"
      ]
    },
    {
      "cell_type": "code",
      "metadata": {
        "colab": {
          "base_uri": "https://localhost:8080/"
        },
        "id": "Pj6ryg_62qNm",
        "outputId": "588a0ae9-231f-4073-b7a1-cdbf0c6d3755"
      },
      "source": [
        "a = np.array([1, 2, 3, 4, 5])\n",
        "\n",
        "print(a)\n",
        "\n",
        "print(type(a))\n",
        "\n",
        "print(a.dtype)"
      ],
      "execution_count": null,
      "outputs": [
        {
          "output_type": "stream",
          "text": [
            "[1 2 3 4 5]\n",
            "<class 'numpy.ndarray'>\n",
            "int64\n"
          ],
          "name": "stdout"
        }
      ]
    },
    {
      "cell_type": "markdown",
      "metadata": {
        "id": "TduRDT5D3Gbn"
      },
      "source": [
        "<b>Q4)</b> How to find number of dimensions, bytes per element and bytes of memory used?"
      ]
    },
    {
      "cell_type": "code",
      "metadata": {
        "colab": {
          "base_uri": "https://localhost:8080/"
        },
        "id": "UOKwP4zA3GtW",
        "outputId": "5e0b7ce9-e092-48c2-df33-14b6efe01335"
      },
      "source": [
        "x = np.array([[10, 20, 30],\n",
        "              [40, 50, 60]])\n",
        "\n",
        "print(\"The number of the given numpy array is: \",np.ndim)  \n",
        "\n",
        "print(\"Size of the array: \", x.size)\n",
        "\n",
        "print(\"Memory size of an element in bytes: \", x.itemsize)\n",
        "\n",
        "print(\"Memory size used by numpy array in bytes:\", x.size * x.itemsize)"
      ],
      "execution_count": null,
      "outputs": [
        {
          "output_type": "stream",
          "text": [
            "The number of the given numpy array is:  <function ndim at 0x7f32b746d560>\n",
            "Size of the array:  6\n",
            "Memory size of an element in bytes:  8\n",
            "Memory size used by numpy array in bytes: 48\n"
          ],
          "name": "stdout"
        }
      ]
    },
    {
      "cell_type": "markdown",
      "metadata": {
        "id": "WJKym-po3Gzm"
      },
      "source": [
        "<b>Q5)</b> Create a null vector of size 10 but the fifth value which is 1"
      ]
    },
    {
      "cell_type": "code",
      "metadata": {
        "colab": {
          "base_uri": "https://localhost:8080/"
        },
        "id": "KfGVHy0Q3G4n",
        "outputId": "a28cf64a-1fd6-4ca1-a631-52db749c69af"
      },
      "source": [
        "a = np.zeros(10)\n",
        "print(a)\n",
        "a[4]=1\n",
        "print(\"After updating the 5th postion of original array with 1,now our nupy array becomes: \\n\",a)"
      ],
      "execution_count": null,
      "outputs": [
        {
          "output_type": "stream",
          "text": [
            "[0. 0. 0. 0. 0. 0. 0. 0. 0. 0.]\n",
            "After updating the 5th postion of original array with 1,now our nupy array becomes: \n",
            " [0. 0. 0. 0. 1. 0. 0. 0. 0. 0.]\n"
          ],
          "name": "stdout"
        }
      ]
    },
    {
      "cell_type": "markdown",
      "metadata": {
        "id": "TCWh50Xr3G-e"
      },
      "source": [
        "<b>Q6)</b> Create a vector with values ranging from 10 to 49"
      ]
    },
    {
      "cell_type": "code",
      "metadata": {
        "colab": {
          "base_uri": "https://localhost:8080/"
        },
        "id": "uRNoTF213HDh",
        "outputId": "5122b14f-83f1-421e-c9cc-1a8cba3117d3"
      },
      "source": [
        "a = np.arange(10,50)\n",
        "print(a)"
      ],
      "execution_count": null,
      "outputs": [
        {
          "output_type": "stream",
          "text": [
            "[10 11 12 13 14 15 16 17 18 19 20 21 22 23 24 25 26 27 28 29 30 31 32 33\n",
            " 34 35 36 37 38 39 40 41 42 43 44 45 46 47 48 49]\n"
          ],
          "name": "stdout"
        }
      ]
    },
    {
      "cell_type": "markdown",
      "metadata": {
        "id": "mioUoqm73HJ6"
      },
      "source": [
        "<b>Q7)</b> Reverse a vector (first element becomes last)"
      ]
    },
    {
      "cell_type": "code",
      "metadata": {
        "colab": {
          "base_uri": "https://localhost:8080/"
        },
        "id": "h3xe4LNE3HPD",
        "outputId": "3c8c0ddc-26dd-4149-b669-292f960b46ef"
      },
      "source": [
        "a = np.arange(20)\n",
        "\n",
        "print(\"The Numpy array created is: \",a)\n",
        "\n",
        "print(\"The reversed vector(1-d numpy array) is: \",a[::-1])"
      ],
      "execution_count": null,
      "outputs": [
        {
          "output_type": "stream",
          "text": [
            "The Numpy array created is:  [ 0  1  2  3  4  5  6  7  8  9 10 11 12 13 14 15 16 17 18 19]\n",
            "The reversed vector(1-d numpy array) is:  [19 18 17 16 15 14 13 12 11 10  9  8  7  6  5  4  3  2  1  0]\n"
          ],
          "name": "stdout"
        }
      ]
    },
    {
      "cell_type": "markdown",
      "metadata": {
        "id": "3wvm4znu3HT1"
      },
      "source": [
        "<b>Q8)</b> Create a 3x3 matrix with values ranging from 0 to 8"
      ]
    },
    {
      "cell_type": "code",
      "metadata": {
        "colab": {
          "base_uri": "https://localhost:8080/"
        },
        "id": "pVraF7kC3HYI",
        "outputId": "f3452e93-a2f9-432a-c9ff-f6de45400fef"
      },
      "source": [
        "a = np.arange(9)\n",
        "print(a.reshape(3,3))"
      ],
      "execution_count": null,
      "outputs": [
        {
          "output_type": "stream",
          "text": [
            "[[0 1 2]\n",
            " [3 4 5]\n",
            " [6 7 8]]\n"
          ],
          "name": "stdout"
        }
      ]
    },
    {
      "cell_type": "markdown",
      "metadata": {
        "id": "gVXIa8gZ3Hda"
      },
      "source": [
        "<b>Q9)</b> Find indices of non-zero elements from [1,2,0,0,4,0]"
      ]
    },
    {
      "cell_type": "code",
      "metadata": {
        "colab": {
          "base_uri": "https://localhost:8080/"
        },
        "id": "UEI-ze893Hif",
        "outputId": "e646f020-9681-42c9-85b0-3f418c60c478"
      },
      "source": [
        "nums = np.array([1,2,0,0,4,0])\n",
        "print(\"Original array:\")\n",
        "print(nums)\n",
        "print(\"Indices of elements equal to zero of the said array:\")\n",
        "for i in range(nums.size):\n",
        "  if nums[i] != 0:\n",
        "    print(nums[i], end=\" \") "
      ],
      "execution_count": null,
      "outputs": [
        {
          "output_type": "stream",
          "text": [
            "Original array:\n",
            "[1 2 0 0 4 0]\n",
            "Indices of elements equal to zero of the said array:\n",
            "1 2 4 "
          ],
          "name": "stdout"
        }
      ]
    },
    {
      "cell_type": "markdown",
      "metadata": {
        "id": "tmwoTiEb3Hnf"
      },
      "source": [
        "<b>Q10)</b> Create a 3x3 identity matrix"
      ]
    },
    {
      "cell_type": "code",
      "metadata": {
        "colab": {
          "base_uri": "https://localhost:8080/"
        },
        "id": "6cxrl7vj3HsJ",
        "outputId": "2e0be6e0-115c-40ea-dc36-af755f2ed7fe"
      },
      "source": [
        "print(np.ones(9).reshape(3,3))"
      ],
      "execution_count": null,
      "outputs": [
        {
          "output_type": "stream",
          "text": [
            "[[1. 1. 1.]\n",
            " [1. 1. 1.]\n",
            " [1. 1. 1.]]\n"
          ],
          "name": "stdout"
        }
      ]
    },
    {
      "cell_type": "markdown",
      "metadata": {
        "id": "sFBJESvQ3HxI"
      },
      "source": [
        "<b>Q11)</b> Create a 3x3x3 array with random values"
      ]
    },
    {
      "cell_type": "code",
      "metadata": {
        "colab": {
          "base_uri": "https://localhost:8080/"
        },
        "id": "HLW3r6JS3H1p",
        "outputId": "a3119305-36c2-4244-ddb4-c2a143ee1970"
      },
      "source": [
        "a = np.random.random((3,3,3))\n",
        "print(a)"
      ],
      "execution_count": null,
      "outputs": [
        {
          "output_type": "stream",
          "text": [
            "[[[0.59706767 0.9386971  0.1055367 ]\n",
            "  [0.50092591 0.46778236 0.04688149]\n",
            "  [0.7431745  0.51572212 0.44310196]]\n",
            "\n",
            " [[0.77768537 0.13931581 0.66605149]\n",
            "  [0.07849234 0.8043758  0.77449974]\n",
            "  [0.50291669 0.99098981 0.68846193]]\n",
            "\n",
            " [[0.27516443 0.4007467  0.23463028]\n",
            "  [0.6642409  0.30231542 0.91504537]\n",
            "  [0.11786143 0.62288804 0.70190441]]]\n"
          ],
          "name": "stdout"
        }
      ]
    },
    {
      "cell_type": "markdown",
      "metadata": {
        "id": "3lEDSZqH3H53"
      },
      "source": [
        "<b>Q12)</b> Create a 10x10 array with random values and find the minimum and maximum values"
      ]
    },
    {
      "cell_type": "code",
      "metadata": {
        "colab": {
          "base_uri": "https://localhost:8080/"
        },
        "id": "rnPHe6jd3H-5",
        "outputId": "9d5ca3b7-5ebe-47db-c879-0de3dfca0527"
      },
      "source": [
        "a = np.random.random((10,10))\n",
        "print(\"The random numpy array generated is: \\n\",a)\n",
        "print(\"The minimum value of random array generated is: \",a.min())\n",
        "print(\"The maximum value of random array generated is: \",a.max())"
      ],
      "execution_count": null,
      "outputs": [
        {
          "output_type": "stream",
          "text": [
            "The random numpy array generated is: \n",
            " [[0.03420309 0.01672496 0.28553144 0.95797138 0.56261529 0.23208315\n",
            "  0.83047402 0.49401682 0.6459628  0.00547783]\n",
            " [0.73293032 0.23824832 0.01349858 0.34184982 0.10333135 0.6612434\n",
            "  0.64842409 0.88228225 0.42415946 0.53036432]\n",
            " [0.25301608 0.88323592 0.47811294 0.95610108 0.55468235 0.98618547\n",
            "  0.00614637 0.54083859 0.61822645 0.05690923]\n",
            " [0.37751482 0.46936949 0.2242063  0.24320132 0.46779276 0.81999088\n",
            "  0.81588768 0.98172245 0.75361509 0.58488951]\n",
            " [0.49823283 0.59154022 0.15582095 0.07095983 0.5341975  0.89097181\n",
            "  0.99407967 0.97910082 0.48287099 0.81001598]\n",
            " [0.84650295 0.80063283 0.73424129 0.15473051 0.86644737 0.15663241\n",
            "  0.6979614  0.2872118  0.95010592 0.10353785]\n",
            " [0.1780891  0.25919449 0.89388978 0.61571911 0.06471082 0.5543846\n",
            "  0.55191734 0.35950144 0.07798711 0.93004301]\n",
            " [0.72801767 0.40338574 0.10334213 0.83995985 0.72262688 0.82487145\n",
            "  0.41547107 0.79508502 0.91263965 0.42355395]\n",
            " [0.64908794 0.36105526 0.04867383 0.33480657 0.51746713 0.40891352\n",
            "  0.78497542 0.6666766  0.1888204  0.86627267]\n",
            " [0.13629704 0.35220202 0.06165457 0.45555982 0.269182   0.61665393\n",
            "  0.55915705 0.24346897 0.8879885  0.25593181]]\n",
            "The minimum value of random array generated is:  0.005477834100423573\n",
            "The maximum value of random array generated is:  0.9940796727222565\n"
          ],
          "name": "stdout"
        }
      ]
    },
    {
      "cell_type": "markdown",
      "metadata": {
        "id": "FrsioocI3IDs"
      },
      "source": [
        "<b>Q13)</b> Create a random vector of size 30 and find the mean value"
      ]
    },
    {
      "cell_type": "code",
      "metadata": {
        "colab": {
          "base_uri": "https://localhost:8080/"
        },
        "id": "Lu39F6JK3III",
        "outputId": "d0ef0558-3bbc-4135-beae-3a1d1d734948"
      },
      "source": [
        "a = np.random.random(30)\n",
        "a.mean()"
      ],
      "execution_count": null,
      "outputs": [
        {
          "output_type": "execute_result",
          "data": {
            "text/plain": [
              "0.5163323146521945"
            ]
          },
          "metadata": {
            "tags": []
          },
          "execution_count": 13
        }
      ]
    },
    {
      "cell_type": "markdown",
      "metadata": {
        "id": "hdHpMGUn3IM6"
      },
      "source": [
        "<b>Q14)</b> Create a 2d array with 1 on the border and 0 inside"
      ]
    },
    {
      "cell_type": "code",
      "metadata": {
        "colab": {
          "base_uri": "https://localhost:8080/"
        },
        "id": "xpJS4_c53IRN",
        "outputId": "626933fd-2dd3-4e3c-c1f9-a034aac5a5b8"
      },
      "source": [
        "a = np.ones((10,10))\n",
        "a[1:-1,1:-1] = 0\n",
        "print(a)"
      ],
      "execution_count": null,
      "outputs": [
        {
          "output_type": "stream",
          "text": [
            "[[1. 1. 1. 1. 1. 1. 1. 1. 1. 1.]\n",
            " [1. 0. 0. 0. 0. 0. 0. 0. 0. 1.]\n",
            " [1. 0. 0. 0. 0. 0. 0. 0. 0. 1.]\n",
            " [1. 0. 0. 0. 0. 0. 0. 0. 0. 1.]\n",
            " [1. 0. 0. 0. 0. 0. 0. 0. 0. 1.]\n",
            " [1. 0. 0. 0. 0. 0. 0. 0. 0. 1.]\n",
            " [1. 0. 0. 0. 0. 0. 0. 0. 0. 1.]\n",
            " [1. 0. 0. 0. 0. 0. 0. 0. 0. 1.]\n",
            " [1. 0. 0. 0. 0. 0. 0. 0. 0. 1.]\n",
            " [1. 1. 1. 1. 1. 1. 1. 1. 1. 1.]]\n"
          ],
          "name": "stdout"
        }
      ]
    },
    {
      "cell_type": "markdown",
      "metadata": {
        "id": "HBs5BBp13IWO"
      },
      "source": [
        "<b>Q15)</b> How to add a border (filled with 0's) around an existing array? "
      ]
    },
    {
      "cell_type": "code",
      "metadata": {
        "colab": {
          "base_uri": "https://localhost:8080/"
        },
        "id": "MvJNBUU73IaN",
        "outputId": "60738235-6576-42a9-9ddb-6eb1a2f77d43"
      },
      "source": [
        "x = np.ones((3,3))\n",
        "print(\"Original array is: \\n\",x,\"\\n\")\n",
        "\n",
        "x = np.pad(x, pad_width=1, mode='constant', constant_values=0)\n",
        "print(\"The required array is: \\n\",x)"
      ],
      "execution_count": null,
      "outputs": [
        {
          "output_type": "stream",
          "text": [
            "Original array is: \n",
            " [[1. 1. 1.]\n",
            " [1. 1. 1.]\n",
            " [1. 1. 1.]] \n",
            "\n",
            "The required array is: \n",
            " [[0. 0. 0. 0. 0.]\n",
            " [0. 1. 1. 1. 0.]\n",
            " [0. 1. 1. 1. 0.]\n",
            " [0. 1. 1. 1. 0.]\n",
            " [0. 0. 0. 0. 0.]]\n"
          ],
          "name": "stdout"
        }
      ]
    },
    {
      "cell_type": "markdown",
      "metadata": {
        "id": "pZZINuG33IfX"
      },
      "source": [
        "<b>Q16)</b> How to Accessing/Changing specific elements, rows, columns, etc in Numpy array?\n",
        "\n",
        "Example -\n",
        "[[ 1 2 3 4 5 6 7] [ 8 9 10 11 12 13 14]]\n",
        "\n",
        "Get 13, get first row only, get 3rd column only, get [2, 4, 6], replace 13 by 20"
      ]
    },
    {
      "cell_type": "code",
      "metadata": {
        "id": "2ekcI6g23Ipn",
        "colab": {
          "base_uri": "https://localhost:8080/"
        },
        "outputId": "5d4c500e-b1b9-42d7-b349-329711d8bed3"
      },
      "source": [
        "a = np.array([[1,2,3,4,5,6,7],[8,9,10,11,12,13,14]])\n",
        "\n",
        "print(a[1,5],\"\\n\")\n",
        "\n",
        "print(a[0,:],\"\\n\")\n",
        "\n",
        "print(a[:,2],\"\\n\")\n",
        "\n",
        "print(a[0,:][1:6:2],\"\\n\")\n",
        "\n",
        "a[1,5]=20\n",
        "print(a)"
      ],
      "execution_count": null,
      "outputs": [
        {
          "output_type": "stream",
          "text": [
            "13 \n",
            "\n",
            "[1 2 3 4 5 6 7] \n",
            "\n",
            "[ 3 10] \n",
            "\n",
            "[2 4 6] \n",
            "\n",
            "[[ 1  2  3  4  5  6  7]\n",
            " [ 8  9 10 11 12 20 14]]\n"
          ],
          "name": "stdout"
        }
      ]
    },
    {
      "cell_type": "markdown",
      "metadata": {
        "id": "Ebe6MOT43rXt"
      },
      "source": [
        "<b>Q17)</b> How to Convert a 1D array to a 2D array with 2 rows"
      ]
    },
    {
      "cell_type": "code",
      "metadata": {
        "id": "g51YvPzd3rfU",
        "colab": {
          "base_uri": "https://localhost:8080/"
        },
        "outputId": "6cd00220-1f17-480f-a66e-1155cc67bd49"
      },
      "source": [
        "a = np.zeros(4)\n",
        "print(\"The one dimensional array used here is: \",a,\"\\n\")\n",
        "arr = a.reshape(2, 2)\n",
        "print(\"The 2-D array produced from 1D array is: \\n\")\n",
        "print(arr)"
      ],
      "execution_count": null,
      "outputs": [
        {
          "output_type": "stream",
          "text": [
            "The one dimensional array used here is:  [0. 0. 0. 0.] \n",
            "\n",
            "The 2-D array produced from 1D array is: \n",
            "\n",
            "[[0. 0.]\n",
            " [0. 0.]]\n"
          ],
          "name": "stdout"
        }
      ]
    },
    {
      "cell_type": "markdown",
      "metadata": {
        "id": "ulSmhRdV3rjy"
      },
      "source": [
        "<b>Q18)</b> Create the following pattern without hardcoding. Use only numpy functions and the below input array a.\n",
        "\n",
        "<b>Input:</b>\n",
        "\n",
        "a = np.array([1,2,3])`\n",
        "\n",
        "<b>Desired Output:</b>\n",
        "\n",
        "# array([1, 1, 1, 2, 2, 2, 3, 3, 3, 1, 2, 3, 1, 2, 3, 1, 2, 3])"
      ]
    },
    {
      "cell_type": "code",
      "metadata": {
        "id": "fED22PTe3rpe",
        "colab": {
          "base_uri": "https://localhost:8080/"
        },
        "outputId": "f3be500b-6e74-4621-8029-e75867949aa6"
      },
      "source": [
        "a=np.array([1,2,3])\n",
        "print(\"The given array is: \\n\",a,\"\\n\")\n",
        "print(\"The required output is: \\n\",np.r_[np.repeat(a, 3), np.tile(a, 3)])"
      ],
      "execution_count": null,
      "outputs": [
        {
          "output_type": "stream",
          "text": [
            "The given array is: \n",
            " [1 2 3] \n",
            "\n",
            "The required output is: \n",
            " [1 1 1 2 2 2 3 3 3 1 2 3 1 2 3 1 2 3]\n"
          ],
          "name": "stdout"
        }
      ]
    },
    {
      "cell_type": "markdown",
      "metadata": {
        "id": "BOvYpReT3rvP"
      },
      "source": [
        "<b>Q19) Write a program to show how Numpy taking less memory compared to Python List?</b>\n",
        "\n",
        "Ans) A nd-array in Numpy has faster computational speed and less memory required to complete a specific programs whereas a list takes a lot more memory in pyhton."
      ]
    },
    {
      "cell_type": "code",
      "metadata": {
        "id": "ls44Lnjf3r0C",
        "colab": {
          "base_uri": "https://localhost:8080/"
        },
        "outputId": "1359f11f-57f8-4f1e-aa78-092bb9ca60d9"
      },
      "source": [
        "l = range(10000)\n",
        "\n",
        "import sys\n",
        "\n",
        "a = 10\n",
        "print(sys.getsizeof(a))\n",
        "\n",
        "print(sys.getsizeof(a)*len(l))\n",
        "\n",
        "a1 = np.arange(1000)\n",
        "print(a1.size*a1.itemsize)"
      ],
      "execution_count": null,
      "outputs": [
        {
          "output_type": "stream",
          "text": [
            "28\n",
            "280000\n",
            "8000\n"
          ],
          "name": "stdout"
        }
      ]
    },
    {
      "cell_type": "markdown",
      "metadata": {
        "id": "mauHmzBB3r5k"
      },
      "source": [
        "<b>Q20) Write a program to show how Numpy taking less time compared to Python List? </b>\n",
        "\n",
        "Ans) A nd-array in Numpy has faster computational speed and less memory required to complete a specific programs whereas a list takes a lot more memory in pyhton."
      ]
    },
    {
      "cell_type": "code",
      "metadata": {
        "id": "R6skWvx-3r9j",
        "colab": {
          "base_uri": "https://localhost:8080/"
        },
        "outputId": "461c6fe0-18f1-4976-92ac-d4459dbe75e6"
      },
      "source": [
        "import time \n",
        "import sys\n",
        "\n",
        "size = 1000000\n",
        "\n",
        "a = range(size)\n",
        "b = range(size)\n",
        "\n",
        "#For pytho Lists\n",
        "start = time.time()\n",
        "result=  [(x+y) for x,y in zip(a,b)]\n",
        "print((time.time()-start)*1000)\n",
        "\n",
        "#For Numpy\n",
        "start = time.time()\n",
        "print((time.time()-start)*1000)"
      ],
      "execution_count": null,
      "outputs": [
        {
          "output_type": "stream",
          "text": [
            "97.33891487121582\n",
            "0.028133392333984375\n"
          ],
          "name": "stdout"
        }
      ]
    }
  ]
}
