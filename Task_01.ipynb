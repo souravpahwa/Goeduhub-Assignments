{
  "nbformat": 4,
  "nbformat_minor": 0,
  "metadata": {
    "colab": {
      "name": "Task_1.ipynb",
      "provenance": [],
      "include_colab_link": true
    },
    "kernelspec": {
      "name": "python3",
      "display_name": "Python 3"
    },
    "language_info": {
      "name": "python"
    }
  },
  "cells": [
    {
      "cell_type": "markdown",
      "metadata": {
        "id": "view-in-github",
        "colab_type": "text"
      },
      "source": [
        "<a href=\"https://colab.research.google.com/github/Sourav61/Goeduhub-Assignments/blob/main/Task_1.ipynb\" target=\"_parent\"><img src=\"https://colab.research.google.com/assets/colab-badge.svg\" alt=\"Open In Colab\"/></a>"
      ]
    },
    {
      "cell_type": "markdown",
      "metadata": {
        "id": "5ILaZjNWejAs"
      },
      "source": [
        "Author: <b><a href=\"https://github.com/Sourav61\">Sourav Pahwa</a></b>\n",
        "\n",
        "ID: GO_STP_13420"
      ]
    },
    {
      "cell_type": "code",
      "metadata": {
        "colab": {
          "base_uri": "https://localhost:8080/"
        },
        "id": "K7M8OkUGvrt5",
        "outputId": "abf8081c-01c1-47ae-8d18-ea706b5e3d63"
      },
      "source": [
        "from google.colab import drive\n",
        "drive.mount('/content/drive')"
      ],
      "execution_count": 1,
      "outputs": [
        {
          "output_type": "stream",
          "text": [
            "Mounted at /content/drive\n"
          ],
          "name": "stdout"
        }
      ]
    },
    {
      "cell_type": "markdown",
      "metadata": {
        "id": "2-uLqDuMnYeG"
      },
      "source": [
        "<b>1.</b> We are having 3 list like this\n",
        "\n",
        "<b>Colors = [“Yellow”,”Green”,”White”,”Black”]</b>\n",
        "\n",
        "<b>Fruits=[“Apple”,”Papaya”,”Mango”,”Orange”]</b>\n",
        "\n",
        "<b>Animals=[“Tiger”,”Lion”,”Deer”,”Zebra”]</b>\n",
        "\n",
        "  i. Write a program that asks user to enter a Color/Fruit/Animal name and it should tell which category belongs to , like its is a fruit or color or Animal\n",
        "\n",
        " ii. Write a program that asks user to enter two cities and it tells you if they both are in same country or not. For example if I enter yellow and Black, it will print \"Both are colors\" but if I enter yellow and Tiger it should print \"They don't belong to same category\""
      ]
    },
    {
      "cell_type": "code",
      "metadata": {
        "id": "5CkP460smmRZ"
      },
      "source": [
        "Colors = [\"Yellow\", \"Green\",\"White\",\"Black\"]\n",
        "\n",
        "Fruits=[\"Apple\",\"Papaya\",\"Mango\",\"Orange\"]\n",
        "\n",
        "Animals=[\"Tiger\",\"Lion\",\"Deer\",\"Zebra\"]"
      ],
      "execution_count": null,
      "outputs": []
    },
    {
      "cell_type": "code",
      "metadata": {
        "colab": {
          "base_uri": "https://localhost:8080/"
        },
        "id": "iiFQW_DBnupT",
        "outputId": "39bc4a19-918e-4e8f-cc6c-d5de371b9ce0"
      },
      "source": [
        "inp = input(\"Enter a Color/Fruit/Animal: \").title()\n",
        "\n",
        "if inp in Colors:\n",
        "  print(f\"{inp} is a Color\") \n",
        "elif inp in Fruits:\n",
        "  print(f\"{inp} is a Fruit\")\n",
        "elif inp in Animals:\n",
        "  print(f\"{inp} is an Animal\")\n",
        "else:\n",
        "  print(f\"{inp} is not present in any of the above lists\")"
      ],
      "execution_count": null,
      "outputs": [
        {
          "output_type": "stream",
          "text": [
            "Enter a Color/Fruit/Animal: yellow\n",
            "Yellow is a Color\n"
          ],
          "name": "stdout"
        }
      ]
    },
    {
      "cell_type": "code",
      "metadata": {
        "colab": {
          "base_uri": "https://localhost:8080/"
        },
        "id": "3vf2R_DDopiy",
        "outputId": "c5f6a48d-cf87-414c-d7c1-d7a84ca28a8b"
      },
      "source": [
        "# inp1 = input(\"Enter the first category: \").title()\n",
        "# inp2 = input(\"Enter the second category: \").title()\n",
        "\n",
        "# if inp1 in Colors and inp2 in Colors:\n",
        "#   print(f\"{inp1} and {inp2} both are present in Colors\")\n",
        "\n",
        "# if inp1 in Fruits and inp2 in Fruits:\n",
        "#   print(f\"{inp1} and {inp2} both are present in Fruits\")\n",
        "\n",
        "# if inp1 in Animals and inp2 in Animals:\n",
        "#   print(f\"{inp1} and {inp2} both are present in Animals\")\n",
        "\n",
        "nest = [[1,2,3],[4,5,6],[7,8,9]]\n",
        "\n",
        "a = [1,2,3]\n",
        "b = [4,5,6]\n",
        "s = []\n",
        "\n",
        "for (item1,item2) in zip(a,b):\n",
        "  s.append(item1+item2)\n",
        "print(s)"
      ],
      "execution_count": null,
      "outputs": [
        {
          "output_type": "stream",
          "text": [
            "[5, 7, 9]\n"
          ],
          "name": "stdout"
        }
      ]
    },
    {
      "cell_type": "markdown",
      "metadata": {
        "id": "HKwkgC6EwhTu"
      },
      "source": [
        "<b>2.</b>  Write a python program that can tell you if your grade score good or not . Normal Score range is 40 to 60.\n",
        "<b>\n",
        "\n",
        "  i. Ask user to enter his score.\n",
        "\n",
        "  ii. If it is below 40 to 60 range then print that score is low\n",
        "\n",
        "  iii. If it is above 60 then print that it is good otherwise print that it is normal\n",
        "</b>"
      ]
    },
    {
      "cell_type": "code",
      "metadata": {
        "id": "M40dO3czvpeg",
        "colab": {
          "base_uri": "https://localhost:8080/"
        },
        "outputId": "d4ff59d1-de59-4ea2-8b5f-958ef491fa0f"
      },
      "source": [
        "score = float(input(\"Enter your score\"))\n",
        "\n",
        "if score<=40:\n",
        "  print(f\"The Score {score} is low\")\n",
        "\n",
        "elif 40<score<60:\n",
        "  print(f\"The Score {score} is normal\")\n",
        "\n",
        "else:\n",
        "  print(f\"The Score {score} is good\")"
      ],
      "execution_count": null,
      "outputs": [
        {
          "output_type": "stream",
          "text": [
            "Enter your score55.5\n",
            "The Score 55.5 is normal\n"
          ],
          "name": "stdout"
        }
      ]
    },
    {
      "cell_type": "markdown",
      "metadata": {
        "id": "cA5ykmzMTxLf"
      },
      "source": [
        "<b>3.</b>  After appearing in exam 10 times you got this result,\n",
        "\n",
        "result = [\"Pass\",\"Fail\",\"Fail\",\"Pass\",\"Fail\",\"Pass\",\"Pass\",\"Fail\",\"Fail\",\"Fail\"]\n",
        "\n",
        "Using for loop figure out how many times you got Pass"
      ]
    },
    {
      "cell_type": "code",
      "metadata": {
        "colab": {
          "base_uri": "https://localhost:8080/"
        },
        "id": "sO2f_M-rUCJZ",
        "outputId": "c427e442-32e8-4531-d69f-df698e0a9fd1"
      },
      "source": [
        "result = [\"Pass\",\"Fail\",\"Fail\",\"Pass\",\"Fail\",\"Pass\",\"Pass\",\"Fail\",\"Fail\",\"Fail\"]\n",
        "sum=0\n",
        "\n",
        "for i in range(len(result)):\n",
        "  if result[i] == \"Pass\":\n",
        "    sum += 1\n",
        "\n",
        "print(f\"You have passed {sum} times\")"
      ],
      "execution_count": null,
      "outputs": [
        {
          "output_type": "stream",
          "text": [
            "You have passed 4 times\n"
          ],
          "name": "stdout"
        }
      ]
    },
    {
      "cell_type": "markdown",
      "metadata": {
        "id": "zsfvOA3WUCvF"
      },
      "source": [
        "<b>4.</b>  Write a program that prints following shape\n",
        "\n",
        "*\n",
        "\n",
        "* *\n",
        "\n",
        "* * *\n",
        "\n",
        "* * * *\n",
        "\n",
        "* * * * *\n",
        "\n",
        "* * * *\n",
        "\n",
        "* * *\n",
        "\n",
        "* *\n",
        "\n",
        "*"
      ]
    },
    {
      "cell_type": "code",
      "metadata": {
        "colab": {
          "base_uri": "https://localhost:8080/"
        },
        "id": "AQJuvGyfULa-",
        "outputId": "9239e82d-da0a-4c18-ddb8-945c8d2ed5b7"
      },
      "source": [
        "for i in range(0,6,1):\n",
        "  for j in range(i):\n",
        "    print(\"*\",end=\"\")\n",
        "  print(\"\\n\")\n",
        "\n",
        "for i in range(4,0,-1):\n",
        "  for j in range(i):\n",
        "    print(\"*\",end=\"\")\n",
        "  print(\"\\n\")"
      ],
      "execution_count": null,
      "outputs": [
        {
          "output_type": "stream",
          "text": [
            "\n",
            "\n",
            "*\n",
            "\n",
            "**\n",
            "\n",
            "***\n",
            "\n",
            "****\n",
            "\n",
            "*****\n",
            "\n",
            "****\n",
            "\n",
            "***\n",
            "\n",
            "**\n",
            "\n",
            "*\n",
            "\n"
          ],
          "name": "stdout"
        }
      ]
    },
    {
      "cell_type": "markdown",
      "metadata": {
        "id": "Ci_c1yETURbj"
      },
      "source": [
        "<b>5.</b>   Lets say you are running a 50 km race. Write a program that,\n",
        "\n",
        "Upon completing each 10 km asks you \"are you tired?\"\n",
        "If you reply \"yes\" then it should break and print \"you didn't finish the race\"\n",
        " If you reply \"no\" then it should continue and ask \"are you tired\" on every km\n",
        "If you finish all 50 km then it should print congratulations message"
      ]
    },
    {
      "cell_type": "code",
      "metadata": {
        "colab": {
          "base_uri": "https://localhost:8080/"
        },
        "id": "D0dmQiIuUVAI",
        "outputId": "14472474-55fa-40e1-b14a-ee61d3c2db3a"
      },
      "source": [
        "final = 0\n",
        "for i in range(0,50,10):\n",
        "  res = input(\"Are You Tired: Yes or No? \")\n",
        "  if res.title() == \"Yes\":\n",
        "    print(\"You didn't finish the race\")\n",
        "    final += 1\n",
        "    break\n",
        "  elif res.title() == \"No\":\n",
        "    print(\"Keep Going, You can and you will do it\")\n",
        "    continue\n",
        "  else:\n",
        "    print(\"Please enter Yes or NO\")\n",
        "    final += 1\n",
        "    break\n",
        "\n",
        "if(final == 0):\n",
        "  print(\"Congratulations, You have Successfully Completed the race\")"
      ],
      "execution_count": null,
      "outputs": [
        {
          "output_type": "stream",
          "text": [
            "Are You Tired: Yes or No? no\n",
            "Keep Going, You can and you will do it\n",
            "Are You Tired: Yes or No? no\n",
            "Keep Going, You can and you will do it\n",
            "Are You Tired: Yes or No? no\n",
            "Keep Going, You can and you will do it\n",
            "Are You Tired: Yes or No? no\n",
            "Keep Going, You can and you will do it\n",
            "Are You Tired: Yes or No? no\n",
            "Keep Going, You can and you will do it\n",
            "Congratulations, You have Successfully Completed the race\n"
          ],
          "name": "stdout"
        }
      ]
    },
    {
      "cell_type": "markdown",
      "metadata": {
        "id": "g0dtfIQ7UVy7"
      },
      "source": [
        "<b>6.</b>  Write a Python program to find those numbers which are divisible by 7 and multiple of 5, between 1500 and 2700 (both included)."
      ]
    },
    {
      "cell_type": "code",
      "metadata": {
        "colab": {
          "base_uri": "https://localhost:8080/"
        },
        "id": "_lKg02D4UZgb",
        "outputId": "336e63c4-8f5c-4998-b32c-3ff9bea7dec6"
      },
      "source": [
        "for num in range(1500,2701):\n",
        "  if num%5 == 0 and num%7 == 0:\n",
        "    print(num)"
      ],
      "execution_count": null,
      "outputs": [
        {
          "output_type": "stream",
          "text": [
            "1505\n",
            "1540\n",
            "1575\n",
            "1610\n",
            "1645\n",
            "1680\n",
            "1715\n",
            "1750\n",
            "1785\n",
            "1820\n",
            "1855\n",
            "1890\n",
            "1925\n",
            "1960\n",
            "1995\n",
            "2030\n",
            "2065\n",
            "2100\n",
            "2135\n",
            "2170\n",
            "2205\n",
            "2240\n",
            "2275\n",
            "2310\n",
            "2345\n",
            "2380\n",
            "2415\n",
            "2450\n",
            "2485\n",
            "2520\n",
            "2555\n",
            "2590\n",
            "2625\n",
            "2660\n",
            "2695\n"
          ],
          "name": "stdout"
        }
      ]
    },
    {
      "cell_type": "markdown",
      "metadata": {
        "id": "hQVw-6wAUZ8z"
      },
      "source": [
        "<b>7.</b>   Print square of all numbers between 10 to 20 except even numbers"
      ]
    },
    {
      "cell_type": "code",
      "metadata": {
        "colab": {
          "base_uri": "https://localhost:8080/"
        },
        "id": "j4TZXe1RUdLx",
        "outputId": "8430522d-bdee-40e3-eb72-8c080f820187"
      },
      "source": [
        "for num in range(10,21):\n",
        "  if num % 2 == 0:\n",
        "    pass\n",
        "  else:\n",
        "    print(num**2)"
      ],
      "execution_count": null,
      "outputs": [
        {
          "output_type": "stream",
          "text": [
            "121\n",
            "169\n",
            "225\n",
            "289\n",
            "361\n"
          ],
          "name": "stdout"
        }
      ]
    },
    {
      "cell_type": "markdown",
      "metadata": {
        "id": "V7HEtUl4UdxQ"
      },
      "source": [
        "<b>8.</b>  Your Marks for five Test(test1 to test5) looks like this,\n",
        "\n",
        "marks_list = [65, 75, 2100, 95, 83]\n",
        "\n",
        "Write a program that asks you to enter marks and program should tell you in which test that marks occurred. If marks is not found then it should print that as well."
      ]
    },
    {
      "cell_type": "code",
      "metadata": {
        "colab": {
          "base_uri": "https://localhost:8080/"
        },
        "id": "bimJ6MRxUgn2",
        "outputId": "2c9070f1-9c1c-491e-f806-70f71d5d2f6f"
      },
      "source": [
        "marks_list = [65, 75, 2100, 95, 83]\n",
        "\n",
        "query = int(input(\"Enter your marks obtained: \"))\n",
        "for num in range(len(marks_list)):\n",
        "  if query in marks_list:\n",
        "    print(f\"You obtained {query} marks in test!\")\n",
        "    break\n",
        "  else:\n",
        "    print(f\"Marks {query} entered is not present in list\")\n",
        "    break"
      ],
      "execution_count": null,
      "outputs": [
        {
          "output_type": "stream",
          "text": [
            "Enter your marks obtained: 75\n",
            "You obtained 75 marks in test!\n"
          ],
          "name": "stdout"
        }
      ]
    }
  ]
}
