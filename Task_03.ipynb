{
  "nbformat": 4,
  "nbformat_minor": 0,
  "metadata": {
    "colab": {
      "name": "Task_3.ipynb",
      "provenance": [],
      "collapsed_sections": [],
      "include_colab_link": true
    },
    "kernelspec": {
      "name": "python3",
      "display_name": "Python 3"
    },
    "language_info": {
      "name": "python"
    }
  },
  "cells": [
    {
      "cell_type": "markdown",
      "metadata": {
        "id": "view-in-github",
        "colab_type": "text"
      },
      "source": [
        "<a href=\"https://colab.research.google.com/github/Sourav61/Goeduhub-Assignments/blob/main/Task_3.ipynb\" target=\"_parent\"><img src=\"https://colab.research.google.com/assets/colab-badge.svg\" alt=\"Open In Colab\"/></a>"
      ]
    },
    {
      "cell_type": "markdown",
      "metadata": {
        "id": "fq-h1pdZ-Z5C"
      },
      "source": [
        "Author: <b><a href=\"https://github.com/Sourav61\">Sourav Pahwa</a></b>\n",
        "\n",
        "ID: GO_STP_13420"
      ]
    },
    {
      "cell_type": "code",
      "metadata": {
        "colab": {
          "base_uri": "https://localhost:8080/"
        },
        "id": "9410D0gFwilk",
        "outputId": "06604c72-a4b0-41b8-c850-1c6cd5b60eb0"
      },
      "source": [
        "from google.colab import drive\n",
        "drive.mount('/content/drive')"
      ],
      "execution_count": 1,
      "outputs": [
        {
          "output_type": "stream",
          "text": [
            "Mounted at /content/drive\n"
          ],
          "name": "stdout"
        }
      ]
    },
    {
      "cell_type": "markdown",
      "metadata": {
        "id": "7ZCLHp_L-pO7"
      },
      "source": [
        "<b>Q.1 Write a Python Program to sort (ascending and descending) a dictionary by value. </b>"
      ]
    },
    {
      "cell_type": "code",
      "metadata": {
        "id": "GKweptm4-Fca",
        "colab": {
          "base_uri": "https://localhost:8080/"
        },
        "outputId": "3aebd6e6-c3ef-4f7c-c829-a71fb8f6b573"
      },
      "source": [
        "x={'c':30,'d':40,'a':10,'b':20,'f':50,'g':60} \n",
        "                                         \n",
        "l=list(x.items())   \n",
        "l.sort()            \n",
        "\n",
        "Dicta=dict(l)\n",
        "print(\"Dictionary in ascending order\",Dicta)\n",
        "\n",
        "l=list(x.items())\n",
        "l.sort(reverse=True)\n",
        "\n",
        "Dictd = dict(l)\n",
        "print(\"Dictionary in discending order\",Dictd)"
      ],
      "execution_count": null,
      "outputs": [
        {
          "output_type": "stream",
          "text": [
            "Dictionary in ascending order {'a': 10, 'b': 20, 'c': 30, 'd': 40, 'f': 50, 'g': 60}\n",
            "Dictionary in discending order {'g': 60, 'f': 50, 'd': 40, 'c': 30, 'b': 20, 'a': 10}\n"
          ],
          "name": "stdout"
        }
      ]
    },
    {
      "cell_type": "markdown",
      "metadata": {
        "id": "3iRTHCHx-uWc"
      },
      "source": [
        "<b>Q.2 Write a Python Program to add a key to a dictionary.<br />\n",
        "Sample Dictionary : {0: 10, 1: 20}<br />\n",
        "Expected Result : {0: 10, 1: 20, 2: 30}\n",
        "</b>\n",
        "  "
      ]
    },
    {
      "cell_type": "code",
      "metadata": {
        "id": "ByXA2-1H-ubU",
        "colab": {
          "base_uri": "https://localhost:8080/"
        },
        "outputId": "9128064e-4e88-46ff-e207-7b152e33c102"
      },
      "source": [
        "d={0:10,1:20}\n",
        "d.update({2:30})\n",
        "print(d)"
      ],
      "execution_count": null,
      "outputs": [
        {
          "output_type": "stream",
          "text": [
            "{0: 10, 1: 20, 2: 30}\n"
          ],
          "name": "stdout"
        }
      ]
    },
    {
      "cell_type": "markdown",
      "metadata": {
        "id": "N8Zt2xCw-ugN"
      },
      "source": [
        "<b>Q.3 Write a  program asks for City name and Temperature and builds a dictionary using that Later on you can input City name and it will tell you the Temperature of that City.</b>"
      ]
    },
    {
      "cell_type": "code",
      "metadata": {
        "id": "qSZNBaoY-uk3",
        "colab": {
          "base_uri": "https://localhost:8080/"
        },
        "outputId": "27c4b2b9-ec5c-4373-a3be-4cbafb4cfab9"
      },
      "source": [
        "city1 = input(\"Enter the name of 1st City: \")\n",
        "temp1 = input(\"Enter the temperature of 1st City in Celcius: \")\n",
        "city2 = input(\"Enter the name of 2nd City: \")\n",
        "temp2 = input(\"Enter the temperature of 2nd City in Celcius: \")\n",
        "\n",
        "city = [city1,city2]\n",
        "temp = [temp1,temp2]\n",
        "\n",
        "Dict = dict(zip(city,temp))\n",
        "\n",
        "print(Dict)\n",
        "\n",
        "query = input(\"Enter the city for which you want to check temperature? \")\n",
        "print(f\"The temperature of {query} is: \", Dict[f\"{query}\"])"
      ],
      "execution_count": null,
      "outputs": [
        {
          "output_type": "stream",
          "text": [
            "Enter the name of 1st City: Chandigarh\n",
            "Enter the temperature of 1st City in Celcius: 30\n",
            "Enter the name of 2nd City: Delhi\n",
            "Enter the temperature of 2nd City in Celcius: 45\n",
            "{'Chandigarh': '30', 'Delhi': '45'}\n",
            "Enter the city for which you want to check temperature? Delhi\n",
            "The temperature of Delhi is:  45\n"
          ],
          "name": "stdout"
        }
      ]
    },
    {
      "cell_type": "markdown",
      "metadata": {
        "id": "NL7WLVd4-uqL"
      },
      "source": [
        "<b>Q. 4 Write a Python program to convert list to list of dictionaries.\n",
        "\n",
        "Sample lists: [\"Black\", \"Red\", \"Maroon\", \"Yellow\"], [\"#000000\", \"#FF0000\", \"#800000\", \"#FFFF00\"]\n",
        "\n",
        "Expected Output: [{'color_name': 'Black', 'color_code': '#000000'}, {'color_name': 'Red', 'color_code': '#FF0000'}, {'color_name': 'Maroon', 'color_code': '#800000'}, {'color_name': 'Yellow', 'color_code': '#FFFF00'}]\n",
        "\n",
        "</b>"
      ]
    },
    {
      "cell_type": "code",
      "metadata": {
        "id": "2oyVKhmU-uvT",
        "colab": {
          "base_uri": "https://localhost:8080/"
        },
        "outputId": "7ed5dbac-a229-48f5-8e80-8897a116b5f5"
      },
      "source": [
        "color_name = [\"Black\", \"Red\", \"Maroon\", \"Yellow\"]\n",
        "color_code = [\"#000000\", \"#FF0000\", \"#800000\", \"#FFFF00\"]\n",
        "print([{'color_name': a, 'color_code': b} for a, b in zip(color_name, color_code)])"
      ],
      "execution_count": null,
      "outputs": [
        {
          "output_type": "stream",
          "text": [
            "[{'color_name': 'Black', 'color_code': '#000000'}, {'color_name': 'Red', 'color_code': '#FF0000'}, {'color_name': 'Maroon', 'color_code': '#800000'}, {'color_name': 'Yellow', 'color_code': '#FFFF00'}]\n"
          ],
          "name": "stdout"
        }
      ]
    },
    {
      "cell_type": "markdown",
      "metadata": {
        "id": "p__r7_vr-u0t"
      },
      "source": [
        "<b>Q. 5 We have following information on Employees and their Salary (Salary is in lakhs),\n",
        "\n",
        "Employee\tSalary </br>\n",
        "John\t14</br>\n",
        "Smith\t13</br>\n",
        "Alice\t32</br>\n",
        "Daneil\t21</br>\n",
        "</b>\n",
        "1)Using above create a dictionary of Employees and their Salary\n",
        "\n",
        "2)Write a program that asks user for three type of inputs,\n",
        "\n",
        "  <b>a) print</b>: if user enter print then it should print all Employees with  \n",
        "  their Salary in this format,</br>\n",
        "  John ==>14</br>\n",
        "  Smith ==>13</br>\n",
        "  Alice ==>32</br>\n",
        "  Daneil ==>21</br>\n",
        "  <b>b) add</b>: if user input adds then it should further ask for an Employee \n",
        "  name to add. If Employee already exists in our dataset then it should print \n",
        "  that it exists and do nothing. If it doesn't then it asks for Salary and add \n",
        "  that new Employee/Salary in our dictionary and print it</br>\n",
        "  <b>c) remove</b>: when user inputs remove it should ask for an Employee to \n",
        "  remove. If an Employee exists in our dictionary then remove it and print a \n",
        "  new dictionary using format shown above in (a). Else print that Employee \n",
        "  doesn't exist!</br>\n",
        "  <b>d) query</b>: on this again ask the user for which Employee he or she \n",
        "  wants to query. When a user inputs that Employee it will print the Salary of \n",
        "  that Employee."
      ]
    },
    {
      "cell_type": "code",
      "metadata": {
        "id": "6VIrA4HT-u5h",
        "colab": {
          "base_uri": "https://localhost:8080/"
        },
        "outputId": "641915c7-deb6-4bd2-8458-32d554698bbc"
      },
      "source": [
        "empl = ['John','Smith','Alice','Daniel']\n",
        "sal = [14, 13, 32, 21]\n",
        "\n",
        "inp= input(\"Enter your choice :print or add or remove or query: \")\n",
        "if inp == 'print':\n",
        "  Dict = dict(zip(empl, sal))\n",
        "  for a in Dict:\n",
        "    print(a,\"==>\",Dict[f\"{a}\"])\n",
        "\n",
        "elif inp == 'add':\n",
        "  emp= input(\"Enter the name of the Employee to be added: \")\n",
        "  if emp.title() in Dict.keys():\n",
        "    print(f\"{emp} name is already existing!\")\n",
        "  else:\n",
        "    salr = input(f\"Enter the salary of the {emp} \")\n",
        "    Dict.update({emp : salr})\n",
        "    print(Dict)\n",
        "\n",
        "elif inp == 'remove':\n",
        "  name = input(\"Enter the name of the employee to be removed? \")\n",
        "  if name in Dict:\n",
        "    Dict.pop(name)\n",
        "    print(Dict)\n",
        "\n",
        "  else:\n",
        "    print(f\"Sorry!!, {name} doesn't exist in the data!\")\n",
        "  \n",
        "elif inp == 'query':\n",
        "  emp= input(\"Enter the name of the employee you want to query: \").title()\n",
        "  if emp in Dict.keys():\n",
        "    print(f\"The salary of {emp} is {Dict[emp]}\")\n",
        "  else:\n",
        "    print(f\"The employee named {emp} doesn't exist!!\")\n",
        "\n",
        "else:\n",
        "  print(\"Enter a valid choice\")"
      ],
      "execution_count": null,
      "outputs": [
        {
          "output_type": "stream",
          "text": [
            "Enter your choice :print or add or remove or query: query\n",
            "Enter the name of the employee you want to query: Alice\n",
            "The employee named Alice doesn't exist!!\n"
          ],
          "name": "stdout"
        }
      ]
    },
    {
      "cell_type": "markdown",
      "metadata": {
        "id": "3_itb6Ro-u-M"
      },
      "source": [
        "# <h1><b> Questions on Sets-</b></h1>\n",
        "\n",
        "<b>Q.1 What is the difference between a set and a frozenset? Create any set and try to use frozenset(setname).\n",
        "\n",
        "Ans) A Set is an unordered collection of items.Main feature of a set is that every element in a set is unique.A Set is created by placing all the items (elements) inside curly braces {} and separated by comma.\n",
        "\n",
        "A Frozenset can be made from a set by using frozenset() keyword. It is basically an immutable type of set just like tuple.</b>\n",
        "\n"
      ]
    },
    {
      "cell_type": "code",
      "metadata": {
        "id": "L4CoPr0F-vDE",
        "colab": {
          "base_uri": "https://localhost:8080/"
        },
        "outputId": "44803eda-47e5-49e1-934d-8e52467a99e8"
      },
      "source": [
        "a = set(\"Set and FrozenSet\")\n",
        "print(a)\n",
        "print(type(a))\n",
        "\n",
        "a.remove(\" \")\n",
        "print(a)"
      ],
      "execution_count": null,
      "outputs": [
        {
          "output_type": "stream",
          "text": [
            "{'S', 'r', 'z', 'o', 'e', ' ', 't', 'F', 'n', 'a', 'd'}\n",
            "<class 'set'>\n",
            "{'S', 'r', 'z', 'o', 'e', 't', 'F', 'n', 'a', 'd'}\n"
          ],
          "name": "stdout"
        }
      ]
    },
    {
      "cell_type": "code",
      "metadata": {
        "colab": {
          "base_uri": "https://localhost:8080/",
          "height": 214
        },
        "id": "ITaq-sjSJhI7",
        "outputId": "28177fe4-d2ec-4f28-92fb-d6a87ad3207e"
      },
      "source": [
        "a = frozenset(a)\n",
        "\n",
        "print(type(a))\n",
        "\n",
        "a.discard(\" \")"
      ],
      "execution_count": null,
      "outputs": [
        {
          "output_type": "stream",
          "text": [
            "<class 'frozenset'>\n"
          ],
          "name": "stdout"
        },
        {
          "output_type": "error",
          "ename": "AttributeError",
          "evalue": "ignored",
          "traceback": [
            "\u001b[0;31m---------------------------------------------------------------------------\u001b[0m",
            "\u001b[0;31mAttributeError\u001b[0m                            Traceback (most recent call last)",
            "\u001b[0;32m<ipython-input-7-57fd52046290>\u001b[0m in \u001b[0;36m<module>\u001b[0;34m()\u001b[0m\n\u001b[1;32m      3\u001b[0m \u001b[0mprint\u001b[0m\u001b[0;34m(\u001b[0m\u001b[0mtype\u001b[0m\u001b[0;34m(\u001b[0m\u001b[0ma\u001b[0m\u001b[0;34m)\u001b[0m\u001b[0;34m)\u001b[0m\u001b[0;34m\u001b[0m\u001b[0;34m\u001b[0m\u001b[0m\n\u001b[1;32m      4\u001b[0m \u001b[0;34m\u001b[0m\u001b[0m\n\u001b[0;32m----> 5\u001b[0;31m \u001b[0ma\u001b[0m\u001b[0;34m.\u001b[0m\u001b[0mdiscard\u001b[0m\u001b[0;34m(\u001b[0m\u001b[0;34m\" \"\u001b[0m\u001b[0;34m)\u001b[0m\u001b[0;34m\u001b[0m\u001b[0;34m\u001b[0m\u001b[0m\n\u001b[0m",
            "\u001b[0;31mAttributeError\u001b[0m: 'frozenset' object has no attribute 'discard'"
          ]
        }
      ]
    },
    {
      "cell_type": "markdown",
      "metadata": {
        "id": "ug4wWvYP-vIK"
      },
      "source": [
        "<b>Q.2 Find the elements in a given set that are not in another set</b>\n",
        "\n",
        "    set1 = {10,20,30,40,50}\n",
        "\n",
        "    set2 = {40,50,60,70,80}\n",
        "\n",
        " Difference between set1 and set2 is {10,20,30}"
      ]
    },
    {
      "cell_type": "code",
      "metadata": {
        "id": "72cuiod2-vNP",
        "colab": {
          "base_uri": "https://localhost:8080/"
        },
        "outputId": "56142b96-ec1f-4dff-ad6b-5ad66e09aeae"
      },
      "source": [
        "set1 = {10,20,30,40,50}\n",
        "set2 = {40,50,60,70,80}\n",
        "print(\"Original sets given:\")\n",
        "print(set1)\n",
        "print(set2)\n",
        "print(\"Elements present in set1 but not in set2 using difference() method:\")\n",
        "print(set1.difference(set2))\n",
        "print(\"Elements present in set2 but not in set1 using difference() method:\")\n",
        "print(set2.difference(set1))"
      ],
      "execution_count": null,
      "outputs": [
        {
          "output_type": "stream",
          "text": [
            "Original sets given:\n",
            "{40, 10, 50, 20, 30}\n",
            "{70, 40, 80, 50, 60}\n",
            "Elements present in set1 but not in set2 using difference() method:\n",
            "{10, 20, 30}\n",
            "Elements present in set2 but not in set1 using difference() method:\n",
            "{80, 60, 70}\n"
          ],
          "name": "stdout"
        }
      ]
    }
  ]
}
