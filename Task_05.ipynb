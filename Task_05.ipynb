{
  "nbformat": 4,
  "nbformat_minor": 0,
  "metadata": {
    "colab": {
      "name": "Task_5.ipynb",
      "provenance": [],
      "include_colab_link": true
    },
    "kernelspec": {
      "name": "python3",
      "display_name": "Python 3"
    },
    "language_info": {
      "name": "python"
    }
  },
  "cells": [
    {
      "cell_type": "markdown",
      "metadata": {
        "id": "view-in-github",
        "colab_type": "text"
      },
      "source": [
        "<a href=\"https://colab.research.google.com/github/Sourav61/Goeduhub-Assignments/blob/main/Task_5.ipynb\" target=\"_parent\"><img src=\"https://colab.research.google.com/assets/colab-badge.svg\" alt=\"Open In Colab\"/></a>"
      ]
    },
    {
      "cell_type": "markdown",
      "metadata": {
        "id": "ttIT_kMu5Zjy"
      },
      "source": [
        "Author: <a href = \"https://github.com/Sourav61\">Sourav Pahwa</a>\n",
        "<br>ID: GO_STP_13420\n"
      ]
    },
    {
      "cell_type": "code",
      "metadata": {
        "colab": {
          "base_uri": "https://localhost:8080/"
        },
        "id": "kXdikutGxvKl",
        "outputId": "d9291659-4071-4af6-fa33-567cd14c2c08"
      },
      "source": [
        "from google.colab import drive\n",
        "drive.mount('/content/drive')"
      ],
      "execution_count": 1,
      "outputs": [
        {
          "output_type": "stream",
          "text": [
            "Mounted at /content/drive\n"
          ],
          "name": "stdout"
        }
      ]
    },
    {
      "cell_type": "markdown",
      "metadata": {
        "id": "wZ6sa-q-5lgS"
      },
      "source": [
        "<b>Assignment/Task 5\n",
        "Pandas - Data Analysis of IMDB movies data</b>\n",
        "\n",
        "As we have a basic understanding of the different data structures in Pandas, let’s explore the fun and interesting ‘IMDB-movies-dataset’ and get our hands dirty by performing practical data analysis on real data.\n",
        "\n",
        "It is an open-source dataset and you can download it from <a href=\"https://www.kaggle.com/PromptCloudHQ/imdb-data\">this link.</a>"
      ]
    },
    {
      "cell_type": "markdown",
      "metadata": {
        "id": "257me_lg6AAS"
      },
      "source": [
        "We will read the data from the .csv file and perform the following basic operations on movies data\n",
        "\n",
        "<b>1) Load the IMDb Dataset and read"
      ]
    },
    {
      "cell_type": "code",
      "metadata": {
        "id": "SrD7dagM5T-F"
      },
      "source": [
        "import pandas as pd\n",
        "import numpy as np\n",
        "\n",
        "df = pd.read_csv(\"IMDB-Movie-Data.csv\")"
      ],
      "execution_count": null,
      "outputs": []
    },
    {
      "cell_type": "markdown",
      "metadata": {
        "id": "jH2HlzNu5aTw"
      },
      "source": [
        "<b>2) View the dataset"
      ]
    },
    {
      "cell_type": "code",
      "metadata": {
        "colab": {
          "base_uri": "https://localhost:8080/",
          "height": 665
        },
        "id": "Uh-_JcOFJxUC",
        "outputId": "3b1da2f9-7d2f-4c66-9af2-d627599e599e"
      },
      "source": [
        "print(\"The First 10 values of dataset are: \\n\")\n",
        "df.head(10)"
      ],
      "execution_count": null,
      "outputs": [
        {
          "output_type": "stream",
          "text": [
            "The First 10 values of dataset are: \n",
            "\n"
          ],
          "name": "stdout"
        },
        {
          "output_type": "execute_result",
          "data": {
            "text/html": [
              "<div>\n",
              "<style scoped>\n",
              "    .dataframe tbody tr th:only-of-type {\n",
              "        vertical-align: middle;\n",
              "    }\n",
              "\n",
              "    .dataframe tbody tr th {\n",
              "        vertical-align: top;\n",
              "    }\n",
              "\n",
              "    .dataframe thead th {\n",
              "        text-align: right;\n",
              "    }\n",
              "</style>\n",
              "<table border=\"1\" class=\"dataframe\">\n",
              "  <thead>\n",
              "    <tr style=\"text-align: right;\">\n",
              "      <th></th>\n",
              "      <th>Rank</th>\n",
              "      <th>Title</th>\n",
              "      <th>Genre</th>\n",
              "      <th>Description</th>\n",
              "      <th>Director</th>\n",
              "      <th>Actors</th>\n",
              "      <th>Year</th>\n",
              "      <th>Runtime (Minutes)</th>\n",
              "      <th>Rating</th>\n",
              "      <th>Votes</th>\n",
              "      <th>Revenue (Millions)</th>\n",
              "      <th>Metascore</th>\n",
              "    </tr>\n",
              "  </thead>\n",
              "  <tbody>\n",
              "    <tr>\n",
              "      <th>0</th>\n",
              "      <td>1</td>\n",
              "      <td>Guardians of the Galaxy</td>\n",
              "      <td>Action,Adventure,Sci-Fi</td>\n",
              "      <td>A group of intergalactic criminals are forced ...</td>\n",
              "      <td>James Gunn</td>\n",
              "      <td>Chris Pratt, Vin Diesel, Bradley Cooper, Zoe S...</td>\n",
              "      <td>2014</td>\n",
              "      <td>121</td>\n",
              "      <td>8.1</td>\n",
              "      <td>757074</td>\n",
              "      <td>333.13</td>\n",
              "      <td>76.0</td>\n",
              "    </tr>\n",
              "    <tr>\n",
              "      <th>1</th>\n",
              "      <td>2</td>\n",
              "      <td>Prometheus</td>\n",
              "      <td>Adventure,Mystery,Sci-Fi</td>\n",
              "      <td>Following clues to the origin of mankind, a te...</td>\n",
              "      <td>Ridley Scott</td>\n",
              "      <td>Noomi Rapace, Logan Marshall-Green, Michael Fa...</td>\n",
              "      <td>2012</td>\n",
              "      <td>124</td>\n",
              "      <td>7.0</td>\n",
              "      <td>485820</td>\n",
              "      <td>126.46</td>\n",
              "      <td>65.0</td>\n",
              "    </tr>\n",
              "    <tr>\n",
              "      <th>2</th>\n",
              "      <td>3</td>\n",
              "      <td>Split</td>\n",
              "      <td>Horror,Thriller</td>\n",
              "      <td>Three girls are kidnapped by a man with a diag...</td>\n",
              "      <td>M. Night Shyamalan</td>\n",
              "      <td>James McAvoy, Anya Taylor-Joy, Haley Lu Richar...</td>\n",
              "      <td>2016</td>\n",
              "      <td>117</td>\n",
              "      <td>7.3</td>\n",
              "      <td>157606</td>\n",
              "      <td>138.12</td>\n",
              "      <td>62.0</td>\n",
              "    </tr>\n",
              "    <tr>\n",
              "      <th>3</th>\n",
              "      <td>4</td>\n",
              "      <td>Sing</td>\n",
              "      <td>Animation,Comedy,Family</td>\n",
              "      <td>In a city of humanoid animals, a hustling thea...</td>\n",
              "      <td>Christophe Lourdelet</td>\n",
              "      <td>Matthew McConaughey,Reese Witherspoon, Seth Ma...</td>\n",
              "      <td>2016</td>\n",
              "      <td>108</td>\n",
              "      <td>7.2</td>\n",
              "      <td>60545</td>\n",
              "      <td>270.32</td>\n",
              "      <td>59.0</td>\n",
              "    </tr>\n",
              "    <tr>\n",
              "      <th>4</th>\n",
              "      <td>5</td>\n",
              "      <td>Suicide Squad</td>\n",
              "      <td>Action,Adventure,Fantasy</td>\n",
              "      <td>A secret government agency recruits some of th...</td>\n",
              "      <td>David Ayer</td>\n",
              "      <td>Will Smith, Jared Leto, Margot Robbie, Viola D...</td>\n",
              "      <td>2016</td>\n",
              "      <td>123</td>\n",
              "      <td>6.2</td>\n",
              "      <td>393727</td>\n",
              "      <td>325.02</td>\n",
              "      <td>40.0</td>\n",
              "    </tr>\n",
              "    <tr>\n",
              "      <th>5</th>\n",
              "      <td>6</td>\n",
              "      <td>The Great Wall</td>\n",
              "      <td>Action,Adventure,Fantasy</td>\n",
              "      <td>European mercenaries searching for black powde...</td>\n",
              "      <td>Yimou Zhang</td>\n",
              "      <td>Matt Damon, Tian Jing, Willem Dafoe, Andy Lau</td>\n",
              "      <td>2016</td>\n",
              "      <td>103</td>\n",
              "      <td>6.1</td>\n",
              "      <td>56036</td>\n",
              "      <td>45.13</td>\n",
              "      <td>42.0</td>\n",
              "    </tr>\n",
              "    <tr>\n",
              "      <th>6</th>\n",
              "      <td>7</td>\n",
              "      <td>La La Land</td>\n",
              "      <td>Comedy,Drama,Music</td>\n",
              "      <td>A jazz pianist falls for an aspiring actress i...</td>\n",
              "      <td>Damien Chazelle</td>\n",
              "      <td>Ryan Gosling, Emma Stone, Rosemarie DeWitt, J....</td>\n",
              "      <td>2016</td>\n",
              "      <td>128</td>\n",
              "      <td>8.3</td>\n",
              "      <td>258682</td>\n",
              "      <td>151.06</td>\n",
              "      <td>93.0</td>\n",
              "    </tr>\n",
              "    <tr>\n",
              "      <th>7</th>\n",
              "      <td>8</td>\n",
              "      <td>Mindhorn</td>\n",
              "      <td>Comedy</td>\n",
              "      <td>A has-been actor best known for playing the ti...</td>\n",
              "      <td>Sean Foley</td>\n",
              "      <td>Essie Davis, Andrea Riseborough, Julian Barrat...</td>\n",
              "      <td>2016</td>\n",
              "      <td>89</td>\n",
              "      <td>6.4</td>\n",
              "      <td>2490</td>\n",
              "      <td>NaN</td>\n",
              "      <td>71.0</td>\n",
              "    </tr>\n",
              "    <tr>\n",
              "      <th>8</th>\n",
              "      <td>9</td>\n",
              "      <td>The Lost City of Z</td>\n",
              "      <td>Action,Adventure,Biography</td>\n",
              "      <td>A true-life drama, centering on British explor...</td>\n",
              "      <td>James Gray</td>\n",
              "      <td>Charlie Hunnam, Robert Pattinson, Sienna Mille...</td>\n",
              "      <td>2016</td>\n",
              "      <td>141</td>\n",
              "      <td>7.1</td>\n",
              "      <td>7188</td>\n",
              "      <td>8.01</td>\n",
              "      <td>78.0</td>\n",
              "    </tr>\n",
              "    <tr>\n",
              "      <th>9</th>\n",
              "      <td>10</td>\n",
              "      <td>Passengers</td>\n",
              "      <td>Adventure,Drama,Romance</td>\n",
              "      <td>A spacecraft traveling to a distant colony pla...</td>\n",
              "      <td>Morten Tyldum</td>\n",
              "      <td>Jennifer Lawrence, Chris Pratt, Michael Sheen,...</td>\n",
              "      <td>2016</td>\n",
              "      <td>116</td>\n",
              "      <td>7.0</td>\n",
              "      <td>192177</td>\n",
              "      <td>100.01</td>\n",
              "      <td>41.0</td>\n",
              "    </tr>\n",
              "  </tbody>\n",
              "</table>\n",
              "</div>"
            ],
            "text/plain": [
              "   Rank                    Title  ... Revenue (Millions) Metascore\n",
              "0     1  Guardians of the Galaxy  ...             333.13      76.0\n",
              "1     2               Prometheus  ...             126.46      65.0\n",
              "2     3                    Split  ...             138.12      62.0\n",
              "3     4                     Sing  ...             270.32      59.0\n",
              "4     5            Suicide Squad  ...             325.02      40.0\n",
              "5     6           The Great Wall  ...              45.13      42.0\n",
              "6     7               La La Land  ...             151.06      93.0\n",
              "7     8                 Mindhorn  ...                NaN      71.0\n",
              "8     9       The Lost City of Z  ...               8.01      78.0\n",
              "9    10               Passengers  ...             100.01      41.0\n",
              "\n",
              "[10 rows x 12 columns]"
            ]
          },
          "metadata": {
            "tags": []
          },
          "execution_count": 2
        }
      ]
    },
    {
      "cell_type": "markdown",
      "metadata": {
        "id": "6WyUcIhP5adK"
      },
      "source": [
        "<b>3) Understand some basic information about the dataset and Inspect the dataframe Inspect the dataframe's columns, shapes, variable types etc."
      ]
    },
    {
      "cell_type": "code",
      "metadata": {
        "colab": {
          "base_uri": "https://localhost:8080/"
        },
        "id": "VLCRksgU5aYR",
        "outputId": "1d592bfb-b853-43a6-c594-b7f71c537d0e"
      },
      "source": [
        "print(\"The dataset that we are using consists of: \\n\\n\",df)"
      ],
      "execution_count": null,
      "outputs": [
        {
          "output_type": "stream",
          "text": [
            "The dataset that we are using consists of: \n",
            "\n",
            "      Rank                    Title  ... Revenue (Millions) Metascore\n",
            "0       1  Guardians of the Galaxy  ...             333.13      76.0\n",
            "1       2               Prometheus  ...             126.46      65.0\n",
            "2       3                    Split  ...             138.12      62.0\n",
            "3       4                     Sing  ...             270.32      59.0\n",
            "4       5            Suicide Squad  ...             325.02      40.0\n",
            "..    ...                      ...  ...                ...       ...\n",
            "995   996     Secret in Their Eyes  ...                NaN      45.0\n",
            "996   997          Hostel: Part II  ...              17.54      46.0\n",
            "997   998   Step Up 2: The Streets  ...              58.01      50.0\n",
            "998   999             Search Party  ...                NaN      22.0\n",
            "999  1000               Nine Lives  ...              19.64      11.0\n",
            "\n",
            "[1000 rows x 12 columns]\n"
          ],
          "name": "stdout"
        }
      ]
    },
    {
      "cell_type": "code",
      "metadata": {
        "colab": {
          "base_uri": "https://localhost:8080/"
        },
        "id": "5sWSVNTUJxHx",
        "outputId": "87f5b120-43a4-44be-c41a-537229ccf175"
      },
      "source": [
        "print(\"The shape of the dataset that we are using is: \",df.shape)"
      ],
      "execution_count": null,
      "outputs": [
        {
          "output_type": "stream",
          "text": [
            "The shape of the dataset that we are using is:  (1000, 12)\n"
          ],
          "name": "stdout"
        }
      ]
    },
    {
      "cell_type": "code",
      "metadata": {
        "colab": {
          "base_uri": "https://localhost:8080/"
        },
        "id": "C22YdBOeJxKG",
        "outputId": "34f4abf6-7f7f-49ba-b3f7-c3908f4f85cf"
      },
      "source": [
        "print(\"The size of the dataset that we are using is: \",df.size)"
      ],
      "execution_count": null,
      "outputs": [
        {
          "output_type": "stream",
          "text": [
            "The size of the dataset that we are using is:  12000\n"
          ],
          "name": "stdout"
        }
      ]
    },
    {
      "cell_type": "code",
      "metadata": {
        "colab": {
          "base_uri": "https://localhost:8080/"
        },
        "id": "8mFLeta8LMCf",
        "outputId": "f327dfe5-160f-4342-9eef-9d67a1dd12d7"
      },
      "source": [
        "print(\"The dimension of the dataset that we are using is: \",df.ndim)"
      ],
      "execution_count": null,
      "outputs": [
        {
          "output_type": "stream",
          "text": [
            "The dimension of the dataset that we are using is:  2\n"
          ],
          "name": "stdout"
        }
      ]
    },
    {
      "cell_type": "code",
      "metadata": {
        "colab": {
          "base_uri": "https://localhost:8080/"
        },
        "id": "TEzDIaeeLP_t",
        "outputId": "a117b610-95ca-426e-9b3c-3bfd2c1d0185"
      },
      "source": [
        "print(\"The length of the dataset that we are using is: \",len(df))"
      ],
      "execution_count": null,
      "outputs": [
        {
          "output_type": "stream",
          "text": [
            "The length of the dataset that we are using is:  1000\n"
          ],
          "name": "stdout"
        }
      ]
    },
    {
      "cell_type": "code",
      "metadata": {
        "colab": {
          "base_uri": "https://localhost:8080/"
        },
        "id": "Y-mdveITJxYv",
        "outputId": "6e147e22-a557-4b51-d080-0a470ddcb5aa"
      },
      "source": [
        "print(\"The columns present in our dataset that we are using is: \\n\\n\",df.columns)"
      ],
      "execution_count": null,
      "outputs": [
        {
          "output_type": "stream",
          "text": [
            "The columns present in our dataset that we are using is: \n",
            "\n",
            " Index(['Rank', 'Title', 'Genre', 'Description', 'Director', 'Actors', 'Year',\n",
            "       'Runtime (Minutes)', 'Rating', 'Votes', 'Revenue (Millions)',\n",
            "       'Metascore'],\n",
            "      dtype='object')\n"
          ],
          "name": "stdout"
        }
      ]
    },
    {
      "cell_type": "code",
      "metadata": {
        "colab": {
          "base_uri": "https://localhost:8080/"
        },
        "id": "GSSTv-jlLGVG",
        "outputId": "876b805f-b653-4998-c748-fd4458ffb966"
      },
      "source": [
        "print(\"The Columns present in our dataset: \\n\\n\",df.axes)"
      ],
      "execution_count": null,
      "outputs": [
        {
          "output_type": "stream",
          "text": [
            "The Columns present in our dataset: \n",
            "\n",
            " [RangeIndex(start=0, stop=1000, step=1), Index(['Rank', 'Title', 'Genre', 'Description', 'Director', 'Actors', 'Year',\n",
            "       'Runtime (Minutes)', 'Rating', 'Votes', 'Revenue (Millions)',\n",
            "       'Metascore'],\n",
            "      dtype='object')]\n"
          ],
          "name": "stdout"
        }
      ]
    },
    {
      "cell_type": "code",
      "metadata": {
        "colab": {
          "base_uri": "https://localhost:8080/"
        },
        "id": "F7powXHqJxMq",
        "outputId": "74f496c1-a21e-4edb-9e03-fa6b499eb97c"
      },
      "source": [
        "print(\"The datatypes of the columns present in our dataset that we are using is: \\n\\n\",df.dtypes)"
      ],
      "execution_count": null,
      "outputs": [
        {
          "output_type": "stream",
          "text": [
            "The datatypes of the columns present in our dataset that we are using is: \n",
            "\n",
            " Rank                    int64\n",
            "Title                  object\n",
            "Genre                  object\n",
            "Description            object\n",
            "Director               object\n",
            "Actors                 object\n",
            "Year                    int64\n",
            "Runtime (Minutes)       int64\n",
            "Rating                float64\n",
            "Votes                   int64\n",
            "Revenue (Millions)    float64\n",
            "Metascore             float64\n",
            "dtype: object\n"
          ],
          "name": "stdout"
        }
      ]
    },
    {
      "cell_type": "code",
      "metadata": {
        "colab": {
          "base_uri": "https://localhost:8080/"
        },
        "id": "CUdnJopCJxQO",
        "outputId": "b6e9350c-e692-4728-b7e5-b70e5df98dc9"
      },
      "source": [
        "print(\"The detailed information about our dataset is: \\n \\n\",df.info)"
      ],
      "execution_count": null,
      "outputs": [
        {
          "output_type": "stream",
          "text": [
            "The detailed information about our dataset is: \n",
            " \n",
            " <bound method DataFrame.info of      Rank                    Title  ... Revenue (Millions) Metascore\n",
            "0       1  Guardians of the Galaxy  ...             333.13      76.0\n",
            "1       2               Prometheus  ...             126.46      65.0\n",
            "2       3                    Split  ...             138.12      62.0\n",
            "3       4                     Sing  ...             270.32      59.0\n",
            "4       5            Suicide Squad  ...             325.02      40.0\n",
            "..    ...                      ...  ...                ...       ...\n",
            "995   996     Secret in Their Eyes  ...                NaN      45.0\n",
            "996   997          Hostel: Part II  ...              17.54      46.0\n",
            "997   998   Step Up 2: The Streets  ...              58.01      50.0\n",
            "998   999             Search Party  ...                NaN      22.0\n",
            "999  1000               Nine Lives  ...              19.64      11.0\n",
            "\n",
            "[1000 rows x 12 columns]>\n"
          ],
          "name": "stdout"
        }
      ]
    },
    {
      "cell_type": "code",
      "metadata": {
        "colab": {
          "base_uri": "https://localhost:8080/"
        },
        "id": "-2SwCYnmJxR5",
        "outputId": "8947aa22-a846-4735-8cd3-3b128f3a5360"
      },
      "source": [
        "print(\"The detailed description of our dataset that we are using is: \\n\\n\",df.describe(include=\"all\"))"
      ],
      "execution_count": null,
      "outputs": [
        {
          "output_type": "stream",
          "text": [
            "The detailed description of our dataset that we are using is: \n",
            "\n",
            "                Rank     Title  ... Revenue (Millions)   Metascore\n",
            "count   1000.000000      1000  ...         872.000000  936.000000\n",
            "unique          NaN       999  ...                NaN         NaN\n",
            "top             NaN  The Host  ...                NaN         NaN\n",
            "freq            NaN         2  ...                NaN         NaN\n",
            "mean     500.500000       NaN  ...          82.956376   58.985043\n",
            "std      288.819436       NaN  ...         103.253540   17.194757\n",
            "min        1.000000       NaN  ...           0.000000   11.000000\n",
            "25%      250.750000       NaN  ...          13.270000   47.000000\n",
            "50%      500.500000       NaN  ...          47.985000   59.500000\n",
            "75%      750.250000       NaN  ...         113.715000   72.000000\n",
            "max     1000.000000       NaN  ...         936.630000  100.000000\n",
            "\n",
            "[11 rows x 12 columns]\n"
          ],
          "name": "stdout"
        }
      ]
    },
    {
      "cell_type": "code",
      "metadata": {
        "colab": {
          "base_uri": "https://localhost:8080/",
          "height": 455
        },
        "id": "-7l7_HQN5aiU",
        "outputId": "b4fc1e65-d751-4366-e58c-eb9f876640cd"
      },
      "source": [
        "print(\"Let's inspect our data!! \\n\")\n",
        "def inspect_data(data):\n",
        "    return pd.DataFrame({\"Data Type\":data.dtypes,\"No of Levels\":data.apply(lambda x: x.nunique(),axis=0), \"Levels\":data.apply(lambda x: str(x.unique()),axis=0)})\n",
        "inspect_data(df)"
      ],
      "execution_count": null,
      "outputs": [
        {
          "output_type": "stream",
          "text": [
            "Let's inspect our data!! \n",
            "\n"
          ],
          "name": "stdout"
        },
        {
          "output_type": "execute_result",
          "data": {
            "text/html": [
              "<div>\n",
              "<style scoped>\n",
              "    .dataframe tbody tr th:only-of-type {\n",
              "        vertical-align: middle;\n",
              "    }\n",
              "\n",
              "    .dataframe tbody tr th {\n",
              "        vertical-align: top;\n",
              "    }\n",
              "\n",
              "    .dataframe thead th {\n",
              "        text-align: right;\n",
              "    }\n",
              "</style>\n",
              "<table border=\"1\" class=\"dataframe\">\n",
              "  <thead>\n",
              "    <tr style=\"text-align: right;\">\n",
              "      <th></th>\n",
              "      <th>Data Type</th>\n",
              "      <th>No of Levels</th>\n",
              "      <th>Levels</th>\n",
              "    </tr>\n",
              "  </thead>\n",
              "  <tbody>\n",
              "    <tr>\n",
              "      <th>Rank</th>\n",
              "      <td>int64</td>\n",
              "      <td>1000</td>\n",
              "      <td>[   1    2    3    4    5    6    7    8    9 ...</td>\n",
              "    </tr>\n",
              "    <tr>\n",
              "      <th>Title</th>\n",
              "      <td>object</td>\n",
              "      <td>999</td>\n",
              "      <td>['Guardians of the Galaxy' 'Prometheus' 'Split...</td>\n",
              "    </tr>\n",
              "    <tr>\n",
              "      <th>Genre</th>\n",
              "      <td>object</td>\n",
              "      <td>207</td>\n",
              "      <td>['Action,Adventure,Sci-Fi' 'Adventure,Mystery,...</td>\n",
              "    </tr>\n",
              "    <tr>\n",
              "      <th>Description</th>\n",
              "      <td>object</td>\n",
              "      <td>1000</td>\n",
              "      <td>['A group of intergalactic criminals are force...</td>\n",
              "    </tr>\n",
              "    <tr>\n",
              "      <th>Director</th>\n",
              "      <td>object</td>\n",
              "      <td>644</td>\n",
              "      <td>['James Gunn' 'Ridley Scott' 'M. Night Shyamal...</td>\n",
              "    </tr>\n",
              "    <tr>\n",
              "      <th>Actors</th>\n",
              "      <td>object</td>\n",
              "      <td>996</td>\n",
              "      <td>['Chris Pratt, Vin Diesel, Bradley Cooper, Zoe...</td>\n",
              "    </tr>\n",
              "    <tr>\n",
              "      <th>Year</th>\n",
              "      <td>int64</td>\n",
              "      <td>11</td>\n",
              "      <td>[2014 2012 2016 2015 2007 2011 2008 2006 2009 ...</td>\n",
              "    </tr>\n",
              "    <tr>\n",
              "      <th>Runtime (Minutes)</th>\n",
              "      <td>int64</td>\n",
              "      <td>94</td>\n",
              "      <td>[121 124 117 108 123 103 128  89 141 116 133 1...</td>\n",
              "    </tr>\n",
              "    <tr>\n",
              "      <th>Rating</th>\n",
              "      <td>float64</td>\n",
              "      <td>55</td>\n",
              "      <td>[8.1 7.  7.3 7.2 6.2 6.1 8.3 6.4 7.1 7.5 7.8 7...</td>\n",
              "    </tr>\n",
              "    <tr>\n",
              "      <th>Votes</th>\n",
              "      <td>int64</td>\n",
              "      <td>997</td>\n",
              "      <td>[ 757074  485820  157606   60545  393727   560...</td>\n",
              "    </tr>\n",
              "    <tr>\n",
              "      <th>Revenue (Millions)</th>\n",
              "      <td>float64</td>\n",
              "      <td>814</td>\n",
              "      <td>[3.3313e+02 1.2646e+02 1.3812e+02 2.7032e+02 3...</td>\n",
              "    </tr>\n",
              "    <tr>\n",
              "      <th>Metascore</th>\n",
              "      <td>float64</td>\n",
              "      <td>84</td>\n",
              "      <td>[ 76.  65.  62.  59.  40.  42.  93.  71.  78. ...</td>\n",
              "    </tr>\n",
              "  </tbody>\n",
              "</table>\n",
              "</div>"
            ],
            "text/plain": [
              "                   Data Type  ...                                             Levels\n",
              "Rank                   int64  ...  [   1    2    3    4    5    6    7    8    9 ...\n",
              "Title                 object  ...  ['Guardians of the Galaxy' 'Prometheus' 'Split...\n",
              "Genre                 object  ...  ['Action,Adventure,Sci-Fi' 'Adventure,Mystery,...\n",
              "Description           object  ...  ['A group of intergalactic criminals are force...\n",
              "Director              object  ...  ['James Gunn' 'Ridley Scott' 'M. Night Shyamal...\n",
              "Actors                object  ...  ['Chris Pratt, Vin Diesel, Bradley Cooper, Zoe...\n",
              "Year                   int64  ...  [2014 2012 2016 2015 2007 2011 2008 2006 2009 ...\n",
              "Runtime (Minutes)      int64  ...  [121 124 117 108 123 103 128  89 141 116 133 1...\n",
              "Rating               float64  ...  [8.1 7.  7.3 7.2 6.2 6.1 8.3 6.4 7.1 7.5 7.8 7...\n",
              "Votes                  int64  ...  [ 757074  485820  157606   60545  393727   560...\n",
              "Revenue (Millions)   float64  ...  [3.3313e+02 1.2646e+02 1.3812e+02 2.7032e+02 3...\n",
              "Metascore            float64  ...  [ 76.  65.  62.  59.  40.  42.  93.  71.  78. ...\n",
              "\n",
              "[12 rows x 3 columns]"
            ]
          },
          "metadata": {
            "tags": []
          },
          "execution_count": 13
        }
      ]
    },
    {
      "cell_type": "code",
      "metadata": {
        "colab": {
          "base_uri": "https://localhost:8080/"
        },
        "id": "DmggqStbgO3G",
        "outputId": "f7b203ac-4e4e-48d7-919b-d0e3e6293a71"
      },
      "source": [
        "df.head(100).mean()"
      ],
      "execution_count": null,
      "outputs": [
        {
          "output_type": "execute_result",
          "data": {
            "text/plain": [
              "Rank                      50.500000\n",
              "Year                    2014.820000\n",
              "Runtime (Minutes)        122.290000\n",
              "Rating                     7.086000\n",
              "Votes                 267334.430000\n",
              "Revenue (Millions)       157.496044\n",
              "Metascore                 62.957447\n",
              "dtype: float64"
            ]
          },
          "metadata": {
            "tags": []
          },
          "execution_count": 14
        }
      ]
    },
    {
      "cell_type": "code",
      "metadata": {
        "colab": {
          "base_uri": "https://localhost:8080/",
          "height": 699
        },
        "id": "0APXynfuJxW7",
        "outputId": "ba80f2ac-6def-48d7-a204-16b4faa3ad20"
      },
      "source": [
        "print(\"The last 10 values of dataset are: \\n\")\n",
        "df.tail(10)"
      ],
      "execution_count": null,
      "outputs": [
        {
          "output_type": "stream",
          "text": [
            "The last 10 values of dataset are: \n",
            "\n"
          ],
          "name": "stdout"
        },
        {
          "output_type": "execute_result",
          "data": {
            "text/html": [
              "<div>\n",
              "<style scoped>\n",
              "    .dataframe tbody tr th:only-of-type {\n",
              "        vertical-align: middle;\n",
              "    }\n",
              "\n",
              "    .dataframe tbody tr th {\n",
              "        vertical-align: top;\n",
              "    }\n",
              "\n",
              "    .dataframe thead th {\n",
              "        text-align: right;\n",
              "    }\n",
              "</style>\n",
              "<table border=\"1\" class=\"dataframe\">\n",
              "  <thead>\n",
              "    <tr style=\"text-align: right;\">\n",
              "      <th></th>\n",
              "      <th>Rank</th>\n",
              "      <th>Title</th>\n",
              "      <th>Genre</th>\n",
              "      <th>Description</th>\n",
              "      <th>Director</th>\n",
              "      <th>Actors</th>\n",
              "      <th>Year</th>\n",
              "      <th>Runtime (Minutes)</th>\n",
              "      <th>Rating</th>\n",
              "      <th>Votes</th>\n",
              "      <th>Revenue (Millions)</th>\n",
              "      <th>Metascore</th>\n",
              "    </tr>\n",
              "  </thead>\n",
              "  <tbody>\n",
              "    <tr>\n",
              "      <th>990</th>\n",
              "      <td>991</td>\n",
              "      <td>Underworld: Rise of the Lycans</td>\n",
              "      <td>Action,Adventure,Fantasy</td>\n",
              "      <td>An origins story centered on the centuries-old...</td>\n",
              "      <td>Patrick Tatopoulos</td>\n",
              "      <td>Rhona Mitra, Michael Sheen, Bill Nighy, Steven...</td>\n",
              "      <td>2009</td>\n",
              "      <td>92</td>\n",
              "      <td>6.6</td>\n",
              "      <td>129708</td>\n",
              "      <td>45.80</td>\n",
              "      <td>44.0</td>\n",
              "    </tr>\n",
              "    <tr>\n",
              "      <th>991</th>\n",
              "      <td>992</td>\n",
              "      <td>Taare Zameen Par</td>\n",
              "      <td>Drama,Family,Music</td>\n",
              "      <td>An eight-year-old boy is thought to be a lazy ...</td>\n",
              "      <td>Aamir Khan</td>\n",
              "      <td>Darsheel Safary, Aamir Khan, Tanay Chheda, Sac...</td>\n",
              "      <td>2007</td>\n",
              "      <td>165</td>\n",
              "      <td>8.5</td>\n",
              "      <td>102697</td>\n",
              "      <td>1.20</td>\n",
              "      <td>42.0</td>\n",
              "    </tr>\n",
              "    <tr>\n",
              "      <th>992</th>\n",
              "      <td>993</td>\n",
              "      <td>Take Me Home Tonight</td>\n",
              "      <td>Comedy,Drama,Romance</td>\n",
              "      <td>Four years after graduation, an awkward high s...</td>\n",
              "      <td>Michael Dowse</td>\n",
              "      <td>Topher Grace, Anna Faris, Dan Fogler, Teresa P...</td>\n",
              "      <td>2011</td>\n",
              "      <td>97</td>\n",
              "      <td>6.3</td>\n",
              "      <td>45419</td>\n",
              "      <td>6.92</td>\n",
              "      <td>NaN</td>\n",
              "    </tr>\n",
              "    <tr>\n",
              "      <th>993</th>\n",
              "      <td>994</td>\n",
              "      <td>Resident Evil: Afterlife</td>\n",
              "      <td>Action,Adventure,Horror</td>\n",
              "      <td>While still out to destroy the evil Umbrella C...</td>\n",
              "      <td>Paul W.S. Anderson</td>\n",
              "      <td>Milla Jovovich, Ali Larter, Wentworth Miller,K...</td>\n",
              "      <td>2010</td>\n",
              "      <td>97</td>\n",
              "      <td>5.9</td>\n",
              "      <td>140900</td>\n",
              "      <td>60.13</td>\n",
              "      <td>37.0</td>\n",
              "    </tr>\n",
              "    <tr>\n",
              "      <th>994</th>\n",
              "      <td>995</td>\n",
              "      <td>Project X</td>\n",
              "      <td>Comedy</td>\n",
              "      <td>3 high school seniors throw a birthday party t...</td>\n",
              "      <td>Nima Nourizadeh</td>\n",
              "      <td>Thomas Mann, Oliver Cooper, Jonathan Daniel Br...</td>\n",
              "      <td>2012</td>\n",
              "      <td>88</td>\n",
              "      <td>6.7</td>\n",
              "      <td>164088</td>\n",
              "      <td>54.72</td>\n",
              "      <td>48.0</td>\n",
              "    </tr>\n",
              "    <tr>\n",
              "      <th>995</th>\n",
              "      <td>996</td>\n",
              "      <td>Secret in Their Eyes</td>\n",
              "      <td>Crime,Drama,Mystery</td>\n",
              "      <td>A tight-knit team of rising investigators, alo...</td>\n",
              "      <td>Billy Ray</td>\n",
              "      <td>Chiwetel Ejiofor, Nicole Kidman, Julia Roberts...</td>\n",
              "      <td>2015</td>\n",
              "      <td>111</td>\n",
              "      <td>6.2</td>\n",
              "      <td>27585</td>\n",
              "      <td>NaN</td>\n",
              "      <td>45.0</td>\n",
              "    </tr>\n",
              "    <tr>\n",
              "      <th>996</th>\n",
              "      <td>997</td>\n",
              "      <td>Hostel: Part II</td>\n",
              "      <td>Horror</td>\n",
              "      <td>Three American college students studying abroa...</td>\n",
              "      <td>Eli Roth</td>\n",
              "      <td>Lauren German, Heather Matarazzo, Bijou Philli...</td>\n",
              "      <td>2007</td>\n",
              "      <td>94</td>\n",
              "      <td>5.5</td>\n",
              "      <td>73152</td>\n",
              "      <td>17.54</td>\n",
              "      <td>46.0</td>\n",
              "    </tr>\n",
              "    <tr>\n",
              "      <th>997</th>\n",
              "      <td>998</td>\n",
              "      <td>Step Up 2: The Streets</td>\n",
              "      <td>Drama,Music,Romance</td>\n",
              "      <td>Romantic sparks occur between two dance studen...</td>\n",
              "      <td>Jon M. Chu</td>\n",
              "      <td>Robert Hoffman, Briana Evigan, Cassie Ventura,...</td>\n",
              "      <td>2008</td>\n",
              "      <td>98</td>\n",
              "      <td>6.2</td>\n",
              "      <td>70699</td>\n",
              "      <td>58.01</td>\n",
              "      <td>50.0</td>\n",
              "    </tr>\n",
              "    <tr>\n",
              "      <th>998</th>\n",
              "      <td>999</td>\n",
              "      <td>Search Party</td>\n",
              "      <td>Adventure,Comedy</td>\n",
              "      <td>A pair of friends embark on a mission to reuni...</td>\n",
              "      <td>Scot Armstrong</td>\n",
              "      <td>Adam Pally, T.J. Miller, Thomas Middleditch,Sh...</td>\n",
              "      <td>2014</td>\n",
              "      <td>93</td>\n",
              "      <td>5.6</td>\n",
              "      <td>4881</td>\n",
              "      <td>NaN</td>\n",
              "      <td>22.0</td>\n",
              "    </tr>\n",
              "    <tr>\n",
              "      <th>999</th>\n",
              "      <td>1000</td>\n",
              "      <td>Nine Lives</td>\n",
              "      <td>Comedy,Family,Fantasy</td>\n",
              "      <td>A stuffy businessman finds himself trapped ins...</td>\n",
              "      <td>Barry Sonnenfeld</td>\n",
              "      <td>Kevin Spacey, Jennifer Garner, Robbie Amell,Ch...</td>\n",
              "      <td>2016</td>\n",
              "      <td>87</td>\n",
              "      <td>5.3</td>\n",
              "      <td>12435</td>\n",
              "      <td>19.64</td>\n",
              "      <td>11.0</td>\n",
              "    </tr>\n",
              "  </tbody>\n",
              "</table>\n",
              "</div>"
            ],
            "text/plain": [
              "     Rank                           Title  ... Revenue (Millions) Metascore\n",
              "990   991  Underworld: Rise of the Lycans  ...              45.80      44.0\n",
              "991   992                Taare Zameen Par  ...               1.20      42.0\n",
              "992   993            Take Me Home Tonight  ...               6.92       NaN\n",
              "993   994        Resident Evil: Afterlife  ...              60.13      37.0\n",
              "994   995                       Project X  ...              54.72      48.0\n",
              "995   996            Secret in Their Eyes  ...                NaN      45.0\n",
              "996   997                 Hostel: Part II  ...              17.54      46.0\n",
              "997   998          Step Up 2: The Streets  ...              58.01      50.0\n",
              "998   999                    Search Party  ...                NaN      22.0\n",
              "999  1000                      Nine Lives  ...              19.64      11.0\n",
              "\n",
              "[10 rows x 12 columns]"
            ]
          },
          "metadata": {
            "tags": []
          },
          "execution_count": 15
        }
      ]
    },
    {
      "cell_type": "markdown",
      "metadata": {
        "id": "1Kmzow6O5amY"
      },
      "source": [
        "<b>4) Data Selection – Indexing and Slicing data"
      ]
    },
    {
      "cell_type": "code",
      "metadata": {
        "colab": {
          "base_uri": "https://localhost:8080/",
          "height": 419
        },
        "id": "F3nEFuAH5aqx",
        "outputId": "867d26f8-5e12-4ec6-c745-8b4bc42ed56e"
      },
      "source": [
        "mv = df[['Year','Votes','Rating']]\n",
        "mv"
      ],
      "execution_count": null,
      "outputs": [
        {
          "output_type": "execute_result",
          "data": {
            "text/html": [
              "<div>\n",
              "<style scoped>\n",
              "    .dataframe tbody tr th:only-of-type {\n",
              "        vertical-align: middle;\n",
              "    }\n",
              "\n",
              "    .dataframe tbody tr th {\n",
              "        vertical-align: top;\n",
              "    }\n",
              "\n",
              "    .dataframe thead th {\n",
              "        text-align: right;\n",
              "    }\n",
              "</style>\n",
              "<table border=\"1\" class=\"dataframe\">\n",
              "  <thead>\n",
              "    <tr style=\"text-align: right;\">\n",
              "      <th></th>\n",
              "      <th>Year</th>\n",
              "      <th>Votes</th>\n",
              "      <th>Rating</th>\n",
              "    </tr>\n",
              "  </thead>\n",
              "  <tbody>\n",
              "    <tr>\n",
              "      <th>0</th>\n",
              "      <td>2014</td>\n",
              "      <td>757074</td>\n",
              "      <td>8.1</td>\n",
              "    </tr>\n",
              "    <tr>\n",
              "      <th>1</th>\n",
              "      <td>2012</td>\n",
              "      <td>485820</td>\n",
              "      <td>7.0</td>\n",
              "    </tr>\n",
              "    <tr>\n",
              "      <th>2</th>\n",
              "      <td>2016</td>\n",
              "      <td>157606</td>\n",
              "      <td>7.3</td>\n",
              "    </tr>\n",
              "    <tr>\n",
              "      <th>3</th>\n",
              "      <td>2016</td>\n",
              "      <td>60545</td>\n",
              "      <td>7.2</td>\n",
              "    </tr>\n",
              "    <tr>\n",
              "      <th>4</th>\n",
              "      <td>2016</td>\n",
              "      <td>393727</td>\n",
              "      <td>6.2</td>\n",
              "    </tr>\n",
              "    <tr>\n",
              "      <th>...</th>\n",
              "      <td>...</td>\n",
              "      <td>...</td>\n",
              "      <td>...</td>\n",
              "    </tr>\n",
              "    <tr>\n",
              "      <th>995</th>\n",
              "      <td>2015</td>\n",
              "      <td>27585</td>\n",
              "      <td>6.2</td>\n",
              "    </tr>\n",
              "    <tr>\n",
              "      <th>996</th>\n",
              "      <td>2007</td>\n",
              "      <td>73152</td>\n",
              "      <td>5.5</td>\n",
              "    </tr>\n",
              "    <tr>\n",
              "      <th>997</th>\n",
              "      <td>2008</td>\n",
              "      <td>70699</td>\n",
              "      <td>6.2</td>\n",
              "    </tr>\n",
              "    <tr>\n",
              "      <th>998</th>\n",
              "      <td>2014</td>\n",
              "      <td>4881</td>\n",
              "      <td>5.6</td>\n",
              "    </tr>\n",
              "    <tr>\n",
              "      <th>999</th>\n",
              "      <td>2016</td>\n",
              "      <td>12435</td>\n",
              "      <td>5.3</td>\n",
              "    </tr>\n",
              "  </tbody>\n",
              "</table>\n",
              "<p>1000 rows × 3 columns</p>\n",
              "</div>"
            ],
            "text/plain": [
              "     Year   Votes  Rating\n",
              "0    2014  757074     8.1\n",
              "1    2012  485820     7.0\n",
              "2    2016  157606     7.3\n",
              "3    2016   60545     7.2\n",
              "4    2016  393727     6.2\n",
              "..    ...     ...     ...\n",
              "995  2015   27585     6.2\n",
              "996  2007   73152     5.5\n",
              "997  2008   70699     6.2\n",
              "998  2014    4881     5.6\n",
              "999  2016   12435     5.3\n",
              "\n",
              "[1000 rows x 3 columns]"
            ]
          },
          "metadata": {
            "tags": []
          },
          "execution_count": 16
        }
      ]
    },
    {
      "cell_type": "code",
      "metadata": {
        "colab": {
          "base_uri": "https://localhost:8080/",
          "height": 419
        },
        "id": "eX8VFUx1wrwj",
        "outputId": "eee927ea-d8f7-4e65-bff4-7ee0cbb12820"
      },
      "source": [
        "df[['Revenue (Millions)','Runtime (Minutes)']]"
      ],
      "execution_count": null,
      "outputs": [
        {
          "output_type": "execute_result",
          "data": {
            "text/html": [
              "<div>\n",
              "<style scoped>\n",
              "    .dataframe tbody tr th:only-of-type {\n",
              "        vertical-align: middle;\n",
              "    }\n",
              "\n",
              "    .dataframe tbody tr th {\n",
              "        vertical-align: top;\n",
              "    }\n",
              "\n",
              "    .dataframe thead th {\n",
              "        text-align: right;\n",
              "    }\n",
              "</style>\n",
              "<table border=\"1\" class=\"dataframe\">\n",
              "  <thead>\n",
              "    <tr style=\"text-align: right;\">\n",
              "      <th></th>\n",
              "      <th>Revenue (Millions)</th>\n",
              "      <th>Runtime (Minutes)</th>\n",
              "    </tr>\n",
              "  </thead>\n",
              "  <tbody>\n",
              "    <tr>\n",
              "      <th>0</th>\n",
              "      <td>333.13</td>\n",
              "      <td>121</td>\n",
              "    </tr>\n",
              "    <tr>\n",
              "      <th>1</th>\n",
              "      <td>126.46</td>\n",
              "      <td>124</td>\n",
              "    </tr>\n",
              "    <tr>\n",
              "      <th>2</th>\n",
              "      <td>138.12</td>\n",
              "      <td>117</td>\n",
              "    </tr>\n",
              "    <tr>\n",
              "      <th>3</th>\n",
              "      <td>270.32</td>\n",
              "      <td>108</td>\n",
              "    </tr>\n",
              "    <tr>\n",
              "      <th>4</th>\n",
              "      <td>325.02</td>\n",
              "      <td>123</td>\n",
              "    </tr>\n",
              "    <tr>\n",
              "      <th>...</th>\n",
              "      <td>...</td>\n",
              "      <td>...</td>\n",
              "    </tr>\n",
              "    <tr>\n",
              "      <th>995</th>\n",
              "      <td>NaN</td>\n",
              "      <td>111</td>\n",
              "    </tr>\n",
              "    <tr>\n",
              "      <th>996</th>\n",
              "      <td>17.54</td>\n",
              "      <td>94</td>\n",
              "    </tr>\n",
              "    <tr>\n",
              "      <th>997</th>\n",
              "      <td>58.01</td>\n",
              "      <td>98</td>\n",
              "    </tr>\n",
              "    <tr>\n",
              "      <th>998</th>\n",
              "      <td>NaN</td>\n",
              "      <td>93</td>\n",
              "    </tr>\n",
              "    <tr>\n",
              "      <th>999</th>\n",
              "      <td>19.64</td>\n",
              "      <td>87</td>\n",
              "    </tr>\n",
              "  </tbody>\n",
              "</table>\n",
              "<p>1000 rows × 2 columns</p>\n",
              "</div>"
            ],
            "text/plain": [
              "     Revenue (Millions)  Runtime (Minutes)\n",
              "0                333.13                121\n",
              "1                126.46                124\n",
              "2                138.12                117\n",
              "3                270.32                108\n",
              "4                325.02                123\n",
              "..                  ...                ...\n",
              "995                 NaN                111\n",
              "996               17.54                 94\n",
              "997               58.01                 98\n",
              "998                 NaN                 93\n",
              "999               19.64                 87\n",
              "\n",
              "[1000 rows x 2 columns]"
            ]
          },
          "metadata": {
            "tags": []
          },
          "execution_count": 17
        }
      ]
    },
    {
      "cell_type": "code",
      "metadata": {
        "colab": {
          "base_uri": "https://localhost:8080/",
          "height": 1000
        },
        "id": "BnAe0VNIwry0",
        "outputId": "0b67f5ed-ea42-4a82-f440-064c1f8b7db2"
      },
      "source": [
        "df[100:120]"
      ],
      "execution_count": null,
      "outputs": [
        {
          "output_type": "execute_result",
          "data": {
            "text/html": [
              "<div>\n",
              "<style scoped>\n",
              "    .dataframe tbody tr th:only-of-type {\n",
              "        vertical-align: middle;\n",
              "    }\n",
              "\n",
              "    .dataframe tbody tr th {\n",
              "        vertical-align: top;\n",
              "    }\n",
              "\n",
              "    .dataframe thead th {\n",
              "        text-align: right;\n",
              "    }\n",
              "</style>\n",
              "<table border=\"1\" class=\"dataframe\">\n",
              "  <thead>\n",
              "    <tr style=\"text-align: right;\">\n",
              "      <th></th>\n",
              "      <th>Rank</th>\n",
              "      <th>Title</th>\n",
              "      <th>Genre</th>\n",
              "      <th>Description</th>\n",
              "      <th>Director</th>\n",
              "      <th>Actors</th>\n",
              "      <th>Year</th>\n",
              "      <th>Runtime (Minutes)</th>\n",
              "      <th>Rating</th>\n",
              "      <th>Votes</th>\n",
              "      <th>Revenue (Millions)</th>\n",
              "      <th>Metascore</th>\n",
              "    </tr>\n",
              "  </thead>\n",
              "  <tbody>\n",
              "    <tr>\n",
              "      <th>100</th>\n",
              "      <td>101</td>\n",
              "      <td>Legend</td>\n",
              "      <td>Biography,Crime,Drama</td>\n",
              "      <td>Identical twin gangsters Ronald and Reginald K...</td>\n",
              "      <td>Brian Helgeland</td>\n",
              "      <td>Tom Hardy, Emily Browning, Taron Egerton, Paul...</td>\n",
              "      <td>2015</td>\n",
              "      <td>132</td>\n",
              "      <td>7.0</td>\n",
              "      <td>108836</td>\n",
              "      <td>1.87</td>\n",
              "      <td>55.0</td>\n",
              "    </tr>\n",
              "    <tr>\n",
              "      <th>101</th>\n",
              "      <td>102</td>\n",
              "      <td>Thor</td>\n",
              "      <td>Action,Adventure,Fantasy</td>\n",
              "      <td>The powerful but arrogant god Thor is cast out...</td>\n",
              "      <td>Kenneth Branagh</td>\n",
              "      <td>Chris Hemsworth, Anthony Hopkins, Natalie Port...</td>\n",
              "      <td>2011</td>\n",
              "      <td>115</td>\n",
              "      <td>7.0</td>\n",
              "      <td>570814</td>\n",
              "      <td>181.02</td>\n",
              "      <td>57.0</td>\n",
              "    </tr>\n",
              "    <tr>\n",
              "      <th>102</th>\n",
              "      <td>103</td>\n",
              "      <td>The Martian</td>\n",
              "      <td>Adventure,Drama,Sci-Fi</td>\n",
              "      <td>An astronaut becomes stranded on Mars after hi...</td>\n",
              "      <td>Ridley Scott</td>\n",
              "      <td>Matt Damon, Jessica Chastain, Kristen Wiig, Ka...</td>\n",
              "      <td>2015</td>\n",
              "      <td>144</td>\n",
              "      <td>8.0</td>\n",
              "      <td>556097</td>\n",
              "      <td>228.43</td>\n",
              "      <td>80.0</td>\n",
              "    </tr>\n",
              "    <tr>\n",
              "      <th>103</th>\n",
              "      <td>104</td>\n",
              "      <td>Contratiempo</td>\n",
              "      <td>Crime,Mystery,Thriller</td>\n",
              "      <td>A young businessman faces a lawyer trying to p...</td>\n",
              "      <td>Oriol Paulo</td>\n",
              "      <td>Mario Casas, Ana Wagener, José Coronado, Bárba...</td>\n",
              "      <td>2016</td>\n",
              "      <td>106</td>\n",
              "      <td>7.9</td>\n",
              "      <td>7204</td>\n",
              "      <td>NaN</td>\n",
              "      <td>NaN</td>\n",
              "    </tr>\n",
              "    <tr>\n",
              "      <th>104</th>\n",
              "      <td>105</td>\n",
              "      <td>The Man from U.N.C.L.E.</td>\n",
              "      <td>Action,Adventure,Comedy</td>\n",
              "      <td>In the early 1960s, CIA agent Napoleon Solo an...</td>\n",
              "      <td>Guy Ritchie</td>\n",
              "      <td>Henry Cavill, Armie Hammer, Alicia Vikander, E...</td>\n",
              "      <td>2015</td>\n",
              "      <td>116</td>\n",
              "      <td>7.3</td>\n",
              "      <td>202973</td>\n",
              "      <td>45.43</td>\n",
              "      <td>56.0</td>\n",
              "    </tr>\n",
              "    <tr>\n",
              "      <th>105</th>\n",
              "      <td>106</td>\n",
              "      <td>Hell or High Water</td>\n",
              "      <td>Crime,Drama,Thriller</td>\n",
              "      <td>A divorced father and his ex-con older brother...</td>\n",
              "      <td>David Mackenzie</td>\n",
              "      <td>Chris Pine, Ben Foster, Jeff Bridges, Gil Birm...</td>\n",
              "      <td>2016</td>\n",
              "      <td>102</td>\n",
              "      <td>7.7</td>\n",
              "      <td>115546</td>\n",
              "      <td>26.86</td>\n",
              "      <td>88.0</td>\n",
              "    </tr>\n",
              "    <tr>\n",
              "      <th>106</th>\n",
              "      <td>107</td>\n",
              "      <td>The Comedian</td>\n",
              "      <td>Comedy</td>\n",
              "      <td>A look at the life of an aging insult comic na...</td>\n",
              "      <td>Taylor Hackford</td>\n",
              "      <td>Robert De Niro, Leslie Mann, Danny DeVito, Edi...</td>\n",
              "      <td>2016</td>\n",
              "      <td>120</td>\n",
              "      <td>5.4</td>\n",
              "      <td>1954</td>\n",
              "      <td>1.66</td>\n",
              "      <td>40.0</td>\n",
              "    </tr>\n",
              "    <tr>\n",
              "      <th>107</th>\n",
              "      <td>108</td>\n",
              "      <td>The Legend of Tarzan</td>\n",
              "      <td>Action,Adventure,Drama</td>\n",
              "      <td>Tarzan, having acclimated to life in London, i...</td>\n",
              "      <td>David Yates</td>\n",
              "      <td>Alexander Skarsgård, Rory J. Saper, Christian ...</td>\n",
              "      <td>2016</td>\n",
              "      <td>110</td>\n",
              "      <td>6.3</td>\n",
              "      <td>117590</td>\n",
              "      <td>126.59</td>\n",
              "      <td>44.0</td>\n",
              "    </tr>\n",
              "    <tr>\n",
              "      <th>108</th>\n",
              "      <td>109</td>\n",
              "      <td>All We Had</td>\n",
              "      <td>Drama</td>\n",
              "      <td>A mother struggles to make a better life for h...</td>\n",
              "      <td>Katie Holmes</td>\n",
              "      <td>Eve Lindley, Richard Kind, Mark Consuelos, Kat...</td>\n",
              "      <td>2016</td>\n",
              "      <td>105</td>\n",
              "      <td>5.8</td>\n",
              "      <td>1004</td>\n",
              "      <td>NaN</td>\n",
              "      <td>48.0</td>\n",
              "    </tr>\n",
              "    <tr>\n",
              "      <th>109</th>\n",
              "      <td>110</td>\n",
              "      <td>Ex Machina</td>\n",
              "      <td>Drama,Mystery,Sci-Fi</td>\n",
              "      <td>A young programmer is selected to participate ...</td>\n",
              "      <td>Alex Garland</td>\n",
              "      <td>Alicia Vikander, Domhnall Gleeson, Oscar Isaac...</td>\n",
              "      <td>2014</td>\n",
              "      <td>108</td>\n",
              "      <td>7.7</td>\n",
              "      <td>339797</td>\n",
              "      <td>25.44</td>\n",
              "      <td>78.0</td>\n",
              "    </tr>\n",
              "    <tr>\n",
              "      <th>110</th>\n",
              "      <td>111</td>\n",
              "      <td>The Belko Experiment</td>\n",
              "      <td>Action,Horror,Thriller</td>\n",
              "      <td>In a twisted social experiment, 80 Americans a...</td>\n",
              "      <td>Greg McLean</td>\n",
              "      <td>John Gallagher Jr., Tony Goldwyn, Adria Arjona...</td>\n",
              "      <td>2016</td>\n",
              "      <td>89</td>\n",
              "      <td>6.3</td>\n",
              "      <td>3712</td>\n",
              "      <td>10.16</td>\n",
              "      <td>44.0</td>\n",
              "    </tr>\n",
              "    <tr>\n",
              "      <th>111</th>\n",
              "      <td>112</td>\n",
              "      <td>12 Years a Slave</td>\n",
              "      <td>Biography,Drama,History</td>\n",
              "      <td>In the antebellum United States, Solomon North...</td>\n",
              "      <td>Steve McQueen</td>\n",
              "      <td>Chiwetel Ejiofor, Michael Kenneth Williams, Mi...</td>\n",
              "      <td>2013</td>\n",
              "      <td>134</td>\n",
              "      <td>8.1</td>\n",
              "      <td>486338</td>\n",
              "      <td>56.67</td>\n",
              "      <td>96.0</td>\n",
              "    </tr>\n",
              "    <tr>\n",
              "      <th>112</th>\n",
              "      <td>113</td>\n",
              "      <td>The Bad Batch</td>\n",
              "      <td>Romance,Sci-Fi</td>\n",
              "      <td>A dystopian love story in a Texas wasteland an...</td>\n",
              "      <td>Ana Lily Amirpour</td>\n",
              "      <td>Keanu Reeves, Jason Momoa, Jim Carrey, Diego Luna</td>\n",
              "      <td>2016</td>\n",
              "      <td>118</td>\n",
              "      <td>6.1</td>\n",
              "      <td>512</td>\n",
              "      <td>NaN</td>\n",
              "      <td>65.0</td>\n",
              "    </tr>\n",
              "    <tr>\n",
              "      <th>113</th>\n",
              "      <td>114</td>\n",
              "      <td>300</td>\n",
              "      <td>Action,Fantasy,War</td>\n",
              "      <td>King Leonidas of Sparta and a force of 300 men...</td>\n",
              "      <td>Zack Snyder</td>\n",
              "      <td>Gerard Butler, Lena Headey, David Wenham, Domi...</td>\n",
              "      <td>2006</td>\n",
              "      <td>117</td>\n",
              "      <td>7.7</td>\n",
              "      <td>637104</td>\n",
              "      <td>210.59</td>\n",
              "      <td>52.0</td>\n",
              "    </tr>\n",
              "    <tr>\n",
              "      <th>114</th>\n",
              "      <td>115</td>\n",
              "      <td>Harry Potter and the Deathly Hallows: Part 2</td>\n",
              "      <td>Adventure,Drama,Fantasy</td>\n",
              "      <td>Harry, Ron and Hermione search for Voldemort's...</td>\n",
              "      <td>David Yates</td>\n",
              "      <td>Daniel Radcliffe, Emma Watson, Rupert Grint, M...</td>\n",
              "      <td>2011</td>\n",
              "      <td>130</td>\n",
              "      <td>8.1</td>\n",
              "      <td>590595</td>\n",
              "      <td>380.96</td>\n",
              "      <td>87.0</td>\n",
              "    </tr>\n",
              "    <tr>\n",
              "      <th>115</th>\n",
              "      <td>116</td>\n",
              "      <td>Office Christmas Party</td>\n",
              "      <td>Comedy</td>\n",
              "      <td>When his uptight CEO sister threatens to shut ...</td>\n",
              "      <td>Josh Gordon</td>\n",
              "      <td>Jason Bateman, Olivia Munn, T.J. Miller,Jennif...</td>\n",
              "      <td>2016</td>\n",
              "      <td>105</td>\n",
              "      <td>5.8</td>\n",
              "      <td>30761</td>\n",
              "      <td>54.73</td>\n",
              "      <td>42.0</td>\n",
              "    </tr>\n",
              "    <tr>\n",
              "      <th>116</th>\n",
              "      <td>117</td>\n",
              "      <td>The Neon Demon</td>\n",
              "      <td>Horror,Thriller</td>\n",
              "      <td>When aspiring model Jesse moves to Los Angeles...</td>\n",
              "      <td>Nicolas Winding Refn</td>\n",
              "      <td>Elle Fanning, Christina Hendricks, Keanu Reeve...</td>\n",
              "      <td>2016</td>\n",
              "      <td>118</td>\n",
              "      <td>6.2</td>\n",
              "      <td>50359</td>\n",
              "      <td>1.33</td>\n",
              "      <td>51.0</td>\n",
              "    </tr>\n",
              "    <tr>\n",
              "      <th>117</th>\n",
              "      <td>118</td>\n",
              "      <td>Dangal</td>\n",
              "      <td>Action,Biography,Drama</td>\n",
              "      <td>Former wrestler Mahavir Singh Phogat and his t...</td>\n",
              "      <td>Nitesh Tiwari</td>\n",
              "      <td>Aamir Khan, Sakshi Tanwar, Fatima Sana Shaikh,...</td>\n",
              "      <td>2016</td>\n",
              "      <td>161</td>\n",
              "      <td>8.8</td>\n",
              "      <td>48969</td>\n",
              "      <td>11.15</td>\n",
              "      <td>NaN</td>\n",
              "    </tr>\n",
              "    <tr>\n",
              "      <th>118</th>\n",
              "      <td>119</td>\n",
              "      <td>10 Cloverfield Lane</td>\n",
              "      <td>Drama,Horror,Mystery</td>\n",
              "      <td>After getting in a car accident, a woman is he...</td>\n",
              "      <td>Dan Trachtenberg</td>\n",
              "      <td>John Goodman, Mary Elizabeth Winstead, John Ga...</td>\n",
              "      <td>2016</td>\n",
              "      <td>104</td>\n",
              "      <td>7.2</td>\n",
              "      <td>192968</td>\n",
              "      <td>71.90</td>\n",
              "      <td>76.0</td>\n",
              "    </tr>\n",
              "    <tr>\n",
              "      <th>119</th>\n",
              "      <td>120</td>\n",
              "      <td>Finding Dory</td>\n",
              "      <td>Animation,Adventure,Comedy</td>\n",
              "      <td>The friendly but forgetful blue tang fish, Dor...</td>\n",
              "      <td>Andrew Stanton</td>\n",
              "      <td>Ellen DeGeneres, Albert Brooks,Ed O'Neill, Kai...</td>\n",
              "      <td>2016</td>\n",
              "      <td>97</td>\n",
              "      <td>7.4</td>\n",
              "      <td>157026</td>\n",
              "      <td>486.29</td>\n",
              "      <td>77.0</td>\n",
              "    </tr>\n",
              "  </tbody>\n",
              "</table>\n",
              "</div>"
            ],
            "text/plain": [
              "     Rank  ... Metascore\n",
              "100   101  ...      55.0\n",
              "101   102  ...      57.0\n",
              "102   103  ...      80.0\n",
              "103   104  ...       NaN\n",
              "104   105  ...      56.0\n",
              "105   106  ...      88.0\n",
              "106   107  ...      40.0\n",
              "107   108  ...      44.0\n",
              "108   109  ...      48.0\n",
              "109   110  ...      78.0\n",
              "110   111  ...      44.0\n",
              "111   112  ...      96.0\n",
              "112   113  ...      65.0\n",
              "113   114  ...      52.0\n",
              "114   115  ...      87.0\n",
              "115   116  ...      42.0\n",
              "116   117  ...      51.0\n",
              "117   118  ...       NaN\n",
              "118   119  ...      76.0\n",
              "119   120  ...      77.0\n",
              "\n",
              "[20 rows x 12 columns]"
            ]
          },
          "metadata": {
            "tags": []
          },
          "execution_count": 18
        }
      ]
    },
    {
      "cell_type": "code",
      "metadata": {
        "colab": {
          "base_uri": "https://localhost:8080/",
          "height": 669
        },
        "id": "64zciKcfwr1Q",
        "outputId": "cc0d3539-e25f-4e08-bebb-8eab620b4a1f"
      },
      "source": [
        "df.iloc[100:120,[1, 6, 7, 8, 9, 10]]"
      ],
      "execution_count": null,
      "outputs": [
        {
          "output_type": "execute_result",
          "data": {
            "text/html": [
              "<div>\n",
              "<style scoped>\n",
              "    .dataframe tbody tr th:only-of-type {\n",
              "        vertical-align: middle;\n",
              "    }\n",
              "\n",
              "    .dataframe tbody tr th {\n",
              "        vertical-align: top;\n",
              "    }\n",
              "\n",
              "    .dataframe thead th {\n",
              "        text-align: right;\n",
              "    }\n",
              "</style>\n",
              "<table border=\"1\" class=\"dataframe\">\n",
              "  <thead>\n",
              "    <tr style=\"text-align: right;\">\n",
              "      <th></th>\n",
              "      <th>Title</th>\n",
              "      <th>Year</th>\n",
              "      <th>Runtime (Minutes)</th>\n",
              "      <th>Rating</th>\n",
              "      <th>Votes</th>\n",
              "      <th>Revenue (Millions)</th>\n",
              "    </tr>\n",
              "  </thead>\n",
              "  <tbody>\n",
              "    <tr>\n",
              "      <th>100</th>\n",
              "      <td>Legend</td>\n",
              "      <td>2015</td>\n",
              "      <td>132</td>\n",
              "      <td>7.0</td>\n",
              "      <td>108836</td>\n",
              "      <td>1.87</td>\n",
              "    </tr>\n",
              "    <tr>\n",
              "      <th>101</th>\n",
              "      <td>Thor</td>\n",
              "      <td>2011</td>\n",
              "      <td>115</td>\n",
              "      <td>7.0</td>\n",
              "      <td>570814</td>\n",
              "      <td>181.02</td>\n",
              "    </tr>\n",
              "    <tr>\n",
              "      <th>102</th>\n",
              "      <td>The Martian</td>\n",
              "      <td>2015</td>\n",
              "      <td>144</td>\n",
              "      <td>8.0</td>\n",
              "      <td>556097</td>\n",
              "      <td>228.43</td>\n",
              "    </tr>\n",
              "    <tr>\n",
              "      <th>103</th>\n",
              "      <td>Contratiempo</td>\n",
              "      <td>2016</td>\n",
              "      <td>106</td>\n",
              "      <td>7.9</td>\n",
              "      <td>7204</td>\n",
              "      <td>NaN</td>\n",
              "    </tr>\n",
              "    <tr>\n",
              "      <th>104</th>\n",
              "      <td>The Man from U.N.C.L.E.</td>\n",
              "      <td>2015</td>\n",
              "      <td>116</td>\n",
              "      <td>7.3</td>\n",
              "      <td>202973</td>\n",
              "      <td>45.43</td>\n",
              "    </tr>\n",
              "    <tr>\n",
              "      <th>105</th>\n",
              "      <td>Hell or High Water</td>\n",
              "      <td>2016</td>\n",
              "      <td>102</td>\n",
              "      <td>7.7</td>\n",
              "      <td>115546</td>\n",
              "      <td>26.86</td>\n",
              "    </tr>\n",
              "    <tr>\n",
              "      <th>106</th>\n",
              "      <td>The Comedian</td>\n",
              "      <td>2016</td>\n",
              "      <td>120</td>\n",
              "      <td>5.4</td>\n",
              "      <td>1954</td>\n",
              "      <td>1.66</td>\n",
              "    </tr>\n",
              "    <tr>\n",
              "      <th>107</th>\n",
              "      <td>The Legend of Tarzan</td>\n",
              "      <td>2016</td>\n",
              "      <td>110</td>\n",
              "      <td>6.3</td>\n",
              "      <td>117590</td>\n",
              "      <td>126.59</td>\n",
              "    </tr>\n",
              "    <tr>\n",
              "      <th>108</th>\n",
              "      <td>All We Had</td>\n",
              "      <td>2016</td>\n",
              "      <td>105</td>\n",
              "      <td>5.8</td>\n",
              "      <td>1004</td>\n",
              "      <td>NaN</td>\n",
              "    </tr>\n",
              "    <tr>\n",
              "      <th>109</th>\n",
              "      <td>Ex Machina</td>\n",
              "      <td>2014</td>\n",
              "      <td>108</td>\n",
              "      <td>7.7</td>\n",
              "      <td>339797</td>\n",
              "      <td>25.44</td>\n",
              "    </tr>\n",
              "    <tr>\n",
              "      <th>110</th>\n",
              "      <td>The Belko Experiment</td>\n",
              "      <td>2016</td>\n",
              "      <td>89</td>\n",
              "      <td>6.3</td>\n",
              "      <td>3712</td>\n",
              "      <td>10.16</td>\n",
              "    </tr>\n",
              "    <tr>\n",
              "      <th>111</th>\n",
              "      <td>12 Years a Slave</td>\n",
              "      <td>2013</td>\n",
              "      <td>134</td>\n",
              "      <td>8.1</td>\n",
              "      <td>486338</td>\n",
              "      <td>56.67</td>\n",
              "    </tr>\n",
              "    <tr>\n",
              "      <th>112</th>\n",
              "      <td>The Bad Batch</td>\n",
              "      <td>2016</td>\n",
              "      <td>118</td>\n",
              "      <td>6.1</td>\n",
              "      <td>512</td>\n",
              "      <td>NaN</td>\n",
              "    </tr>\n",
              "    <tr>\n",
              "      <th>113</th>\n",
              "      <td>300</td>\n",
              "      <td>2006</td>\n",
              "      <td>117</td>\n",
              "      <td>7.7</td>\n",
              "      <td>637104</td>\n",
              "      <td>210.59</td>\n",
              "    </tr>\n",
              "    <tr>\n",
              "      <th>114</th>\n",
              "      <td>Harry Potter and the Deathly Hallows: Part 2</td>\n",
              "      <td>2011</td>\n",
              "      <td>130</td>\n",
              "      <td>8.1</td>\n",
              "      <td>590595</td>\n",
              "      <td>380.96</td>\n",
              "    </tr>\n",
              "    <tr>\n",
              "      <th>115</th>\n",
              "      <td>Office Christmas Party</td>\n",
              "      <td>2016</td>\n",
              "      <td>105</td>\n",
              "      <td>5.8</td>\n",
              "      <td>30761</td>\n",
              "      <td>54.73</td>\n",
              "    </tr>\n",
              "    <tr>\n",
              "      <th>116</th>\n",
              "      <td>The Neon Demon</td>\n",
              "      <td>2016</td>\n",
              "      <td>118</td>\n",
              "      <td>6.2</td>\n",
              "      <td>50359</td>\n",
              "      <td>1.33</td>\n",
              "    </tr>\n",
              "    <tr>\n",
              "      <th>117</th>\n",
              "      <td>Dangal</td>\n",
              "      <td>2016</td>\n",
              "      <td>161</td>\n",
              "      <td>8.8</td>\n",
              "      <td>48969</td>\n",
              "      <td>11.15</td>\n",
              "    </tr>\n",
              "    <tr>\n",
              "      <th>118</th>\n",
              "      <td>10 Cloverfield Lane</td>\n",
              "      <td>2016</td>\n",
              "      <td>104</td>\n",
              "      <td>7.2</td>\n",
              "      <td>192968</td>\n",
              "      <td>71.90</td>\n",
              "    </tr>\n",
              "    <tr>\n",
              "      <th>119</th>\n",
              "      <td>Finding Dory</td>\n",
              "      <td>2016</td>\n",
              "      <td>97</td>\n",
              "      <td>7.4</td>\n",
              "      <td>157026</td>\n",
              "      <td>486.29</td>\n",
              "    </tr>\n",
              "  </tbody>\n",
              "</table>\n",
              "</div>"
            ],
            "text/plain": [
              "                                            Title  ...  Revenue (Millions)\n",
              "100                                        Legend  ...                1.87\n",
              "101                                          Thor  ...              181.02\n",
              "102                                   The Martian  ...              228.43\n",
              "103                                  Contratiempo  ...                 NaN\n",
              "104                       The Man from U.N.C.L.E.  ...               45.43\n",
              "105                            Hell or High Water  ...               26.86\n",
              "106                                  The Comedian  ...                1.66\n",
              "107                          The Legend of Tarzan  ...              126.59\n",
              "108                                    All We Had  ...                 NaN\n",
              "109                                    Ex Machina  ...               25.44\n",
              "110                          The Belko Experiment  ...               10.16\n",
              "111                              12 Years a Slave  ...               56.67\n",
              "112                                 The Bad Batch  ...                 NaN\n",
              "113                                           300  ...              210.59\n",
              "114  Harry Potter and the Deathly Hallows: Part 2  ...              380.96\n",
              "115                        Office Christmas Party  ...               54.73\n",
              "116                                The Neon Demon  ...                1.33\n",
              "117                                        Dangal  ...               11.15\n",
              "118                           10 Cloverfield Lane  ...               71.90\n",
              "119                                  Finding Dory  ...              486.29\n",
              "\n",
              "[20 rows x 6 columns]"
            ]
          },
          "metadata": {
            "tags": []
          },
          "execution_count": 19
        }
      ]
    },
    {
      "cell_type": "markdown",
      "metadata": {
        "id": "3SpbhxXC5auj"
      },
      "source": [
        "<b> 5) Data Selection – Based on Conditional filtering"
      ]
    },
    {
      "cell_type": "code",
      "metadata": {
        "colab": {
          "base_uri": "https://localhost:8080/",
          "height": 507
        },
        "id": "EfN27FK75ayr",
        "outputId": "0f7d8c95-7fdb-4b6c-fa3a-6054408856fa"
      },
      "source": [
        "df['Revenue (Millions)']\n",
        "df_sub = df[df['Revenue (Millions)']>500]\n",
        "print(\"All the mentioned movies have been Superhit by generating revenue of more than 500 million!! \\n\\n\")\n",
        "df_sub"
      ],
      "execution_count": null,
      "outputs": [
        {
          "output_type": "stream",
          "text": [
            "All the mentioned movies have been Superhit by generating revenue of more than 500 million!! \n",
            "\n",
            "\n"
          ],
          "name": "stdout"
        },
        {
          "output_type": "execute_result",
          "data": {
            "text/html": [
              "<div>\n",
              "<style scoped>\n",
              "    .dataframe tbody tr th:only-of-type {\n",
              "        vertical-align: middle;\n",
              "    }\n",
              "\n",
              "    .dataframe tbody tr th {\n",
              "        vertical-align: top;\n",
              "    }\n",
              "\n",
              "    .dataframe thead th {\n",
              "        text-align: right;\n",
              "    }\n",
              "</style>\n",
              "<table border=\"1\" class=\"dataframe\">\n",
              "  <thead>\n",
              "    <tr style=\"text-align: right;\">\n",
              "      <th></th>\n",
              "      <th>Rank</th>\n",
              "      <th>Title</th>\n",
              "      <th>Genre</th>\n",
              "      <th>Description</th>\n",
              "      <th>Director</th>\n",
              "      <th>Actors</th>\n",
              "      <th>Year</th>\n",
              "      <th>Runtime (Minutes)</th>\n",
              "      <th>Rating</th>\n",
              "      <th>Votes</th>\n",
              "      <th>Revenue (Millions)</th>\n",
              "      <th>Metascore</th>\n",
              "    </tr>\n",
              "  </thead>\n",
              "  <tbody>\n",
              "    <tr>\n",
              "      <th>12</th>\n",
              "      <td>13</td>\n",
              "      <td>Rogue One</td>\n",
              "      <td>Action,Adventure,Sci-Fi</td>\n",
              "      <td>The Rebel Alliance makes a risky move to steal...</td>\n",
              "      <td>Gareth Edwards</td>\n",
              "      <td>Felicity Jones, Diego Luna, Alan Tudyk, Donnie...</td>\n",
              "      <td>2016</td>\n",
              "      <td>133</td>\n",
              "      <td>7.9</td>\n",
              "      <td>323118</td>\n",
              "      <td>532.17</td>\n",
              "      <td>65.0</td>\n",
              "    </tr>\n",
              "    <tr>\n",
              "      <th>50</th>\n",
              "      <td>51</td>\n",
              "      <td>Star Wars: Episode VII - The Force Awakens</td>\n",
              "      <td>Action,Adventure,Fantasy</td>\n",
              "      <td>Three decades after the defeat of the Galactic...</td>\n",
              "      <td>J.J. Abrams</td>\n",
              "      <td>Daisy Ridley, John Boyega, Oscar Isaac, Domhna...</td>\n",
              "      <td>2015</td>\n",
              "      <td>136</td>\n",
              "      <td>8.1</td>\n",
              "      <td>661608</td>\n",
              "      <td>936.63</td>\n",
              "      <td>81.0</td>\n",
              "    </tr>\n",
              "    <tr>\n",
              "      <th>54</th>\n",
              "      <td>55</td>\n",
              "      <td>The Dark Knight</td>\n",
              "      <td>Action,Crime,Drama</td>\n",
              "      <td>When the menace known as the Joker wreaks havo...</td>\n",
              "      <td>Christopher Nolan</td>\n",
              "      <td>Christian Bale, Heath Ledger, Aaron Eckhart,Mi...</td>\n",
              "      <td>2008</td>\n",
              "      <td>152</td>\n",
              "      <td>9.0</td>\n",
              "      <td>1791916</td>\n",
              "      <td>533.32</td>\n",
              "      <td>82.0</td>\n",
              "    </tr>\n",
              "    <tr>\n",
              "      <th>76</th>\n",
              "      <td>77</td>\n",
              "      <td>The Avengers</td>\n",
              "      <td>Action,Sci-Fi</td>\n",
              "      <td>Earth's mightiest heroes must come together an...</td>\n",
              "      <td>Joss Whedon</td>\n",
              "      <td>Robert Downey Jr., Chris Evans, Scarlett Johan...</td>\n",
              "      <td>2012</td>\n",
              "      <td>143</td>\n",
              "      <td>8.1</td>\n",
              "      <td>1045588</td>\n",
              "      <td>623.28</td>\n",
              "      <td>69.0</td>\n",
              "    </tr>\n",
              "    <tr>\n",
              "      <th>85</th>\n",
              "      <td>86</td>\n",
              "      <td>Jurassic World</td>\n",
              "      <td>Action,Adventure,Sci-Fi</td>\n",
              "      <td>A new theme park, built on the original site o...</td>\n",
              "      <td>Colin Trevorrow</td>\n",
              "      <td>Chris Pratt, Bryce Dallas Howard, Ty Simpkins,...</td>\n",
              "      <td>2015</td>\n",
              "      <td>124</td>\n",
              "      <td>7.0</td>\n",
              "      <td>455169</td>\n",
              "      <td>652.18</td>\n",
              "      <td>59.0</td>\n",
              "    </tr>\n",
              "    <tr>\n",
              "      <th>87</th>\n",
              "      <td>88</td>\n",
              "      <td>Avatar</td>\n",
              "      <td>Action,Adventure,Fantasy</td>\n",
              "      <td>A paraplegic marine dispatched to the moon Pan...</td>\n",
              "      <td>James Cameron</td>\n",
              "      <td>Sam Worthington, Zoe Saldana, Sigourney Weaver...</td>\n",
              "      <td>2009</td>\n",
              "      <td>162</td>\n",
              "      <td>7.8</td>\n",
              "      <td>935408</td>\n",
              "      <td>760.51</td>\n",
              "      <td>83.0</td>\n",
              "    </tr>\n",
              "  </tbody>\n",
              "</table>\n",
              "</div>"
            ],
            "text/plain": [
              "    Rank  ... Metascore\n",
              "12    13  ...      65.0\n",
              "50    51  ...      81.0\n",
              "54    55  ...      82.0\n",
              "76    77  ...      69.0\n",
              "85    86  ...      59.0\n",
              "87    88  ...      83.0\n",
              "\n",
              "[6 rows x 12 columns]"
            ]
          },
          "metadata": {
            "tags": []
          },
          "execution_count": 20
        }
      ]
    },
    {
      "cell_type": "code",
      "metadata": {
        "colab": {
          "base_uri": "https://localhost:8080/",
          "height": 340
        },
        "id": "sBjHwXQBx99g",
        "outputId": "c1697c92-c1a3-4be0-fda8-72d9f1cf4434"
      },
      "source": [
        "df['Runtime (Minutes)']\n",
        "df_sub = df[df['Runtime (Minutes)']>175]\n",
        "df_sub"
      ],
      "execution_count": null,
      "outputs": [
        {
          "output_type": "execute_result",
          "data": {
            "text/html": [
              "<div>\n",
              "<style scoped>\n",
              "    .dataframe tbody tr th:only-of-type {\n",
              "        vertical-align: middle;\n",
              "    }\n",
              "\n",
              "    .dataframe tbody tr th {\n",
              "        vertical-align: top;\n",
              "    }\n",
              "\n",
              "    .dataframe thead th {\n",
              "        text-align: right;\n",
              "    }\n",
              "</style>\n",
              "<table border=\"1\" class=\"dataframe\">\n",
              "  <thead>\n",
              "    <tr style=\"text-align: right;\">\n",
              "      <th></th>\n",
              "      <th>Rank</th>\n",
              "      <th>Title</th>\n",
              "      <th>Genre</th>\n",
              "      <th>Description</th>\n",
              "      <th>Director</th>\n",
              "      <th>Actors</th>\n",
              "      <th>Year</th>\n",
              "      <th>Runtime (Minutes)</th>\n",
              "      <th>Rating</th>\n",
              "      <th>Votes</th>\n",
              "      <th>Revenue (Millions)</th>\n",
              "      <th>Metascore</th>\n",
              "    </tr>\n",
              "  </thead>\n",
              "  <tbody>\n",
              "    <tr>\n",
              "      <th>82</th>\n",
              "      <td>83</td>\n",
              "      <td>The Wolf of Wall Street</td>\n",
              "      <td>Biography,Comedy,Crime</td>\n",
              "      <td>Based on the true story of Jordan Belfort, fro...</td>\n",
              "      <td>Martin Scorsese</td>\n",
              "      <td>Leonardo DiCaprio, Jonah Hill, Margot Robbie,M...</td>\n",
              "      <td>2013</td>\n",
              "      <td>180</td>\n",
              "      <td>8.2</td>\n",
              "      <td>865134</td>\n",
              "      <td>116.87</td>\n",
              "      <td>75.0</td>\n",
              "    </tr>\n",
              "    <tr>\n",
              "      <th>88</th>\n",
              "      <td>89</td>\n",
              "      <td>The Hateful Eight</td>\n",
              "      <td>Crime,Drama,Mystery</td>\n",
              "      <td>In the dead of a Wyoming winter, a bounty hunt...</td>\n",
              "      <td>Quentin Tarantino</td>\n",
              "      <td>Samuel L. Jackson, Kurt Russell, Jennifer Jaso...</td>\n",
              "      <td>2015</td>\n",
              "      <td>187</td>\n",
              "      <td>7.8</td>\n",
              "      <td>341170</td>\n",
              "      <td>54.12</td>\n",
              "      <td>68.0</td>\n",
              "    </tr>\n",
              "    <tr>\n",
              "      <th>311</th>\n",
              "      <td>312</td>\n",
              "      <td>La vie d'Adèle</td>\n",
              "      <td>Drama,Romance</td>\n",
              "      <td>Adèle's life is changed when she meets Emma, a...</td>\n",
              "      <td>Abdellatif Kechiche</td>\n",
              "      <td>Léa Seydoux, Adèle Exarchopoulos, Salim Kechio...</td>\n",
              "      <td>2013</td>\n",
              "      <td>180</td>\n",
              "      <td>7.8</td>\n",
              "      <td>103150</td>\n",
              "      <td>2.20</td>\n",
              "      <td>88.0</td>\n",
              "    </tr>\n",
              "    <tr>\n",
              "      <th>828</th>\n",
              "      <td>829</td>\n",
              "      <td>Grindhouse</td>\n",
              "      <td>Action,Horror,Thriller</td>\n",
              "      <td>Quentin Tarantino and Robert Rodriguez's homag...</td>\n",
              "      <td>Robert Rodriguez</td>\n",
              "      <td>Kurt Russell, Rose McGowan, Danny Trejo, Zoë Bell</td>\n",
              "      <td>2007</td>\n",
              "      <td>191</td>\n",
              "      <td>7.6</td>\n",
              "      <td>160350</td>\n",
              "      <td>25.03</td>\n",
              "      <td>NaN</td>\n",
              "    </tr>\n",
              "    <tr>\n",
              "      <th>965</th>\n",
              "      <td>966</td>\n",
              "      <td>Inland Empire</td>\n",
              "      <td>Drama,Mystery,Thriller</td>\n",
              "      <td>As an actress starts to adopt the persona of h...</td>\n",
              "      <td>David Lynch</td>\n",
              "      <td>Laura Dern, Jeremy Irons, Justin Theroux, Karo...</td>\n",
              "      <td>2006</td>\n",
              "      <td>180</td>\n",
              "      <td>7.0</td>\n",
              "      <td>44227</td>\n",
              "      <td>NaN</td>\n",
              "      <td>NaN</td>\n",
              "    </tr>\n",
              "  </tbody>\n",
              "</table>\n",
              "</div>"
            ],
            "text/plain": [
              "     Rank                    Title  ... Revenue (Millions) Metascore\n",
              "82     83  The Wolf of Wall Street  ...             116.87      75.0\n",
              "88     89        The Hateful Eight  ...              54.12      68.0\n",
              "311   312           La vie d'Adèle  ...               2.20      88.0\n",
              "828   829               Grindhouse  ...              25.03       NaN\n",
              "965   966            Inland Empire  ...                NaN       NaN\n",
              "\n",
              "[5 rows x 12 columns]"
            ]
          },
          "metadata": {
            "tags": []
          },
          "execution_count": 21
        }
      ]
    },
    {
      "cell_type": "markdown",
      "metadata": {
        "id": "nfxDUzdO5a2q"
      },
      "source": [
        "<b> 6) Groupby operations"
      ]
    },
    {
      "cell_type": "code",
      "metadata": {
        "colab": {
          "base_uri": "https://localhost:8080/",
          "height": 419
        },
        "id": "PjXnZeSf5a6V",
        "outputId": "110570b8-629d-4c19-ec64-40cfa1a83b50"
      },
      "source": [
        "Rev=df.groupby(\"Title\")[\"Revenue (Millions)\"].mean().reset_index()\n",
        "Rev.sort_values(\"Revenue (Millions)\", ascending=True)"
      ],
      "execution_count": null,
      "outputs": [
        {
          "output_type": "execute_result",
          "data": {
            "text/html": [
              "<div>\n",
              "<style scoped>\n",
              "    .dataframe tbody tr th:only-of-type {\n",
              "        vertical-align: middle;\n",
              "    }\n",
              "\n",
              "    .dataframe tbody tr th {\n",
              "        vertical-align: top;\n",
              "    }\n",
              "\n",
              "    .dataframe thead th {\n",
              "        text-align: right;\n",
              "    }\n",
              "</style>\n",
              "<table border=\"1\" class=\"dataframe\">\n",
              "  <thead>\n",
              "    <tr style=\"text-align: right;\">\n",
              "      <th></th>\n",
              "      <th>Title</th>\n",
              "      <th>Revenue (Millions)</th>\n",
              "    </tr>\n",
              "  </thead>\n",
              "  <tbody>\n",
              "    <tr>\n",
              "      <th>28</th>\n",
              "      <td>A Kind of Murder</td>\n",
              "      <td>0.00</td>\n",
              "    </tr>\n",
              "    <tr>\n",
              "      <th>171</th>\n",
              "      <td>Dead Awake</td>\n",
              "      <td>0.01</td>\n",
              "    </tr>\n",
              "    <tr>\n",
              "      <th>434</th>\n",
              "      <td>Lovesong</td>\n",
              "      <td>0.01</td>\n",
              "    </tr>\n",
              "    <tr>\n",
              "      <th>433</th>\n",
              "      <td>Love, Rosie</td>\n",
              "      <td>0.01</td>\n",
              "    </tr>\n",
              "    <tr>\n",
              "      <th>358</th>\n",
              "      <td>Into the Forest</td>\n",
              "      <td>0.01</td>\n",
              "    </tr>\n",
              "    <tr>\n",
              "      <th>...</th>\n",
              "      <td>...</td>\n",
              "      <td>...</td>\n",
              "    </tr>\n",
              "    <tr>\n",
              "      <th>976</th>\n",
              "      <td>Winter's Bone</td>\n",
              "      <td>NaN</td>\n",
              "    </tr>\n",
              "    <tr>\n",
              "      <th>977</th>\n",
              "      <td>Wolves at the Door</td>\n",
              "      <td>NaN</td>\n",
              "    </tr>\n",
              "    <tr>\n",
              "      <th>982</th>\n",
              "      <td>Wrecker</td>\n",
              "      <td>NaN</td>\n",
              "    </tr>\n",
              "    <tr>\n",
              "      <th>988</th>\n",
              "      <td>Yoga Hosers</td>\n",
              "      <td>NaN</td>\n",
              "    </tr>\n",
              "    <tr>\n",
              "      <th>994</th>\n",
              "      <td>Zipper</td>\n",
              "      <td>NaN</td>\n",
              "    </tr>\n",
              "  </tbody>\n",
              "</table>\n",
              "<p>999 rows × 2 columns</p>\n",
              "</div>"
            ],
            "text/plain": [
              "                  Title  Revenue (Millions)\n",
              "28     A Kind of Murder                0.00\n",
              "171          Dead Awake                0.01\n",
              "434            Lovesong                0.01\n",
              "433         Love, Rosie                0.01\n",
              "358     Into the Forest                0.01\n",
              "..                  ...                 ...\n",
              "976       Winter's Bone                 NaN\n",
              "977  Wolves at the Door                 NaN\n",
              "982             Wrecker                 NaN\n",
              "988         Yoga Hosers                 NaN\n",
              "994              Zipper                 NaN\n",
              "\n",
              "[999 rows x 2 columns]"
            ]
          },
          "metadata": {
            "tags": []
          },
          "execution_count": 22
        }
      ]
    },
    {
      "cell_type": "code",
      "metadata": {
        "colab": {
          "base_uri": "https://localhost:8080/",
          "height": 1000
        },
        "id": "EEFiKHE6x-Bf",
        "outputId": "53e00921-f30b-4aab-f755-df46efccfd76"
      },
      "source": [
        "df['Year']\n",
        "df_sub = df[df['Year']==2016].groupby('Rating')[['Director']].count()\n",
        "print(\"Movies produced in 2016 have got the following ratings: \\n\\n\")\n",
        "df_sub"
      ],
      "execution_count": null,
      "outputs": [
        {
          "output_type": "stream",
          "text": [
            "Movies produced in 2016 have got the following ratings: \n",
            "\n",
            "\n"
          ],
          "name": "stdout"
        },
        {
          "output_type": "execute_result",
          "data": {
            "text/html": [
              "<div>\n",
              "<style scoped>\n",
              "    .dataframe tbody tr th:only-of-type {\n",
              "        vertical-align: middle;\n",
              "    }\n",
              "\n",
              "    .dataframe tbody tr th {\n",
              "        vertical-align: top;\n",
              "    }\n",
              "\n",
              "    .dataframe thead th {\n",
              "        text-align: right;\n",
              "    }\n",
              "</style>\n",
              "<table border=\"1\" class=\"dataframe\">\n",
              "  <thead>\n",
              "    <tr style=\"text-align: right;\">\n",
              "      <th></th>\n",
              "      <th>Director</th>\n",
              "    </tr>\n",
              "    <tr>\n",
              "      <th>Rating</th>\n",
              "      <th></th>\n",
              "    </tr>\n",
              "  </thead>\n",
              "  <tbody>\n",
              "    <tr>\n",
              "      <th>2.7</th>\n",
              "      <td>1</td>\n",
              "    </tr>\n",
              "    <tr>\n",
              "      <th>3.2</th>\n",
              "      <td>1</td>\n",
              "    </tr>\n",
              "    <tr>\n",
              "      <th>3.5</th>\n",
              "      <td>1</td>\n",
              "    </tr>\n",
              "    <tr>\n",
              "      <th>3.7</th>\n",
              "      <td>2</td>\n",
              "    </tr>\n",
              "    <tr>\n",
              "      <th>3.9</th>\n",
              "      <td>3</td>\n",
              "    </tr>\n",
              "    <tr>\n",
              "      <th>4.0</th>\n",
              "      <td>1</td>\n",
              "    </tr>\n",
              "    <tr>\n",
              "      <th>4.2</th>\n",
              "      <td>1</td>\n",
              "    </tr>\n",
              "    <tr>\n",
              "      <th>4.3</th>\n",
              "      <td>1</td>\n",
              "    </tr>\n",
              "    <tr>\n",
              "      <th>4.5</th>\n",
              "      <td>1</td>\n",
              "    </tr>\n",
              "    <tr>\n",
              "      <th>4.6</th>\n",
              "      <td>4</td>\n",
              "    </tr>\n",
              "    <tr>\n",
              "      <th>4.7</th>\n",
              "      <td>4</td>\n",
              "    </tr>\n",
              "    <tr>\n",
              "      <th>4.8</th>\n",
              "      <td>2</td>\n",
              "    </tr>\n",
              "    <tr>\n",
              "      <th>4.9</th>\n",
              "      <td>2</td>\n",
              "    </tr>\n",
              "    <tr>\n",
              "      <th>5.0</th>\n",
              "      <td>3</td>\n",
              "    </tr>\n",
              "    <tr>\n",
              "      <th>5.1</th>\n",
              "      <td>2</td>\n",
              "    </tr>\n",
              "    <tr>\n",
              "      <th>5.2</th>\n",
              "      <td>5</td>\n",
              "    </tr>\n",
              "    <tr>\n",
              "      <th>5.3</th>\n",
              "      <td>6</td>\n",
              "    </tr>\n",
              "    <tr>\n",
              "      <th>5.4</th>\n",
              "      <td>5</td>\n",
              "    </tr>\n",
              "    <tr>\n",
              "      <th>5.5</th>\n",
              "      <td>4</td>\n",
              "    </tr>\n",
              "    <tr>\n",
              "      <th>5.6</th>\n",
              "      <td>7</td>\n",
              "    </tr>\n",
              "    <tr>\n",
              "      <th>5.7</th>\n",
              "      <td>10</td>\n",
              "    </tr>\n",
              "    <tr>\n",
              "      <th>5.8</th>\n",
              "      <td>12</td>\n",
              "    </tr>\n",
              "    <tr>\n",
              "      <th>5.9</th>\n",
              "      <td>7</td>\n",
              "    </tr>\n",
              "    <tr>\n",
              "      <th>6.0</th>\n",
              "      <td>10</td>\n",
              "    </tr>\n",
              "    <tr>\n",
              "      <th>6.1</th>\n",
              "      <td>14</td>\n",
              "    </tr>\n",
              "    <tr>\n",
              "      <th>6.2</th>\n",
              "      <td>8</td>\n",
              "    </tr>\n",
              "    <tr>\n",
              "      <th>6.3</th>\n",
              "      <td>19</td>\n",
              "    </tr>\n",
              "    <tr>\n",
              "      <th>6.4</th>\n",
              "      <td>10</td>\n",
              "    </tr>\n",
              "    <tr>\n",
              "      <th>6.5</th>\n",
              "      <td>10</td>\n",
              "    </tr>\n",
              "    <tr>\n",
              "      <th>6.6</th>\n",
              "      <td>8</td>\n",
              "    </tr>\n",
              "    <tr>\n",
              "      <th>6.7</th>\n",
              "      <td>11</td>\n",
              "    </tr>\n",
              "    <tr>\n",
              "      <th>6.8</th>\n",
              "      <td>12</td>\n",
              "    </tr>\n",
              "    <tr>\n",
              "      <th>6.9</th>\n",
              "      <td>10</td>\n",
              "    </tr>\n",
              "    <tr>\n",
              "      <th>7.0</th>\n",
              "      <td>9</td>\n",
              "    </tr>\n",
              "    <tr>\n",
              "      <th>7.1</th>\n",
              "      <td>11</td>\n",
              "    </tr>\n",
              "    <tr>\n",
              "      <th>7.2</th>\n",
              "      <td>11</td>\n",
              "    </tr>\n",
              "    <tr>\n",
              "      <th>7.3</th>\n",
              "      <td>9</td>\n",
              "    </tr>\n",
              "    <tr>\n",
              "      <th>7.4</th>\n",
              "      <td>14</td>\n",
              "    </tr>\n",
              "    <tr>\n",
              "      <th>7.5</th>\n",
              "      <td>13</td>\n",
              "    </tr>\n",
              "    <tr>\n",
              "      <th>7.6</th>\n",
              "      <td>3</td>\n",
              "    </tr>\n",
              "    <tr>\n",
              "      <th>7.7</th>\n",
              "      <td>5</td>\n",
              "    </tr>\n",
              "    <tr>\n",
              "      <th>7.8</th>\n",
              "      <td>4</td>\n",
              "    </tr>\n",
              "    <tr>\n",
              "      <th>7.9</th>\n",
              "      <td>8</td>\n",
              "    </tr>\n",
              "    <tr>\n",
              "      <th>8.0</th>\n",
              "      <td>4</td>\n",
              "    </tr>\n",
              "    <tr>\n",
              "      <th>8.1</th>\n",
              "      <td>3</td>\n",
              "    </tr>\n",
              "    <tr>\n",
              "      <th>8.2</th>\n",
              "      <td>1</td>\n",
              "    </tr>\n",
              "    <tr>\n",
              "      <th>8.3</th>\n",
              "      <td>2</td>\n",
              "    </tr>\n",
              "    <tr>\n",
              "      <th>8.4</th>\n",
              "      <td>1</td>\n",
              "    </tr>\n",
              "    <tr>\n",
              "      <th>8.6</th>\n",
              "      <td>1</td>\n",
              "    </tr>\n",
              "    <tr>\n",
              "      <th>8.8</th>\n",
              "      <td>1</td>\n",
              "    </tr>\n",
              "  </tbody>\n",
              "</table>\n",
              "</div>"
            ],
            "text/plain": [
              "        Director\n",
              "Rating          \n",
              "2.7            1\n",
              "3.2            1\n",
              "3.5            1\n",
              "3.7            2\n",
              "3.9            3\n",
              "4.0            1\n",
              "4.2            1\n",
              "4.3            1\n",
              "4.5            1\n",
              "4.6            4\n",
              "4.7            4\n",
              "4.8            2\n",
              "4.9            2\n",
              "5.0            3\n",
              "5.1            2\n",
              "5.2            5\n",
              "5.3            6\n",
              "5.4            5\n",
              "5.5            4\n",
              "5.6            7\n",
              "5.7           10\n",
              "5.8           12\n",
              "5.9            7\n",
              "6.0           10\n",
              "6.1           14\n",
              "6.2            8\n",
              "6.3           19\n",
              "6.4           10\n",
              "6.5           10\n",
              "6.6            8\n",
              "6.7           11\n",
              "6.8           12\n",
              "6.9           10\n",
              "7.0            9\n",
              "7.1           11\n",
              "7.2           11\n",
              "7.3            9\n",
              "7.4           14\n",
              "7.5           13\n",
              "7.6            3\n",
              "7.7            5\n",
              "7.8            4\n",
              "7.9            8\n",
              "8.0            4\n",
              "8.1            3\n",
              "8.2            1\n",
              "8.3            2\n",
              "8.4            1\n",
              "8.6            1\n",
              "8.8            1"
            ]
          },
          "metadata": {
            "tags": []
          },
          "execution_count": 23
        }
      ]
    },
    {
      "cell_type": "markdown",
      "metadata": {
        "id": "DySxMF0i5a-T"
      },
      "source": [
        "<b> 7) Sorting operation"
      ]
    },
    {
      "cell_type": "code",
      "metadata": {
        "colab": {
          "base_uri": "https://localhost:8080/",
          "height": 553
        },
        "id": "SF71oW1g5bCI",
        "outputId": "5741d56a-0088-4e0d-9a4c-fa0dcec1aec2"
      },
      "source": [
        "dfsort = df.sort_values(by = 'Runtime (Minutes)')\n",
        "print(dfsort,\"\\n The worst movies according to Runtime in Minutes were\\n\")\n",
        "print(dfsort.head(2),\"\\n The best movies that were played alot were: \\n\")\n",
        "dfsort.tail(2)"
      ],
      "execution_count": null,
      "outputs": [
        {
          "output_type": "stream",
          "text": [
            "     Rank                    Title  ... Revenue (Millions) Metascore\n",
            "793   794      Ma vie de Courgette  ...               0.29      85.0\n",
            "42     43  Don't Fuck in the Woods  ...                NaN       NaN\n",
            "819   820       Wolves at the Door  ...                NaN      63.0\n",
            "711   712          La tortue rouge  ...               0.92      86.0\n",
            "949   950                    Kicks  ...               0.15      69.0\n",
            "..    ...                      ...  ...                ...       ...\n",
            "82     83  The Wolf of Wall Street  ...             116.87      75.0\n",
            "965   966            Inland Empire  ...                NaN       NaN\n",
            "311   312           La vie d'Adèle  ...               2.20      88.0\n",
            "88     89        The Hateful Eight  ...              54.12      68.0\n",
            "828   829               Grindhouse  ...              25.03       NaN\n",
            "\n",
            "[1000 rows x 12 columns] \n",
            " The worst movies according to Runtime in Minutes were\n",
            "\n",
            "     Rank                    Title  ... Revenue (Millions) Metascore\n",
            "793   794      Ma vie de Courgette  ...               0.29      85.0\n",
            "42     43  Don't Fuck in the Woods  ...                NaN       NaN\n",
            "\n",
            "[2 rows x 12 columns] \n",
            " The best movies that were played alot were: \n",
            "\n"
          ],
          "name": "stdout"
        },
        {
          "output_type": "execute_result",
          "data": {
            "text/html": [
              "<div>\n",
              "<style scoped>\n",
              "    .dataframe tbody tr th:only-of-type {\n",
              "        vertical-align: middle;\n",
              "    }\n",
              "\n",
              "    .dataframe tbody tr th {\n",
              "        vertical-align: top;\n",
              "    }\n",
              "\n",
              "    .dataframe thead th {\n",
              "        text-align: right;\n",
              "    }\n",
              "</style>\n",
              "<table border=\"1\" class=\"dataframe\">\n",
              "  <thead>\n",
              "    <tr style=\"text-align: right;\">\n",
              "      <th></th>\n",
              "      <th>Rank</th>\n",
              "      <th>Title</th>\n",
              "      <th>Genre</th>\n",
              "      <th>Description</th>\n",
              "      <th>Director</th>\n",
              "      <th>Actors</th>\n",
              "      <th>Year</th>\n",
              "      <th>Runtime (Minutes)</th>\n",
              "      <th>Rating</th>\n",
              "      <th>Votes</th>\n",
              "      <th>Revenue (Millions)</th>\n",
              "      <th>Metascore</th>\n",
              "    </tr>\n",
              "  </thead>\n",
              "  <tbody>\n",
              "    <tr>\n",
              "      <th>88</th>\n",
              "      <td>89</td>\n",
              "      <td>The Hateful Eight</td>\n",
              "      <td>Crime,Drama,Mystery</td>\n",
              "      <td>In the dead of a Wyoming winter, a bounty hunt...</td>\n",
              "      <td>Quentin Tarantino</td>\n",
              "      <td>Samuel L. Jackson, Kurt Russell, Jennifer Jaso...</td>\n",
              "      <td>2015</td>\n",
              "      <td>187</td>\n",
              "      <td>7.8</td>\n",
              "      <td>341170</td>\n",
              "      <td>54.12</td>\n",
              "      <td>68.0</td>\n",
              "    </tr>\n",
              "    <tr>\n",
              "      <th>828</th>\n",
              "      <td>829</td>\n",
              "      <td>Grindhouse</td>\n",
              "      <td>Action,Horror,Thriller</td>\n",
              "      <td>Quentin Tarantino and Robert Rodriguez's homag...</td>\n",
              "      <td>Robert Rodriguez</td>\n",
              "      <td>Kurt Russell, Rose McGowan, Danny Trejo, Zoë Bell</td>\n",
              "      <td>2007</td>\n",
              "      <td>191</td>\n",
              "      <td>7.6</td>\n",
              "      <td>160350</td>\n",
              "      <td>25.03</td>\n",
              "      <td>NaN</td>\n",
              "    </tr>\n",
              "  </tbody>\n",
              "</table>\n",
              "</div>"
            ],
            "text/plain": [
              "     Rank              Title  ... Revenue (Millions) Metascore\n",
              "88     89  The Hateful Eight  ...              54.12      68.0\n",
              "828   829         Grindhouse  ...              25.03       NaN\n",
              "\n",
              "[2 rows x 12 columns]"
            ]
          },
          "metadata": {
            "tags": []
          },
          "execution_count": 24
        }
      ]
    },
    {
      "cell_type": "markdown",
      "metadata": {
        "id": "V8hcB6yI5b1B"
      },
      "source": [
        "<b> 8) Dealing with missing values"
      ]
    },
    {
      "cell_type": "code",
      "metadata": {
        "colab": {
          "base_uri": "https://localhost:8080/"
        },
        "id": "e_t5c4lC2TAE",
        "outputId": "b4ded2cc-0ddd-4a54-9d18-5927a6de3196"
      },
      "source": [
        "print(df.isna().any())\n",
        "\n",
        "print(\"\\n All the columns having True as output are having null values!!\")"
      ],
      "execution_count": null,
      "outputs": [
        {
          "output_type": "stream",
          "text": [
            "Rank                  False\n",
            "Title                 False\n",
            "Genre                 False\n",
            "Description           False\n",
            "Director              False\n",
            "Actors                False\n",
            "Year                  False\n",
            "Runtime (Minutes)     False\n",
            "Rating                False\n",
            "Votes                 False\n",
            "Revenue (Millions)     True\n",
            "Metascore              True\n",
            "dtype: bool\n",
            "\n",
            " All the columns having True as output are having null values!!\n"
          ],
          "name": "stdout"
        }
      ]
    },
    {
      "cell_type": "code",
      "metadata": {
        "colab": {
          "base_uri": "https://localhost:8080/"
        },
        "id": "emHUaFGM5bKg",
        "outputId": "d0229f6e-703f-45cf-dd05-dfe12a59bd8a"
      },
      "source": [
        "print(df.isna().sum())\n",
        "\n",
        "print(\"\\n All the columns having number greater than 0 as output are having null values!!\")"
      ],
      "execution_count": null,
      "outputs": [
        {
          "output_type": "stream",
          "text": [
            "Rank                    0\n",
            "Title                   0\n",
            "Genre                   0\n",
            "Description             0\n",
            "Director                0\n",
            "Actors                  0\n",
            "Year                    0\n",
            "Runtime (Minutes)       0\n",
            "Rating                  0\n",
            "Votes                   0\n",
            "Revenue (Millions)    128\n",
            "Metascore              64\n",
            "dtype: int64\n",
            "\n",
            " All the columns having number greater than 0 as output are having null values!!\n"
          ],
          "name": "stdout"
        }
      ]
    },
    {
      "cell_type": "markdown",
      "metadata": {
        "id": "yrpdxCE_64Jm"
      },
      "source": [
        "<b> 9) Dropping columns and null values"
      ]
    },
    {
      "cell_type": "markdown",
      "metadata": {
        "id": "Zn5DdFIv3mZf"
      },
      "source": [
        "<b>There are various methods for dealing with null values like we have dropna method, fillan mehtod etc.We should always use the best considered method i.e. fillna method as dropna method will lead to removal of the dataset and thus will affect accuracy of our model.<b>"
      ]
    },
    {
      "cell_type": "code",
      "metadata": {
        "id": "-GAZdjDy8oUs"
      },
      "source": [
        "df = pd.read_csv(\"IMDB-Movie-Data.csv\")"
      ],
      "execution_count": null,
      "outputs": []
    },
    {
      "cell_type": "code",
      "metadata": {
        "colab": {
          "base_uri": "https://localhost:8080/",
          "height": 613
        },
        "id": "xhAsb8o07t3b",
        "outputId": "5dad7903-e8fb-43b1-c59b-b1a3f84a1f69"
      },
      "source": [
        "import missingno as msno\n",
        "\n",
        "msno.matrix(df.sample(1000))"
      ],
      "execution_count": null,
      "outputs": [
        {
          "output_type": "execute_result",
          "data": {
            "text/plain": [
              "<matplotlib.axes._subplots.AxesSubplot at 0x7f6741f8a210>"
            ]
          },
          "metadata": {
            "tags": []
          },
          "execution_count": 28
        },
        {
          "output_type": "display_data",
          "data": {
            "image/png": "[encoded data removed]",
            "text/plain": [
              "<Figure size 1800x720 with 2 Axes>"
            ]
          },
          "metadata": {
            "tags": [],
            "needs_background": "light"
          }
        }
      ]
    },
    {
      "cell_type": "code",
      "metadata": {
        "id": "qkeezVLP64Ou"
      },
      "source": [
        "df1 = df.dropna()"
      ],
      "execution_count": null,
      "outputs": []
    },
    {
      "cell_type": "code",
      "metadata": {
        "colab": {
          "base_uri": "https://localhost:8080/",
          "height": 742
        },
        "id": "9DO72TfT49Fw",
        "outputId": "689a2e64-5eef-4a33-bad6-82a81c313bb3"
      },
      "source": [
        "df1"
      ],
      "execution_count": null,
      "outputs": [
        {
          "output_type": "execute_result",
          "data": {
            "text/html": [
              "<div>\n",
              "<style scoped>\n",
              "    .dataframe tbody tr th:only-of-type {\n",
              "        vertical-align: middle;\n",
              "    }\n",
              "\n",
              "    .dataframe tbody tr th {\n",
              "        vertical-align: top;\n",
              "    }\n",
              "\n",
              "    .dataframe thead th {\n",
              "        text-align: right;\n",
              "    }\n",
              "</style>\n",
              "<table border=\"1\" class=\"dataframe\">\n",
              "  <thead>\n",
              "    <tr style=\"text-align: right;\">\n",
              "      <th></th>\n",
              "      <th>Rank</th>\n",
              "      <th>Title</th>\n",
              "      <th>Genre</th>\n",
              "      <th>Description</th>\n",
              "      <th>Director</th>\n",
              "      <th>Actors</th>\n",
              "      <th>Year</th>\n",
              "      <th>Runtime (Minutes)</th>\n",
              "      <th>Rating</th>\n",
              "      <th>Votes</th>\n",
              "      <th>Revenue (Millions)</th>\n",
              "      <th>Metascore</th>\n",
              "    </tr>\n",
              "  </thead>\n",
              "  <tbody>\n",
              "    <tr>\n",
              "      <th>0</th>\n",
              "      <td>1</td>\n",
              "      <td>Guardians of the Galaxy</td>\n",
              "      <td>Action,Adventure,Sci-Fi</td>\n",
              "      <td>A group of intergalactic criminals are forced ...</td>\n",
              "      <td>James Gunn</td>\n",
              "      <td>Chris Pratt, Vin Diesel, Bradley Cooper, Zoe S...</td>\n",
              "      <td>2014</td>\n",
              "      <td>121</td>\n",
              "      <td>8.1</td>\n",
              "      <td>757074</td>\n",
              "      <td>333.13</td>\n",
              "      <td>76.0</td>\n",
              "    </tr>\n",
              "    <tr>\n",
              "      <th>1</th>\n",
              "      <td>2</td>\n",
              "      <td>Prometheus</td>\n",
              "      <td>Adventure,Mystery,Sci-Fi</td>\n",
              "      <td>Following clues to the origin of mankind, a te...</td>\n",
              "      <td>Ridley Scott</td>\n",
              "      <td>Noomi Rapace, Logan Marshall-Green, Michael Fa...</td>\n",
              "      <td>2012</td>\n",
              "      <td>124</td>\n",
              "      <td>7.0</td>\n",
              "      <td>485820</td>\n",
              "      <td>126.46</td>\n",
              "      <td>65.0</td>\n",
              "    </tr>\n",
              "    <tr>\n",
              "      <th>2</th>\n",
              "      <td>3</td>\n",
              "      <td>Split</td>\n",
              "      <td>Horror,Thriller</td>\n",
              "      <td>Three girls are kidnapped by a man with a diag...</td>\n",
              "      <td>M. Night Shyamalan</td>\n",
              "      <td>James McAvoy, Anya Taylor-Joy, Haley Lu Richar...</td>\n",
              "      <td>2016</td>\n",
              "      <td>117</td>\n",
              "      <td>7.3</td>\n",
              "      <td>157606</td>\n",
              "      <td>138.12</td>\n",
              "      <td>62.0</td>\n",
              "    </tr>\n",
              "    <tr>\n",
              "      <th>3</th>\n",
              "      <td>4</td>\n",
              "      <td>Sing</td>\n",
              "      <td>Animation,Comedy,Family</td>\n",
              "      <td>In a city of humanoid animals, a hustling thea...</td>\n",
              "      <td>Christophe Lourdelet</td>\n",
              "      <td>Matthew McConaughey,Reese Witherspoon, Seth Ma...</td>\n",
              "      <td>2016</td>\n",
              "      <td>108</td>\n",
              "      <td>7.2</td>\n",
              "      <td>60545</td>\n",
              "      <td>270.32</td>\n",
              "      <td>59.0</td>\n",
              "    </tr>\n",
              "    <tr>\n",
              "      <th>4</th>\n",
              "      <td>5</td>\n",
              "      <td>Suicide Squad</td>\n",
              "      <td>Action,Adventure,Fantasy</td>\n",
              "      <td>A secret government agency recruits some of th...</td>\n",
              "      <td>David Ayer</td>\n",
              "      <td>Will Smith, Jared Leto, Margot Robbie, Viola D...</td>\n",
              "      <td>2016</td>\n",
              "      <td>123</td>\n",
              "      <td>6.2</td>\n",
              "      <td>393727</td>\n",
              "      <td>325.02</td>\n",
              "      <td>40.0</td>\n",
              "    </tr>\n",
              "    <tr>\n",
              "      <th>...</th>\n",
              "      <td>...</td>\n",
              "      <td>...</td>\n",
              "      <td>...</td>\n",
              "      <td>...</td>\n",
              "      <td>...</td>\n",
              "      <td>...</td>\n",
              "      <td>...</td>\n",
              "      <td>...</td>\n",
              "      <td>...</td>\n",
              "      <td>...</td>\n",
              "      <td>...</td>\n",
              "      <td>...</td>\n",
              "    </tr>\n",
              "    <tr>\n",
              "      <th>993</th>\n",
              "      <td>994</td>\n",
              "      <td>Resident Evil: Afterlife</td>\n",
              "      <td>Action,Adventure,Horror</td>\n",
              "      <td>While still out to destroy the evil Umbrella C...</td>\n",
              "      <td>Paul W.S. Anderson</td>\n",
              "      <td>Milla Jovovich, Ali Larter, Wentworth Miller,K...</td>\n",
              "      <td>2010</td>\n",
              "      <td>97</td>\n",
              "      <td>5.9</td>\n",
              "      <td>140900</td>\n",
              "      <td>60.13</td>\n",
              "      <td>37.0</td>\n",
              "    </tr>\n",
              "    <tr>\n",
              "      <th>994</th>\n",
              "      <td>995</td>\n",
              "      <td>Project X</td>\n",
              "      <td>Comedy</td>\n",
              "      <td>3 high school seniors throw a birthday party t...</td>\n",
              "      <td>Nima Nourizadeh</td>\n",
              "      <td>Thomas Mann, Oliver Cooper, Jonathan Daniel Br...</td>\n",
              "      <td>2012</td>\n",
              "      <td>88</td>\n",
              "      <td>6.7</td>\n",
              "      <td>164088</td>\n",
              "      <td>54.72</td>\n",
              "      <td>48.0</td>\n",
              "    </tr>\n",
              "    <tr>\n",
              "      <th>996</th>\n",
              "      <td>997</td>\n",
              "      <td>Hostel: Part II</td>\n",
              "      <td>Horror</td>\n",
              "      <td>Three American college students studying abroa...</td>\n",
              "      <td>Eli Roth</td>\n",
              "      <td>Lauren German, Heather Matarazzo, Bijou Philli...</td>\n",
              "      <td>2007</td>\n",
              "      <td>94</td>\n",
              "      <td>5.5</td>\n",
              "      <td>73152</td>\n",
              "      <td>17.54</td>\n",
              "      <td>46.0</td>\n",
              "    </tr>\n",
              "    <tr>\n",
              "      <th>997</th>\n",
              "      <td>998</td>\n",
              "      <td>Step Up 2: The Streets</td>\n",
              "      <td>Drama,Music,Romance</td>\n",
              "      <td>Romantic sparks occur between two dance studen...</td>\n",
              "      <td>Jon M. Chu</td>\n",
              "      <td>Robert Hoffman, Briana Evigan, Cassie Ventura,...</td>\n",
              "      <td>2008</td>\n",
              "      <td>98</td>\n",
              "      <td>6.2</td>\n",
              "      <td>70699</td>\n",
              "      <td>58.01</td>\n",
              "      <td>50.0</td>\n",
              "    </tr>\n",
              "    <tr>\n",
              "      <th>999</th>\n",
              "      <td>1000</td>\n",
              "      <td>Nine Lives</td>\n",
              "      <td>Comedy,Family,Fantasy</td>\n",
              "      <td>A stuffy businessman finds himself trapped ins...</td>\n",
              "      <td>Barry Sonnenfeld</td>\n",
              "      <td>Kevin Spacey, Jennifer Garner, Robbie Amell,Ch...</td>\n",
              "      <td>2016</td>\n",
              "      <td>87</td>\n",
              "      <td>5.3</td>\n",
              "      <td>12435</td>\n",
              "      <td>19.64</td>\n",
              "      <td>11.0</td>\n",
              "    </tr>\n",
              "  </tbody>\n",
              "</table>\n",
              "<p>838 rows × 12 columns</p>\n",
              "</div>"
            ],
            "text/plain": [
              "     Rank                     Title  ... Revenue (Millions) Metascore\n",
              "0       1   Guardians of the Galaxy  ...             333.13      76.0\n",
              "1       2                Prometheus  ...             126.46      65.0\n",
              "2       3                     Split  ...             138.12      62.0\n",
              "3       4                      Sing  ...             270.32      59.0\n",
              "4       5             Suicide Squad  ...             325.02      40.0\n",
              "..    ...                       ...  ...                ...       ...\n",
              "993   994  Resident Evil: Afterlife  ...              60.13      37.0\n",
              "994   995                 Project X  ...              54.72      48.0\n",
              "996   997           Hostel: Part II  ...              17.54      46.0\n",
              "997   998    Step Up 2: The Streets  ...              58.01      50.0\n",
              "999  1000                Nine Lives  ...              19.64      11.0\n",
              "\n",
              "[838 rows x 12 columns]"
            ]
          },
          "metadata": {
            "tags": []
          },
          "execution_count": 30
        }
      ]
    },
    {
      "cell_type": "code",
      "metadata": {
        "colab": {
          "base_uri": "https://localhost:8080/"
        },
        "id": "yKklMI3q4YcC",
        "outputId": "3c353733-dab8-46ec-820b-5e232208f123"
      },
      "source": [
        "df1.isna().any()"
      ],
      "execution_count": null,
      "outputs": [
        {
          "output_type": "execute_result",
          "data": {
            "text/plain": [
              "Rank                  False\n",
              "Title                 False\n",
              "Genre                 False\n",
              "Description           False\n",
              "Director              False\n",
              "Actors                False\n",
              "Year                  False\n",
              "Runtime (Minutes)     False\n",
              "Rating                False\n",
              "Votes                 False\n",
              "Revenue (Millions)    False\n",
              "Metascore             False\n",
              "dtype: bool"
            ]
          },
          "metadata": {
            "tags": []
          },
          "execution_count": 31
        }
      ]
    },
    {
      "cell_type": "code",
      "metadata": {
        "colab": {
          "base_uri": "https://localhost:8080/"
        },
        "id": "gxc_0mcx4YUh",
        "outputId": "61ce58bd-f05f-4540-b97e-0eabace50ab9"
      },
      "source": [
        "df1.isna().sum()"
      ],
      "execution_count": null,
      "outputs": [
        {
          "output_type": "execute_result",
          "data": {
            "text/plain": [
              "Rank                  0\n",
              "Title                 0\n",
              "Genre                 0\n",
              "Description           0\n",
              "Director              0\n",
              "Actors                0\n",
              "Year                  0\n",
              "Runtime (Minutes)     0\n",
              "Rating                0\n",
              "Votes                 0\n",
              "Revenue (Millions)    0\n",
              "Metascore             0\n",
              "dtype: int64"
            ]
          },
          "metadata": {
            "tags": []
          },
          "execution_count": 32
        }
      ]
    },
    {
      "cell_type": "code",
      "metadata": {
        "colab": {
          "base_uri": "https://localhost:8080/",
          "height": 618
        },
        "id": "1WMBN9bE7t_y",
        "outputId": "ec34fe2a-58d4-491b-ddf2-1b4375b3f1b9"
      },
      "source": [
        "msno.matrix(df1.sample(800))"
      ],
      "execution_count": null,
      "outputs": [
        {
          "output_type": "execute_result",
          "data": {
            "text/plain": [
              "<matplotlib.axes._subplots.AxesSubplot at 0x7f67391d9850>"
            ]
          },
          "metadata": {
            "tags": []
          },
          "execution_count": 33
        },
        {
          "output_type": "display_data",
          "data": {
            "image/png": "[encoded data removed]",
            "text/plain": [
              "<Figure size 1800x720 with 2 Axes>"
            ]
          },
          "metadata": {
            "tags": [],
            "needs_background": "light"
          }
        }
      ]
    },
    {
      "cell_type": "markdown",
      "metadata": {
        "id": "q1iH_WzH5AJv"
      },
      "source": [
        "                                        \n",
        "                                      OR"
      ]
    },
    {
      "cell_type": "code",
      "metadata": {
        "colab": {
          "base_uri": "https://localhost:8080/",
          "height": 664
        },
        "id": "9AtqD7Tl4_ud",
        "outputId": "c08b404b-9cc4-4601-ac37-a5b61f2120e8"
      },
      "source": [
        "df = pd.read_csv(\"IMDB-Movie-Data.csv\")\n",
        "\n",
        "msno.bar(df.sample(1000))"
      ],
      "execution_count": null,
      "outputs": [
        {
          "output_type": "execute_result",
          "data": {
            "text/plain": [
              "<matplotlib.axes._subplots.AxesSubplot at 0x7f6750a05990>"
            ]
          },
          "metadata": {
            "tags": []
          },
          "execution_count": 34
        },
        {
          "output_type": "display_data",
          "data": {
            "image/png": "[encoded data removed]",
            "text/plain": [
              "<Figure size 1728x720 with 3 Axes>"
            ]
          },
          "metadata": {
            "tags": [],
            "needs_background": "light"
          }
        }
      ]
    },
    {
      "cell_type": "code",
      "metadata": {
        "id": "i0cbFAN-5WoN"
      },
      "source": [
        "df1 = df.fillna(0)"
      ],
      "execution_count": null,
      "outputs": []
    },
    {
      "cell_type": "code",
      "metadata": {
        "colab": {
          "base_uri": "https://localhost:8080/",
          "height": 742
        },
        "id": "F6sAOP6R5Wqz",
        "outputId": "164dc817-24e4-407d-9515-5f0b86b51c62"
      },
      "source": [
        "df1"
      ],
      "execution_count": null,
      "outputs": [
        {
          "output_type": "execute_result",
          "data": {
            "text/html": [
              "<div>\n",
              "<style scoped>\n",
              "    .dataframe tbody tr th:only-of-type {\n",
              "        vertical-align: middle;\n",
              "    }\n",
              "\n",
              "    .dataframe tbody tr th {\n",
              "        vertical-align: top;\n",
              "    }\n",
              "\n",
              "    .dataframe thead th {\n",
              "        text-align: right;\n",
              "    }\n",
              "</style>\n",
              "<table border=\"1\" class=\"dataframe\">\n",
              "  <thead>\n",
              "    <tr style=\"text-align: right;\">\n",
              "      <th></th>\n",
              "      <th>Rank</th>\n",
              "      <th>Title</th>\n",
              "      <th>Genre</th>\n",
              "      <th>Description</th>\n",
              "      <th>Director</th>\n",
              "      <th>Actors</th>\n",
              "      <th>Year</th>\n",
              "      <th>Runtime (Minutes)</th>\n",
              "      <th>Rating</th>\n",
              "      <th>Votes</th>\n",
              "      <th>Revenue (Millions)</th>\n",
              "      <th>Metascore</th>\n",
              "    </tr>\n",
              "  </thead>\n",
              "  <tbody>\n",
              "    <tr>\n",
              "      <th>0</th>\n",
              "      <td>1</td>\n",
              "      <td>Guardians of the Galaxy</td>\n",
              "      <td>Action,Adventure,Sci-Fi</td>\n",
              "      <td>A group of intergalactic criminals are forced ...</td>\n",
              "      <td>James Gunn</td>\n",
              "      <td>Chris Pratt, Vin Diesel, Bradley Cooper, Zoe S...</td>\n",
              "      <td>2014</td>\n",
              "      <td>121</td>\n",
              "      <td>8.1</td>\n",
              "      <td>757074</td>\n",
              "      <td>333.13</td>\n",
              "      <td>76.0</td>\n",
              "    </tr>\n",
              "    <tr>\n",
              "      <th>1</th>\n",
              "      <td>2</td>\n",
              "      <td>Prometheus</td>\n",
              "      <td>Adventure,Mystery,Sci-Fi</td>\n",
              "      <td>Following clues to the origin of mankind, a te...</td>\n",
              "      <td>Ridley Scott</td>\n",
              "      <td>Noomi Rapace, Logan Marshall-Green, Michael Fa...</td>\n",
              "      <td>2012</td>\n",
              "      <td>124</td>\n",
              "      <td>7.0</td>\n",
              "      <td>485820</td>\n",
              "      <td>126.46</td>\n",
              "      <td>65.0</td>\n",
              "    </tr>\n",
              "    <tr>\n",
              "      <th>2</th>\n",
              "      <td>3</td>\n",
              "      <td>Split</td>\n",
              "      <td>Horror,Thriller</td>\n",
              "      <td>Three girls are kidnapped by a man with a diag...</td>\n",
              "      <td>M. Night Shyamalan</td>\n",
              "      <td>James McAvoy, Anya Taylor-Joy, Haley Lu Richar...</td>\n",
              "      <td>2016</td>\n",
              "      <td>117</td>\n",
              "      <td>7.3</td>\n",
              "      <td>157606</td>\n",
              "      <td>138.12</td>\n",
              "      <td>62.0</td>\n",
              "    </tr>\n",
              "    <tr>\n",
              "      <th>3</th>\n",
              "      <td>4</td>\n",
              "      <td>Sing</td>\n",
              "      <td>Animation,Comedy,Family</td>\n",
              "      <td>In a city of humanoid animals, a hustling thea...</td>\n",
              "      <td>Christophe Lourdelet</td>\n",
              "      <td>Matthew McConaughey,Reese Witherspoon, Seth Ma...</td>\n",
              "      <td>2016</td>\n",
              "      <td>108</td>\n",
              "      <td>7.2</td>\n",
              "      <td>60545</td>\n",
              "      <td>270.32</td>\n",
              "      <td>59.0</td>\n",
              "    </tr>\n",
              "    <tr>\n",
              "      <th>4</th>\n",
              "      <td>5</td>\n",
              "      <td>Suicide Squad</td>\n",
              "      <td>Action,Adventure,Fantasy</td>\n",
              "      <td>A secret government agency recruits some of th...</td>\n",
              "      <td>David Ayer</td>\n",
              "      <td>Will Smith, Jared Leto, Margot Robbie, Viola D...</td>\n",
              "      <td>2016</td>\n",
              "      <td>123</td>\n",
              "      <td>6.2</td>\n",
              "      <td>393727</td>\n",
              "      <td>325.02</td>\n",
              "      <td>40.0</td>\n",
              "    </tr>\n",
              "    <tr>\n",
              "      <th>...</th>\n",
              "      <td>...</td>\n",
              "      <td>...</td>\n",
              "      <td>...</td>\n",
              "      <td>...</td>\n",
              "      <td>...</td>\n",
              "      <td>...</td>\n",
              "      <td>...</td>\n",
              "      <td>...</td>\n",
              "      <td>...</td>\n",
              "      <td>...</td>\n",
              "      <td>...</td>\n",
              "      <td>...</td>\n",
              "    </tr>\n",
              "    <tr>\n",
              "      <th>995</th>\n",
              "      <td>996</td>\n",
              "      <td>Secret in Their Eyes</td>\n",
              "      <td>Crime,Drama,Mystery</td>\n",
              "      <td>A tight-knit team of rising investigators, alo...</td>\n",
              "      <td>Billy Ray</td>\n",
              "      <td>Chiwetel Ejiofor, Nicole Kidman, Julia Roberts...</td>\n",
              "      <td>2015</td>\n",
              "      <td>111</td>\n",
              "      <td>6.2</td>\n",
              "      <td>27585</td>\n",
              "      <td>0.00</td>\n",
              "      <td>45.0</td>\n",
              "    </tr>\n",
              "    <tr>\n",
              "      <th>996</th>\n",
              "      <td>997</td>\n",
              "      <td>Hostel: Part II</td>\n",
              "      <td>Horror</td>\n",
              "      <td>Three American college students studying abroa...</td>\n",
              "      <td>Eli Roth</td>\n",
              "      <td>Lauren German, Heather Matarazzo, Bijou Philli...</td>\n",
              "      <td>2007</td>\n",
              "      <td>94</td>\n",
              "      <td>5.5</td>\n",
              "      <td>73152</td>\n",
              "      <td>17.54</td>\n",
              "      <td>46.0</td>\n",
              "    </tr>\n",
              "    <tr>\n",
              "      <th>997</th>\n",
              "      <td>998</td>\n",
              "      <td>Step Up 2: The Streets</td>\n",
              "      <td>Drama,Music,Romance</td>\n",
              "      <td>Romantic sparks occur between two dance studen...</td>\n",
              "      <td>Jon M. Chu</td>\n",
              "      <td>Robert Hoffman, Briana Evigan, Cassie Ventura,...</td>\n",
              "      <td>2008</td>\n",
              "      <td>98</td>\n",
              "      <td>6.2</td>\n",
              "      <td>70699</td>\n",
              "      <td>58.01</td>\n",
              "      <td>50.0</td>\n",
              "    </tr>\n",
              "    <tr>\n",
              "      <th>998</th>\n",
              "      <td>999</td>\n",
              "      <td>Search Party</td>\n",
              "      <td>Adventure,Comedy</td>\n",
              "      <td>A pair of friends embark on a mission to reuni...</td>\n",
              "      <td>Scot Armstrong</td>\n",
              "      <td>Adam Pally, T.J. Miller, Thomas Middleditch,Sh...</td>\n",
              "      <td>2014</td>\n",
              "      <td>93</td>\n",
              "      <td>5.6</td>\n",
              "      <td>4881</td>\n",
              "      <td>0.00</td>\n",
              "      <td>22.0</td>\n",
              "    </tr>\n",
              "    <tr>\n",
              "      <th>999</th>\n",
              "      <td>1000</td>\n",
              "      <td>Nine Lives</td>\n",
              "      <td>Comedy,Family,Fantasy</td>\n",
              "      <td>A stuffy businessman finds himself trapped ins...</td>\n",
              "      <td>Barry Sonnenfeld</td>\n",
              "      <td>Kevin Spacey, Jennifer Garner, Robbie Amell,Ch...</td>\n",
              "      <td>2016</td>\n",
              "      <td>87</td>\n",
              "      <td>5.3</td>\n",
              "      <td>12435</td>\n",
              "      <td>19.64</td>\n",
              "      <td>11.0</td>\n",
              "    </tr>\n",
              "  </tbody>\n",
              "</table>\n",
              "<p>1000 rows × 12 columns</p>\n",
              "</div>"
            ],
            "text/plain": [
              "     Rank                    Title  ... Revenue (Millions) Metascore\n",
              "0       1  Guardians of the Galaxy  ...             333.13      76.0\n",
              "1       2               Prometheus  ...             126.46      65.0\n",
              "2       3                    Split  ...             138.12      62.0\n",
              "3       4                     Sing  ...             270.32      59.0\n",
              "4       5            Suicide Squad  ...             325.02      40.0\n",
              "..    ...                      ...  ...                ...       ...\n",
              "995   996     Secret in Their Eyes  ...               0.00      45.0\n",
              "996   997          Hostel: Part II  ...              17.54      46.0\n",
              "997   998   Step Up 2: The Streets  ...              58.01      50.0\n",
              "998   999             Search Party  ...               0.00      22.0\n",
              "999  1000               Nine Lives  ...              19.64      11.0\n",
              "\n",
              "[1000 rows x 12 columns]"
            ]
          },
          "metadata": {
            "tags": []
          },
          "execution_count": 36
        }
      ]
    },
    {
      "cell_type": "code",
      "metadata": {
        "colab": {
          "base_uri": "https://localhost:8080/"
        },
        "id": "s17QEC4Y5WwR",
        "outputId": "7c412232-30d5-4966-c547-a064e42def0a"
      },
      "source": [
        "df1.isna().sum()"
      ],
      "execution_count": null,
      "outputs": [
        {
          "output_type": "execute_result",
          "data": {
            "text/plain": [
              "Rank                  0\n",
              "Title                 0\n",
              "Genre                 0\n",
              "Description           0\n",
              "Director              0\n",
              "Actors                0\n",
              "Year                  0\n",
              "Runtime (Minutes)     0\n",
              "Rating                0\n",
              "Votes                 0\n",
              "Revenue (Millions)    0\n",
              "Metascore             0\n",
              "dtype: int64"
            ]
          },
          "metadata": {
            "tags": []
          },
          "execution_count": 37
        }
      ]
    },
    {
      "cell_type": "code",
      "metadata": {
        "colab": {
          "base_uri": "https://localhost:8080/"
        },
        "id": "5H2nL3T15Wys",
        "outputId": "f136ab3c-872a-4397-ea1d-0a9f796c62e4"
      },
      "source": [
        "df1.isna().any()"
      ],
      "execution_count": null,
      "outputs": [
        {
          "output_type": "execute_result",
          "data": {
            "text/plain": [
              "Rank                  False\n",
              "Title                 False\n",
              "Genre                 False\n",
              "Description           False\n",
              "Director              False\n",
              "Actors                False\n",
              "Year                  False\n",
              "Runtime (Minutes)     False\n",
              "Rating                False\n",
              "Votes                 False\n",
              "Revenue (Millions)    False\n",
              "Metascore             False\n",
              "dtype: bool"
            ]
          },
          "metadata": {
            "tags": []
          },
          "execution_count": 38
        }
      ]
    },
    {
      "cell_type": "code",
      "metadata": {
        "colab": {
          "base_uri": "https://localhost:8080/",
          "height": 664
        },
        "id": "kkY29Ocg8dza",
        "outputId": "f2172b68-cc4c-4ef5-ecfd-239af9293516"
      },
      "source": [
        "msno.bar(df1.sample(1000))"
      ],
      "execution_count": null,
      "outputs": [
        {
          "output_type": "execute_result",
          "data": {
            "text/plain": [
              "<matplotlib.axes._subplots.AxesSubplot at 0x7f6738fbfc50>"
            ]
          },
          "metadata": {
            "tags": []
          },
          "execution_count": 39
        },
        {
          "output_type": "display_data",
          "data": {
            "image/png": "[encoded data removed]",
            "text/plain": [
              "<Figure size 1728x720 with 3 Axes>"
            ]
          },
          "metadata": {
            "tags": [],
            "needs_background": "light"
          }
        }
      ]
    },
    {
      "cell_type": "markdown",
      "metadata": {
        "id": "eM74hMaN64VE"
      },
      "source": [
        "<b>10) Apply( ) functions"
      ]
    },
    {
      "cell_type": "code",
      "metadata": {
        "colab": {
          "base_uri": "https://localhost:8080/"
        },
        "id": "DyxMK25H64aM",
        "outputId": "23e23a62-d6ab-4574-bfca-39c6877fe438"
      },
      "source": [
        "df1.duplicated().sum()"
      ],
      "execution_count": null,
      "outputs": [
        {
          "output_type": "execute_result",
          "data": {
            "text/plain": [
              "0"
            ]
          },
          "metadata": {
            "tags": []
          },
          "execution_count": 40
        }
      ]
    },
    {
      "cell_type": "code",
      "metadata": {
        "colab": {
          "base_uri": "https://localhost:8080/"
        },
        "id": "jfdmSRsS9pHR",
        "outputId": "6b3ccd1f-6d52-4617-f129-e3f6cbe0dbfa"
      },
      "source": [
        "df1.skew()"
      ],
      "execution_count": null,
      "outputs": [
        {
          "output_type": "execute_result",
          "data": {
            "text/plain": [
              "Rank                  0.000000\n",
              "Year                 -0.689879\n",
              "Runtime (Minutes)     0.846713\n",
              "Rating               -0.743142\n",
              "Votes                 2.507918\n",
              "Revenue (Millions)    2.710506\n",
              "Metascore            -0.767038\n",
              "dtype: float64"
            ]
          },
          "metadata": {
            "tags": []
          },
          "execution_count": 41
        }
      ]
    },
    {
      "cell_type": "code",
      "metadata": {
        "colab": {
          "base_uri": "https://localhost:8080/"
        },
        "id": "IbHjLmxF9umf",
        "outputId": "02023a63-9f4d-45eb-b46c-3f1665ae92ec"
      },
      "source": [
        "df1.kurt()"
      ],
      "execution_count": null,
      "outputs": [
        {
          "output_type": "execute_result",
          "data": {
            "text/plain": [
              "Rank                  -1.200000\n",
              "Year                  -0.821964\n",
              "Runtime (Minutes)      0.858321\n",
              "Rating                 1.322270\n",
              "Votes                 11.312681\n",
              "Revenue (Millions)    11.447775\n",
              "Metascore              0.429306\n",
              "dtype: float64"
            ]
          },
          "metadata": {
            "tags": []
          },
          "execution_count": 42
        }
      ]
    },
    {
      "cell_type": "code",
      "metadata": {
        "colab": {
          "base_uri": "https://localhost:8080/"
        },
        "id": "fmTF5RJs91xR",
        "outputId": "c7afb4cd-97b3-4812-c12e-5a98549fe99a"
      },
      "source": [
        "df1.mean()"
      ],
      "execution_count": null,
      "outputs": [
        {
          "output_type": "execute_result",
          "data": {
            "text/plain": [
              "Rank                     500.50000\n",
              "Year                    2012.78300\n",
              "Runtime (Minutes)        113.17200\n",
              "Rating                     6.72320\n",
              "Votes                 169808.25500\n",
              "Revenue (Millions)        72.33796\n",
              "Metascore                 55.21000\n",
              "dtype: float64"
            ]
          },
          "metadata": {
            "tags": []
          },
          "execution_count": 43
        }
      ]
    },
    {
      "cell_type": "code",
      "metadata": {
        "colab": {
          "base_uri": "https://localhost:8080/"
        },
        "id": "YI_96q3D910B",
        "outputId": "cde4f205-033a-494d-b525-2ae324184b4d"
      },
      "source": [
        "df1.median()"
      ],
      "execution_count": null,
      "outputs": [
        {
          "output_type": "execute_result",
          "data": {
            "text/plain": [
              "Rank                     500.500\n",
              "Year                    2014.000\n",
              "Runtime (Minutes)        111.000\n",
              "Rating                     6.800\n",
              "Votes                 110799.000\n",
              "Revenue (Millions)        37.145\n",
              "Metascore                 58.000\n",
              "dtype: float64"
            ]
          },
          "metadata": {
            "tags": []
          },
          "execution_count": 44
        }
      ]
    },
    {
      "cell_type": "code",
      "metadata": {
        "colab": {
          "base_uri": "https://localhost:8080/"
        },
        "id": "f8EPBy83912b",
        "outputId": "d83d6d50-8844-409b-d6f1-bb61796dae17"
      },
      "source": [
        "df1.max()"
      ],
      "execution_count": null,
      "outputs": [
        {
          "output_type": "execute_result",
          "data": {
            "text/plain": [
              "Rank                                                               1000\n",
              "Title                                                          Zootopia\n",
              "Genre                                                      Thriller,War\n",
              "Description           Young, up-and-coming martial artist, Bruce Lee...\n",
              "Director                                                  Zackary Adler\n",
              "Actors                Zooey Deschanel, Joseph Gordon-Levitt, Geoffre...\n",
              "Year                                                               2016\n",
              "Runtime (Minutes)                                                   191\n",
              "Rating                                                                9\n",
              "Votes                                                           1791916\n",
              "Revenue (Millions)                                               936.63\n",
              "Metascore                                                           100\n",
              "dtype: object"
            ]
          },
          "metadata": {
            "tags": []
          },
          "execution_count": 45
        }
      ]
    },
    {
      "cell_type": "code",
      "metadata": {
        "colab": {
          "base_uri": "https://localhost:8080/"
        },
        "id": "eNtl3Bg9915F",
        "outputId": "948306ff-122e-41c7-f8c8-ecf128db1665"
      },
      "source": [
        "df1.min()"
      ],
      "execution_count": null,
      "outputs": [
        {
          "output_type": "execute_result",
          "data": {
            "text/plain": [
              "Rank                                                                  1\n",
              "Title                                              (500) Days of Summer\n",
              "Genre                                                            Action\n",
              "Description           \"21\" is the fact-based story about six MIT stu...\n",
              "Director                                                     Aamir Khan\n",
              "Actors                Aamir Khan, Anushka Sharma, Sanjay Dutt,Boman ...\n",
              "Year                                                               2006\n",
              "Runtime (Minutes)                                                    66\n",
              "Rating                                                              1.9\n",
              "Votes                                                                61\n",
              "Revenue (Millions)                                                    0\n",
              "Metascore                                                             0\n",
              "dtype: object"
            ]
          },
          "metadata": {
            "tags": []
          },
          "execution_count": 46
        }
      ]
    },
    {
      "cell_type": "code",
      "metadata": {
        "colab": {
          "base_uri": "https://localhost:8080/",
          "height": 606
        },
        "id": "_HnSH1Qu917y",
        "outputId": "1e41db1f-6cb3-4035-dc00-2fa021359d5b"
      },
      "source": [
        "df1.mode()"
      ],
      "execution_count": null,
      "outputs": [
        {
          "output_type": "execute_result",
          "data": {
            "text/html": [
              "<div>\n",
              "<style scoped>\n",
              "    .dataframe tbody tr th:only-of-type {\n",
              "        vertical-align: middle;\n",
              "    }\n",
              "\n",
              "    .dataframe tbody tr th {\n",
              "        vertical-align: top;\n",
              "    }\n",
              "\n",
              "    .dataframe thead th {\n",
              "        text-align: right;\n",
              "    }\n",
              "</style>\n",
              "<table border=\"1\" class=\"dataframe\">\n",
              "  <thead>\n",
              "    <tr style=\"text-align: right;\">\n",
              "      <th></th>\n",
              "      <th>Rank</th>\n",
              "      <th>Title</th>\n",
              "      <th>Genre</th>\n",
              "      <th>Description</th>\n",
              "      <th>Director</th>\n",
              "      <th>Actors</th>\n",
              "      <th>Year</th>\n",
              "      <th>Runtime (Minutes)</th>\n",
              "      <th>Rating</th>\n",
              "      <th>Votes</th>\n",
              "      <th>Revenue (Millions)</th>\n",
              "      <th>Metascore</th>\n",
              "    </tr>\n",
              "  </thead>\n",
              "  <tbody>\n",
              "    <tr>\n",
              "      <th>0</th>\n",
              "      <td>1</td>\n",
              "      <td>The Host</td>\n",
              "      <td>Action,Adventure,Sci-Fi</td>\n",
              "      <td>\"21\" is the fact-based story about six MIT stu...</td>\n",
              "      <td>Ridley Scott</td>\n",
              "      <td>Daniel Radcliffe, Emma Watson, Rupert Grint, M...</td>\n",
              "      <td>2016.0</td>\n",
              "      <td>108.0</td>\n",
              "      <td>7.1</td>\n",
              "      <td>291.0</td>\n",
              "      <td>0.0</td>\n",
              "      <td>0.0</td>\n",
              "    </tr>\n",
              "    <tr>\n",
              "      <th>1</th>\n",
              "      <td>2</td>\n",
              "      <td>NaN</td>\n",
              "      <td>NaN</td>\n",
              "      <td>\"Mr. Church\" tells the story of a unique frien...</td>\n",
              "      <td>NaN</td>\n",
              "      <td>Gerard Butler, Aaron Eckhart, Morgan Freeman,A...</td>\n",
              "      <td>NaN</td>\n",
              "      <td>NaN</td>\n",
              "      <td>NaN</td>\n",
              "      <td>1427.0</td>\n",
              "      <td>NaN</td>\n",
              "      <td>NaN</td>\n",
              "    </tr>\n",
              "    <tr>\n",
              "      <th>2</th>\n",
              "      <td>3</td>\n",
              "      <td>NaN</td>\n",
              "      <td>NaN</td>\n",
              "      <td>\"The Thinning\" takes place in a post-apocalypt...</td>\n",
              "      <td>NaN</td>\n",
              "      <td>Jennifer Lawrence, Josh Hutcherson, Liam Hemsw...</td>\n",
              "      <td>NaN</td>\n",
              "      <td>NaN</td>\n",
              "      <td>NaN</td>\n",
              "      <td>97141.0</td>\n",
              "      <td>NaN</td>\n",
              "      <td>NaN</td>\n",
              "    </tr>\n",
              "    <tr>\n",
              "      <th>3</th>\n",
              "      <td>4</td>\n",
              "      <td>NaN</td>\n",
              "      <td>NaN</td>\n",
              "      <td>#1 NASCAR driver Ricky Bobby stays atop the he...</td>\n",
              "      <td>NaN</td>\n",
              "      <td>Shia LaBeouf, Megan Fox, Josh Duhamel, Tyrese ...</td>\n",
              "      <td>NaN</td>\n",
              "      <td>NaN</td>\n",
              "      <td>NaN</td>\n",
              "      <td>NaN</td>\n",
              "      <td>NaN</td>\n",
              "      <td>NaN</td>\n",
              "    </tr>\n",
              "    <tr>\n",
              "      <th>4</th>\n",
              "      <td>5</td>\n",
              "      <td>NaN</td>\n",
              "      <td>NaN</td>\n",
              "      <td>12-year-old orphan Peter is spirited away to t...</td>\n",
              "      <td>NaN</td>\n",
              "      <td>NaN</td>\n",
              "      <td>NaN</td>\n",
              "      <td>NaN</td>\n",
              "      <td>NaN</td>\n",
              "      <td>NaN</td>\n",
              "      <td>NaN</td>\n",
              "      <td>NaN</td>\n",
              "    </tr>\n",
              "    <tr>\n",
              "      <th>...</th>\n",
              "      <td>...</td>\n",
              "      <td>...</td>\n",
              "      <td>...</td>\n",
              "      <td>...</td>\n",
              "      <td>...</td>\n",
              "      <td>...</td>\n",
              "      <td>...</td>\n",
              "      <td>...</td>\n",
              "      <td>...</td>\n",
              "      <td>...</td>\n",
              "      <td>...</td>\n",
              "      <td>...</td>\n",
              "    </tr>\n",
              "    <tr>\n",
              "      <th>995</th>\n",
              "      <td>996</td>\n",
              "      <td>NaN</td>\n",
              "      <td>NaN</td>\n",
              "      <td>With their warning about Lord Voldemort's retu...</td>\n",
              "      <td>NaN</td>\n",
              "      <td>NaN</td>\n",
              "      <td>NaN</td>\n",
              "      <td>NaN</td>\n",
              "      <td>NaN</td>\n",
              "      <td>NaN</td>\n",
              "      <td>NaN</td>\n",
              "      <td>NaN</td>\n",
              "    </tr>\n",
              "    <tr>\n",
              "      <th>996</th>\n",
              "      <td>997</td>\n",
              "      <td>NaN</td>\n",
              "      <td>NaN</td>\n",
              "      <td>Work causes a single mother to move to China w...</td>\n",
              "      <td>NaN</td>\n",
              "      <td>NaN</td>\n",
              "      <td>NaN</td>\n",
              "      <td>NaN</td>\n",
              "      <td>NaN</td>\n",
              "      <td>NaN</td>\n",
              "      <td>NaN</td>\n",
              "      <td>NaN</td>\n",
              "    </tr>\n",
              "    <tr>\n",
              "      <th>997</th>\n",
              "      <td>998</td>\n",
              "      <td>NaN</td>\n",
              "      <td>NaN</td>\n",
              "      <td>Years after a plague kills most of humanity an...</td>\n",
              "      <td>NaN</td>\n",
              "      <td>NaN</td>\n",
              "      <td>NaN</td>\n",
              "      <td>NaN</td>\n",
              "      <td>NaN</td>\n",
              "      <td>NaN</td>\n",
              "      <td>NaN</td>\n",
              "      <td>NaN</td>\n",
              "    </tr>\n",
              "    <tr>\n",
              "      <th>998</th>\n",
              "      <td>999</td>\n",
              "      <td>NaN</td>\n",
              "      <td>NaN</td>\n",
              "      <td>Young Ender Wiggin is recruited by the Interna...</td>\n",
              "      <td>NaN</td>\n",
              "      <td>NaN</td>\n",
              "      <td>NaN</td>\n",
              "      <td>NaN</td>\n",
              "      <td>NaN</td>\n",
              "      <td>NaN</td>\n",
              "      <td>NaN</td>\n",
              "      <td>NaN</td>\n",
              "    </tr>\n",
              "    <tr>\n",
              "      <th>999</th>\n",
              "      <td>1000</td>\n",
              "      <td>NaN</td>\n",
              "      <td>NaN</td>\n",
              "      <td>Young, up-and-coming martial artist, Bruce Lee...</td>\n",
              "      <td>NaN</td>\n",
              "      <td>NaN</td>\n",
              "      <td>NaN</td>\n",
              "      <td>NaN</td>\n",
              "      <td>NaN</td>\n",
              "      <td>NaN</td>\n",
              "      <td>NaN</td>\n",
              "      <td>NaN</td>\n",
              "    </tr>\n",
              "  </tbody>\n",
              "</table>\n",
              "<p>1000 rows × 12 columns</p>\n",
              "</div>"
            ],
            "text/plain": [
              "     Rank     Title  ... Revenue (Millions) Metascore\n",
              "0       1  The Host  ...                0.0       0.0\n",
              "1       2       NaN  ...                NaN       NaN\n",
              "2       3       NaN  ...                NaN       NaN\n",
              "3       4       NaN  ...                NaN       NaN\n",
              "4       5       NaN  ...                NaN       NaN\n",
              "..    ...       ...  ...                ...       ...\n",
              "995   996       NaN  ...                NaN       NaN\n",
              "996   997       NaN  ...                NaN       NaN\n",
              "997   998       NaN  ...                NaN       NaN\n",
              "998   999       NaN  ...                NaN       NaN\n",
              "999  1000       NaN  ...                NaN       NaN\n",
              "\n",
              "[1000 rows x 12 columns]"
            ]
          },
          "metadata": {
            "tags": []
          },
          "execution_count": 47
        }
      ]
    }
  ]
}
